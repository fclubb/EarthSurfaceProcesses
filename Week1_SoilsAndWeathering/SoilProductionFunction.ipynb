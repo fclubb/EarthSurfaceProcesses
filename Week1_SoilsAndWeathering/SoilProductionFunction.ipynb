{
 "cells": [
  {
   "cell_type": "markdown",
   "metadata": {},
   "source": [
    "# Hillslope Evolution Modelling Lab\n",
    "In this lab you will apply a simple model for how hillslopes develop over time. The model is written in the Python computer programming language, but you don't need any prior knowledge of computer programming. The aims of this lab are\n",
    "* Run the numerical model to simulate hillslope evolution\n",
    "* Understand the concept of steady-state in hillslope morphology\n",
    "* Explore the controls on how rapidly hillslopes evolve through time\n",
    "* Create and explain graphs/figures that demonstrate particular controls on hillslope form\n",
    "\n",
    "### Python\n",
    "The programming language we are using in this lab is called Python.  No prior knowledge of programming is required for this lab. Learning how to be a programmer is not the aim! However, this sort of scientific computing is becoming more common place in research and consultancy, so it won't do you any harm to see it in action. Python is multifunctional, for example it can interface with ArcGIS (the software used in the previous lab) to automate workflows.\n",
    "\n",
    "**To run a code block, click in a cell, hold down shift, and press enter.** An asterisk in square brackets `In [*]:` will appear while the code is being executed, and this will change to a number `In [1]:` when the code is finished. *The order in which you execute the code blocks matters, they must be run in sequence.* \n",
    "\n",
    "Inside blocks of python code there are comments indicated by lines that start with `#`. These lines are not computer code but rather comments providing information about what the code is doing to help you follow along. Before we get started we need to tell python which tools we want to use (these are called modules):"
   ]
  },
  {
   "cell_type": "code",
   "execution_count": null,
   "metadata": {
    "collapsed": true
   },
   "outputs": [],
   "source": [
    "# import modules for numerical calculations and for plotting\n",
    "import numpy as np\n",
    "import matplotlib.pyplot as plt\n",
    "\n",
    "# tell python to allow plotting to occur within the page\n",
    "%matplotlib inline\n",
    "\n",
    "# Customise figure style\n",
    "from matplotlib import rc\n",
    "rc('font',**{'family':'sans-serif','sans-serif':['Arial']})\n",
    "rc('font',size=16)\n",
    "\n",
    "# Couple of other things for displaying model progress\n",
    "from ipywidgets import FloatProgress\n",
    "from IPython.display import display\n",
    "import os"
   ]
  },
  {
   "cell_type": "markdown",
   "metadata": {},
   "source": [
    "## Hillslope Mass Conservation\n",
    "In the lectures you have been considering the principle of mass conservation and how it can be applied to study and understand hillslopes. \n",
    "\n",
    "$$\n",
    "\\begin{equation}\n",
    "{{dh}\\over{dt}} = {{\\rho_r}\\over{\\rho_s}} W + {{dq}\\over{dx}}\n",
    "\\end{equation}\n",
    "$$\n",
    "\n",
    "This equation is tracking the change in soil thickness $h$ through time $t$ and depends on the local rate of new soil production by weathering $W$ and the divergence in hillslope sediment flux $q$ along the length of the hillslope (where $x$ denotes distance along the hillslope). Weathering rate is modified by the ratio of the bulk density of bedrock $\\rho_r$ and dry soil $\\rho_s$.\n",
    "\n",
    "Later in the lab you will explore how the hillslope mass balance equation can be implemented numerically and serve as an introduction to scientific computer programming. First you will look at the various components of this equation to deepen understanding of how they will influence hillslope soils and hillslope morphology.\n",
    "\n",
    "## Soil Production\n",
    "Last week we identified that the rate of weathering on a hillslope could be described as an exponential function that depends on soil depth, with weathering rates declining as soil gets deeper (Heimsath et al., 1997):\n",
    "\n",
    "$$\n",
    "\\begin{equation}\n",
    "W = W_0 e^{-kh}\n",
    "\\end{equation}\n",
    "$$\n",
    "\n",
    "Here, $W_0$ is the weathering rate when there is no soil cover and $k$ is an empirical constant that will depend on bedrock type, and the sorts of weathering processes operating on it. Typical values for $W_0$ are in the range 0.01-1 mm/yr [(Perron, 2017)](http://www.annualreviews.org/doi/abs/10.1146/annurev-earth-060614-105405). Note that when you're doing numerical calculations you have to be consistent with units. We will always do calculations in length units of ***metres*** (m), time units of ***years*** (y) and mass units of ***kilograms*** (kg). However we might convert to other units for the purposes of plotting sensible numbers (e.g. Weathering rates in mm/y = m/y $\\times$ 1000).\n",
    "\n",
    "Let's take a look at what this function looks like by plotting it with python:"
   ]
  },
  {
   "cell_type": "code",
   "execution_count": null,
   "metadata": {},
   "outputs": [],
   "source": [
    "# define a range of soil thicknesses from 0-5m in 0.1m increments over which to evaluate the equation\n",
    "h = np.arange(0.,5.,0.1)\n",
    "\n",
    "# define the constants\n",
    "W_0 = 0.001 # m/year\n",
    "k = 0.5 # dimensionless\n",
    "\n",
    "# execute the soil production equation, we have to use asterisk to times things together\n",
    "W = W_0*np.exp(-k*h)\n",
    "\n",
    "# set up a figure and set of axes for plotting\n",
    "fig, ax = plt.subplots()\n",
    "\n",
    "# make a line plot of h vs W (coloured blue)\n",
    "# we'll convert W from m/year to mm/year by multiplying by 1000 since there are 1000 mm in a m\n",
    "ax.plot(h,W*1000.,'b-')\n",
    "plt.xlabel(\"Soil Depth (m)\")\n",
    "plt.ylabel(\"Weathering Rate (mm/y)\")\n",
    "plt.tight_layout()"
   ]
  },
  {
   "cell_type": "markdown",
   "metadata": {},
   "source": [
    "Let's briefly explore how the constant values influence weathering rates. First we'll modify the $k$ parameter, feel free to choose your own value by changing the number in the code cell:"
   ]
  },
  {
   "cell_type": "code",
   "execution_count": null,
   "metadata": {},
   "outputs": [],
   "source": [
    "# k parameter has been modified here, you could choose your own value\n",
    "k = 1.\n",
    "\n",
    "# execute the soil production equation again with the new k\n",
    "W2 = W_0*np.exp(-k*h)\n",
    "\n",
    "# plot the new result with a red line\n",
    "ax.plot(h,W2*1000.,'r-')\n",
    "\n",
    "# display the updated figure\n",
    "fig"
   ]
  },
  {
   "cell_type": "markdown",
   "metadata": {},
   "source": [
    "Now let's try changing the weathering rate when there is no soil present $W_0$:"
   ]
  },
  {
   "cell_type": "code",
   "execution_count": null,
   "metadata": {},
   "outputs": [],
   "source": [
    "# modify W_0 parameter here\n",
    "W_0 = 0.0005 #m/year\n",
    "\n",
    "# execute the soil production equation again with the new W_0\n",
    "W3 = W_0*np.exp(-k*h)\n",
    "\n",
    "# plot the new result with a black line\n",
    "ax.plot(h,W3*1000.,'k-')\n",
    "\n",
    "# display the updated figure\n",
    "fig"
   ]
  },
  {
   "cell_type": "markdown",
   "metadata": {},
   "source": [
    "We can save this graph to a file so that it can be used in a document or a report with the following command:"
   ]
  },
  {
   "cell_type": "code",
   "execution_count": null,
   "metadata": {
    "collapsed": true
   },
   "outputs": [],
   "source": [
    "fig.savefig(\"Soil_Production_Plot.pdf\")"
   ]
  },
  {
   "cell_type": "markdown",
   "metadata": {},
   "source": [
    "<div class=\"alert alert-block alert-info\">\n",
    "<font color=\"black\">\n",
    "<h3>ASSESSMENT TASK 1 (11%)</h3>\n",
    "<p>Copy the figure into your assessment document and write a figure caption that annotates what your soil production plot is showing. The caption should be a paragraph of text that describes each line, and the parameters that have been used to create them, and offers a brief explanation of how the parameters used influence rates of soil production. For an indication of the level of detail required, you could look at examples of captions to figures in journal articles, such as Figure 3 in [Heimsath et al. (2012)](https://www.nature.com/ngeo/journal/v5/n3/pdf/ngeo1380.pdf).</p>\n",
    "<p></p>\n",
    "</font>\n",
    "</div>"
   ]
  },
  {
   "cell_type": "markdown",
   "metadata": {},
   "source": [
    "## Hillslope Sediment Flux\n",
    "\n",
    "In today's lecture we identified two geomorphic transport laws that describe the downslope volumetric flux rate $q_s$ of hillslope sediment due to slope-dependent processes. The first rule assumes that sediment transport processes combine to make downslope flux linearly proportional to the topographic gradient ($S$) and an efficiency coefficient ($D$):\n",
    "\n",
    "$$\n",
    "\\begin{equation}\n",
    "q_s = DS \\qquad \\textrm{where} \\qquad S = {{dz}\\over{dx}}\n",
    "\\end{equation}\n",
    "$$\n",
    "\n",
    "Note that $z$ denotes elevation at the surface and $x$ distance along the hillslope, so the slope is related to the hillslope angle. \n",
    "\n",
    "![title](images/slope.png \"ShowMyImage\")\n",
    "\n",
    "The second sediment transport rule instead states that the downslope flux of sediment is non-linearly proportional to the topographic gradient, such that the flux rate becomes very rapid as $S$ approaches a limiting gradient $S_C$:\n",
    "\n",
    "$$\n",
    "\\begin{equation}\n",
    "q_s = {{-D S}\\over{1-(S/S_C)^2}}\n",
    "\\end{equation}\n",
    "$$\n",
    "\n",
    "You will now do some calculations to investigate how hillslope sediment flux $q_s$ varies as a function of slope $S$ and the diffusivity coefficient $D$. A compilation of reported values of the diffusivity coefficient showed that it varies 0.1-50 m<sup>2</sup>/y [(Hurst et al. 2013)](http://onlinelibrary.wiley.com/doi/10.1002/jgrf.20049/full). Values of the critical slope term $S_C$ have been reported to range from 0.8-1.25  [(Grieve et al. 2016)](https://www.earth-surf-dynam.net/4/309/2016/).\n",
    "\n",
    "First we'll calculate $q_s$ according to the linear diffusion equation, using typical value of $D$, and plot the resulting relationship:"
   ]
  },
  {
   "cell_type": "code",
   "execution_count": null,
   "metadata": {},
   "outputs": [],
   "source": [
    "# define a range of slope values from 0-1 (same as 0-45 degrees) in 0.01 increments \n",
    "# over which to evaluate the sediment transport equation\n",
    "S = np.arange(0.,1.,0.01)\n",
    "\n",
    "# define the constants\n",
    "D = 0.001 # m^2/year\n",
    "S_C = 1. # dimensionless\n",
    "\n",
    "# evaluate potential sediment flux using the linear sediment transport equation\n",
    "q_sl = D*S\n",
    "\n",
    "# set up a figure and set of axes for plotting\n",
    "fig, ax = plt.subplots()\n",
    "\n",
    "# make a line plot of h vs W (dashed line coloured blue)\n",
    "# we'll convert W from m/year to mm/year by multiplying by 1000 since there are 1000 mm in a m\n",
    "ax.plot(S,q_sl,'b--')\n",
    "plt.xlabel(\"Slope (m/m)\")\n",
    "plt.ylabel(\"Sediment Flux Rate (m$^2$/y)\")\n",
    "plt.tight_layout()"
   ]
  },
  {
   "cell_type": "markdown",
   "metadata": {},
   "source": [
    "Next, compare the results of the linear diffusion equation to those of the non-linear diffusion equation by recalculating $q_s$ and adding the results to the plot:"
   ]
  },
  {
   "cell_type": "code",
   "execution_count": null,
   "metadata": {},
   "outputs": [],
   "source": [
    "# evaluate potential sediment flux using the non-linear sediment transport equation\n",
    "# note that to do raise a value to a power we use two asterisks\n",
    "q_sn = D*S/(1-(S/S_C)**2.)\n",
    "\n",
    "# plot the new result as a solid blue line\n",
    "ax.plot(S,q_sn,'b-')\n",
    "\n",
    "# because the nonlinear equation results in sediment flux approaching infinity, \n",
    "# we will limit the range of data we visualise\n",
    "ax.set_ylim(0,0.02)\n",
    "fig"
   ]
  },
  {
   "cell_type": "markdown",
   "metadata": {},
   "source": [
    "Try adjusting the diffusivity coefficient $D$ and see how this influences the downslope rate of sediment transport predicted by both the flux laws:"
   ]
  },
  {
   "cell_type": "code",
   "execution_count": null,
   "metadata": {},
   "outputs": [],
   "source": [
    "# Change the transport coefficient\n",
    "D = 0.005\n",
    "\n",
    "# recalculate the predicted sediment flux for both flux laws:\n",
    "q_sl = D*S\n",
    "q_sn = D*S/(1-(S/S_C)**2.)\n",
    "\n",
    "# plot the results in red\n",
    "ax.plot(S,q_sl,'r--')\n",
    "ax.plot(S,q_sn,'r-')\n",
    "fig"
   ]
  },
  {
   "cell_type": "markdown",
   "metadata": {},
   "source": [
    "Now instead try changing the critical slope gradient $S_C$ and see how this influences the downslope rate of sediment transport predicted by both the flux laws. If you reduce the $S_C$ value to less than 1, but still try to evaluate the nonlinear flux equation at values of $S > S_C$, python will give you a `divide by zero` warning because the bottom of the equation goes to zero. Don't worry about this."
   ]
  },
  {
   "cell_type": "code",
   "execution_count": null,
   "metadata": {},
   "outputs": [],
   "source": [
    "# Change the transport coefficient\n",
    "S_C = 0.8\n",
    "\n",
    "# recalculate the predicted sediment flux for both flux laws:\n",
    "q_sl = D*S\n",
    "q_sn = D*S/(1-(S/S_C)**2.)\n",
    "\n",
    "# plot the results in black, this time a dotted line for the linear flux law\n",
    "ax.plot(S,q_sl,'k:')\n",
    "ax.plot(S,q_sn,'k-')\n",
    "fig"
   ]
  },
  {
   "cell_type": "markdown",
   "metadata": {},
   "source": [
    "Don't forget to save this figure..."
   ]
  },
  {
   "cell_type": "code",
   "execution_count": null,
   "metadata": {
    "collapsed": true
   },
   "outputs": [],
   "source": [
    "fig.savefig(\"Sediment_Flux_Plot.pdf\")"
   ]
  },
  {
   "cell_type": "markdown",
   "metadata": {},
   "source": [
    "<div class=\"alert alert-block alert-info\">\n",
    "<font color=\"black\">\n",
    "<h3>ASSESSMENT TASK 2 (11%)</h3>\n",
    "<p>Copy the figure into your assessment document and write a figure caption that annotates what your sediment flux plot is showing. The caption should be a paragraph of text that describes each line, and the parameters that have been used to create them, and offers a brief explanation of how the parameters used influence rates of sediment transport downslope. For an indication of the level of detail required, you could look at examples of captions to figures in journal articles, such as Figure 8 in [Roering (2008)](https://pubs.geoscienceworld.org/gsabulletin/article/120/9-10/1248/2317/how-well-can-hillslope-evolution-models-explain).</p>\n",
    "<p></p>\n",
    "</font>\n",
    "</div>"
   ]
  },
  {
   "cell_type": "markdown",
   "metadata": {},
   "source": [
    "## Hillslope evolution model\n",
    "To model hillslope evolution, the equations for weathering and downslope sediment transport need to be implemented numerically.  The image below shows a schematic diagram visualising the model setup that will be used. You will model hillslopes that are bound on either side by a river channel. The river is assumed to be eroding downward at a rate equal to the rate at which the landscape is being uplifted ($E=U$), such that the elevation of the channel does not change through time. The hillslope is split into a series of columns of equal width ($dx$).\n",
    "\n",
    "![title](images/model_schematic.png \"ShowMyImage\")\n",
    "\n",
    "The model will track the uplift of the bedrock/soil interface ($z_b$), carry out weathering ($W$) depending on soil depth ($h$), move soil between columns depending in some way (linear or nonlinear) on the gradient of the hillslope surface ($dz/dx$), and update soil thickness ($h$). The following flow diagram shows the routine. The procedure is repeated a number of times until a prescribed time to stop the model is reached.\n",
    "\n",
    "![title](images/flow_diagram.png \"ShowMyImage\")\n",
    "\n",
    "The code below is a class function that ***defines*** the model. This means that we create the model as a set of instruction but doesn't actually execute them or run the model yet. We will ***call*** this class function later once we are ready to run the model. You do not need to spend loads of time fully understanding exactly how the model works, but cast your eyes through it reading the comments to see that the structure reflects the flow diagram above. Then execute the cell containing the model so that it is ***defined***."
   ]
  },
  {
   "cell_type": "code",
   "execution_count": null,
   "metadata": {
    "collapsed": true
   },
   "outputs": [],
   "source": [
    "# The main model goes here as a python class\n",
    "class Hillslope1D:\n",
    "    \n",
    "    \"\"\" \n",
    "    A simple 1D-hillslope evolution model for teaching purposes\n",
    "    \n",
    "    Martin D. Hurst\n",
    "    University of Glasgow\n",
    "    September 2017\n",
    "        \n",
    "    \"\"\"\n",
    "    \n",
    "    # setup an initialisation function\n",
    "    # This defines the default variables and parameters for the model\n",
    "    def __init__(self):\n",
    "        \n",
    "        # default spatial domain\n",
    "        self.dx = (1.)     # column spacing (metres)\n",
    "        self.Lh = 50.      # hillslope length (m)\n",
    "        \n",
    "        # default boundary conditions\n",
    "        self.E1 = 0.0001    # erosion rate at left boundary (metres/year)\n",
    "        self.E2 = 0.0001    # erosion rate at right boundary (m/y)\n",
    "        \n",
    "        # default geomorphic constants\n",
    "        self.FluxType = \"LinearDiffusion\" # default stype of sediment flux\n",
    "        self.D = 0.01      # diffusivity coefficient (m^2/y)\n",
    "        self.Sc = 1.       # critical slope gradient (m/m)\n",
    "        self.W_0 = 0.001  # maximum weathering rate (m/y)\n",
    "        self.k = 1.       # weathering scaling parameter\n",
    "        self.rho_r = 2650. # density of bedrock (kilograms/metre^3)\n",
    "        self.rho_s = 1400. # density of soil (kg/m^3)\n",
    "        \n",
    "        # setup the time control\n",
    "        self.Time = 0.          # we will start at time 0 (years)\n",
    "        self.dt = 10.           # time step (y)\n",
    "        self.EndTime = 500000.  # time the model will stop (y)\n",
    "        \n",
    "        # setup plotting control\n",
    "        self.PlotFigures = True\n",
    "        self.PlotTime = 0.\n",
    "        self.PlotInterval = 10000.\n",
    "        \n",
    "        # setup the initial model domain (this is defunct as its done at the start of a run anyway)\n",
    "        self.x = np.arange(-self.Lh,self.Lh+self.dx,self.dx)\n",
    "        self.zb = np.zeros(len(self.x))\n",
    "        self.h = np.zeros(len(self.x))\n",
    "        self.z = np.zeros(len(self.x))\n",
    "    \n",
    "    # this function runs the model\n",
    "    def RunModel(self):\n",
    "        \n",
    "        # setup the initial model domain\n",
    "        self.x = np.arange(-self.Lh,self.Lh+self.dx,self.dx)\n",
    "        self.zb = np.zeros(len(self.x))\n",
    "        self.h = np.zeros(len(self.x))\n",
    "        self.z = np.zeros(len(self.x))\n",
    "        \n",
    "        # set up a figure for plotting the results\n",
    "        fig, ax = plt.subplots()\n",
    "        \n",
    "        # Create a progress bar to show the model is working\n",
    "        f = FloatProgress(min=self.Time,max=self.EndTime)\n",
    "        display(f)\n",
    "        \n",
    "        # Track model relief through time, need an empty list to update\n",
    "        Relief = []\n",
    "        MeanSoilDepth = []\n",
    "\n",
    "        # loop through time and update hillslope morphology\n",
    "        while self.Time <= self.EndTime:\n",
    "    \n",
    "            # update time\n",
    "            self.Time += self.dt\n",
    "\n",
    "            # Do uplift for the entire model domain\n",
    "            # note that we have to multiply the uplift rate by the length of our time step\n",
    "            # the longer the timestep the more uplift will have taken place\n",
    "            # this is the same for all of our rate calculation (e.g. soil production, sediment transport)\n",
    "            # the sign \"+=\" means to add it on to itself so X += 1 is the same as X = X + 1\n",
    "            self.zb += np.max([self.E1,self.E2])*self.dt\n",
    "\n",
    "            # Now erode the rivers at the model boundaries\n",
    "            # We can pass the instructions an index in square brackets to specify a particular \n",
    "            # place in the model. [0] refers to the first column (on the left) [-1] refers to\n",
    "            # the last column (on the right), which is where the rivers are.\n",
    "            self.zb[0] -= self.E1*self.dt\n",
    "            self.zb[-1] -= self.E2*self.dt\n",
    "\n",
    "            # Do the weathering with the soil production equation\n",
    "            # note we have to multiply by the amount of time passing again \n",
    "            # update the soil/bedrock boundary and soil thickness accordingly\n",
    "            # we dont bother doing this in the rivers as they've already eroded\n",
    "            # so just do it over the indexes [1:-1] to skip out the first and last columns\n",
    "            W = (self.rho_r/self.rho_s)*self.W_0*np.exp(-self.k*self.h)*self.dt\n",
    "            self.zb[1:-1] -= W[1:-1]\n",
    "            self.h[1:-1] += W[1:-1]\n",
    "\n",
    "            # Calculate the topographic slope between each of the hillslope boxes\n",
    "            # this will be positive on the left side and negative on the right\n",
    "            Slope = np.diff(self.z)/self.dx\n",
    "\n",
    "            # Check that the hillslopes haven't gotten too steep\n",
    "            # this will probably break the model if it happens\n",
    "            if np.any(Slope>self.Sc) and self.FluxType == \"NonlinearDiffusion\":\n",
    "                Slope[Slope>self.Sc] = 0.99*self.Sc\n",
    "\n",
    "            # Calculate the fluxes across the right hand boundary of each column\n",
    "            # for either linear or nonlinear flux laws\n",
    "            # note we have to multiply by the amount of time passing again \n",
    "            if self.FluxType == \"LinearDiffusion\":\n",
    "                Qs_out = -self.D*Slope*self.dt\n",
    "            elif self.FluxType == \"NonlinearDiffusion\":\n",
    "                Qs_out = -self.dt*self.D*Slope/(1-(Slope/self.Sc)**2.)\n",
    "\n",
    "            # Add flux for the last element as a copy of previous element\n",
    "            # to make sure the array is the same size as the model domain\n",
    "            Qs_out = np.append(Qs_out,Qs_out[-1])\n",
    "\n",
    "            # Get fluxes in as one column to the left from fluxes out\n",
    "            Qs_in = np.roll(Qs_out,1)\n",
    "\n",
    "            # Update soil thickness\n",
    "            # keep boundaries the same (rivers evacuate all sediment)\n",
    "            self.h[1:-1] += (Qs_in[1:-1] - Qs_out[1:-1])\n",
    "            \n",
    "            # update surface elevations\n",
    "            self.z = self.zb + self.h\n",
    "            \n",
    "            # Check that there is not negative soil depth and negative weathering depth\n",
    "            if np.any(self.h<0):\n",
    "                self.h[self.h<0] = 0\n",
    "            \n",
    "            if np.any(self.zb<0):\n",
    "                self.zb[self.zb<0] = 0\n",
    "                \n",
    "            # Plot hillslope morphology periodically\n",
    "            # depending the plotting interval specified\n",
    "            if self.Time >= self.PlotTime:\n",
    "                \n",
    "                # Calculate relief\n",
    "                Relief.append(np.ptp(self.z))\n",
    "                MeanSoilDepth.append(np.mean(self.h))\n",
    "            \n",
    "                # plot the hillslope surface profile\n",
    "                ax.plot(self.x,self.z,'k-',lw=1.)\n",
    "\n",
    "                # plot the streams\n",
    "                ax.plot([self.x[0],self.x[-1]],[self.zb[0],self.zb[-1]],'bo',zorder=10)\n",
    "\n",
    "                # plot the topographic divide\n",
    "                Divide=np.argmin(np.abs(Slope))\n",
    "                ax.plot(self.x[Divide],self.z[Divide],'ro',zorder=8)\n",
    "\n",
    "                # label the model runs\n",
    "                #ax.text(x[-1]+5,z[-1],str(np.int(self.Time/1000.))+\" ky\")\n",
    "                self.PlotTime += self.PlotInterval\n",
    "        \n",
    "                # update progress bar\n",
    "                f.value = self.Time\n",
    "\n",
    "        # Decorate the figure\n",
    "        ax.set_xlim(-self.Lh-0.1*self.Lh,self.Lh+0.1*self.Lh)\n",
    "        plt.xticks(np.arange(-self.Lh,self.Lh+self.dx,20.))\n",
    "        plt.xlabel('Distance (m)')\n",
    "        plt.ylabel('Elevation (m)')\n",
    "        plt.tight_layout()\n",
    "        \n",
    "        #check whether to display figures\n",
    "        if self.PlotFigures:\n",
    "            fig\n",
    "            fig.savefig(\"Fig1.pdf\")\n",
    "        \n",
    "        # Plot the final hillslope\n",
    "        fig2 = plt.figure()\n",
    "        ax2 = plt.subplot(111)\n",
    "        # plot the surface and bedrock elevations\n",
    "        ax2.plot(self.x,self.z,'k-')\n",
    "        ax2.plot(self.x,self.zb,'k-')\n",
    "        # plot the streams\n",
    "        ax2.plot([self.x[0],self.x[-1]],[self.zb[0],self.zb[-1]],'bo',ms=10,zorder=10)\n",
    "        # do some colouring in\n",
    "        ax2.fill(np.concatenate((self.x,self.x[::-1])),np.concatenate((self.z,self.zb[::-1])),color=[1.,0.98,0.7])\n",
    "        ax2.fill(np.concatenate((self.x,self.x[::-1])),np.concatenate((np.zeros(len(self.x)),self.zb[::-1])),color=[0.9,0.8,0.7])\n",
    "        plt.xlabel('Distance (m)')\n",
    "        plt.ylabel('Elevation (m)')\n",
    "        plt.ylim(0,np.max(self.z)+1)\n",
    "        ax2.set_xlim(-self.Lh-0.1*self.Lh,self.Lh+0.1*self.Lh)\n",
    "        plt.xticks(np.arange(-self.Lh,self.Lh+self.dx,20.))\n",
    "        plt.tight_layout()\n",
    "        \n",
    "        #check whether to display figures\n",
    "        if self.PlotFigures:\n",
    "            fig2\n",
    "            fig.savefig(\"Fig2.pdf\")\n",
    "        \n",
    "        # Plot relief through time\n",
    "        fig3 = plt.figure()\n",
    "        ax3 = plt.subplot(111)\n",
    "        Time = np.arange(0,self.EndTime+1,self.PlotInterval)/1000.\n",
    "        plt.plot(Time,Relief,'ko-')\n",
    "        plt.xlabel(\"Time (kyrs)\")\n",
    "        plt.ylabel(\"Hillslope Relief (m)\")\n",
    "        ax4 = plt.twinx()\n",
    "        plt.plot(Time,MeanSoilDepth,'go-')\n",
    "        # color code the axis\n",
    "        plt.ylabel(\"Mean Soil Depth (m)\",color='g')\n",
    "        ax4.spines['right'].set_color('g')\n",
    "        ax4.yaxis.label.set_color('g')\n",
    "        ax4.tick_params(axis='y', colors='g')\n",
    "        plt.tight_layout()\n",
    "        \n",
    "        #check whether to display figures\n",
    "        if self.PlotFigures:\n",
    "            fig3\n",
    "            fig.savefig(\"Fig3.pdf\")"
   ]
  },
  {
   "cell_type": "markdown",
   "metadata": {},
   "source": [
    "### Run the model with default parameters\n",
    "The code below will create an instance of the model which will automatically set itself up with the default parameters according to the code above. The default parameters are:\n",
    "\n",
    "Parameter|$dx$|$L_H$|$E_1$|$E_2$|$k$|$D$|$S_C$|$W_O$|$\\rho_r$|$\\rho_s$|$dt$|$t_{max}$|\n",
    ":-:|:-:|:-:|:-:|:-:|:-:|:-:|:-:|:-:|:-:|:-:|:-:|:-:|\n",
    "Value|1 m|50 m|0.0001 m/y|0.0001 m/y|1|0.01 m$^2$/y|1.0 m/m|0.001 m/y|2650 kg/m$^3$|1400 kg/m$^3$|10 y|500000 years\n",
    "\n",
    "Let's start by running the model with the default parameters and looking at the output generated. Three plots will be output: \n",
    "1. A plot of the hillslope morphology evolving through time\n",
    "2. A shaded plot of the final hillslope\n",
    "3. A time-series plot of hillslope relief\n",
    "By default, the results are plotted every 10,000 years."
   ]
  },
  {
   "cell_type": "code",
   "execution_count": null,
   "metadata": {},
   "outputs": [],
   "source": [
    "# Create a hillslope model and run\n",
    "MyHillslope = Hillslope1D()\n",
    "MyHillslope.RunModel()"
   ]
  },
  {
   "cell_type": "markdown",
   "metadata": {},
   "source": [
    "Note that these figures get saved automatically as **Fig1.pdf**, **Fig2.pdf** and **Fig3.pdf**. You will need to move/rename them to stop them getting overwritten by subsequent model runs. This can be done in Windows manually or can be done with Python using the operating system (**os**) commands:"
   ]
  },
  {
   "cell_type": "code",
   "execution_count": null,
   "metadata": {},
   "outputs": [],
   "source": [
    "os.rename(\"Fig1.pdf\",\"Default_Hillslope_Fig1.pdf\")\n",
    "os.rename(\"Fig2.pdf\",\"Default_Hillslope_Fig2.pdf\")\n",
    "os.rename(\"Fig3.pdf\",\"Default_Hillslope_Fig3.pdf\")"
   ]
  },
  {
   "cell_type": "markdown",
   "metadata": {
    "collapsed": true
   },
   "source": [
    "<div class=\"alert alert-block alert-info\">\n",
    "<font color=\"black\">\n",
    "<h3>ASSESSMENT TASK 3 (18%)</h3>\n",
    "<p>Write a short paragraph describing the morphological evolution of the hillslope evolving from an initially flat surface in response to channel incision. You should choose **one** figure to include that you refer to in the text to help articulate your observations.</p>\n",
    "<p></p>\n",
    "</font>\n",
    "</div>"
   ]
  },
  {
   "cell_type": "markdown",
   "metadata": {},
   "source": [
    "### Nonlinear Diffusion\n",
    "One of the useful things about these sorts of numerical models is that it allows us to quickly explore or isolate the different factors that influence hillslope development. The default model simulation used a linear flux law for relatively low erosion rates in the channels. At lower erosion rates, the nonlinear diffusion equation predicts sediment transport rates similar to the linear diffusion equation. Instead we need to explore the influence of non-linear diffusion on hillslope morphology at *high erosion rates* to show how the two models differ. Let's rerun the model but first modify the erosion rates in the streams:"
   ]
  },
  {
   "cell_type": "code",
   "execution_count": null,
   "metadata": {},
   "outputs": [],
   "source": [
    "# Create a hillslope model and run\n",
    "LinearHillslope = Hillslope1D()\n",
    "\n",
    "# increase rates of river incision for both streams\n",
    "LinearHillslope.E1 = 0.001 #m/y\n",
    "LinearHillslope.E2 = 0.001 #m/y\n",
    "\n",
    "# run the model\n",
    "LinearHillslope.RunModel()"
   ]
  },
  {
   "cell_type": "markdown",
   "metadata": {},
   "source": [
    "You should rename the output figure files as before so that they get saved. Now let's try the same experiment but with **Nonlinear Diffusion**, which requires you to also change the model timestep to $dt$ = *1 year* (Nonlinear equations can suffer from numerical instability and so changing $dt$ is a quick fix for that in a simple model like this one). This will result in the model taking quite a lot longer to run. Save the new figures for nonlinear diffusion."
   ]
  },
  {
   "cell_type": "code",
   "execution_count": null,
   "metadata": {},
   "outputs": [],
   "source": [
    "# Create a hillslope model and run\n",
    "NonlinearHillslope = Hillslope1D()\n",
    "\n",
    "# increase rates of river incision for both streams\n",
    "NonlinearHillslope.E1 = 0.001 #m/y\n",
    "NonlinearHillslope.E2 = 0.001 #m/y\n",
    "\n",
    "# To select nonlinear diffusion, remove the comment symbols #\n",
    "NonlinearHillslope.FluxType = \"NonlinearDiffusion\"\n",
    "NonlinearHillslope.dt = 1.\n",
    "\n",
    "# run the model\n",
    "NonlinearHillslope.RunModel()"
   ]
  },
  {
   "cell_type": "markdown",
   "metadata": {},
   "source": [
    "It would be useful to directly compare the final hillslope morphology for the diffusion and nonlinear diffusion model runs that we have completed already. The next block of code will make a different figure to compare the two:"
   ]
  },
  {
   "cell_type": "code",
   "execution_count": null,
   "metadata": {},
   "outputs": [],
   "source": [
    "# Create a hillslope model and run\n",
    "fig, ax = plt.subplots()\n",
    "ax.plot(LinearHillslope.x,LinearHillslope.z,'k--', label=\"Linear\")\n",
    "ax.plot(NonlinearHillslope.x,NonlinearHillslope.z,'k-', label=\"Nonlinear\")\n",
    "plt.legend(loc=1)\n",
    "plt.tight_layout()\n",
    "plt.savefig(\"Linear_nonlinear.pdf\")"
   ]
  },
  {
   "cell_type": "markdown",
   "metadata": {},
   "source": [
    "<div class=\"alert alert-block alert-info\">\n",
    "<font color=\"black\">\n",
    "<h3>ASSESSMENT TASK 4 (18%)</h3>\n",
    "<p>Write a short paragraph describing the morphological evolution of a hillslope evolving according to the nonlinear sediment flux law. Compare the results with those of the linear flux law. You should choose **one** figure to include that you refer to in the text to help articulate your observations.</p>\n",
    "<p></p>\n",
    "</font>\n",
    "</div>"
   ]
  },
  {
   "cell_type": "markdown",
   "metadata": {},
   "source": [
    "## Changing the boundary conditions\n",
    "\n",
    "So far we have been assuming that the two channels are in topographic steady-state (incising to balance against uplift). What do you think might happen to a hillslope if the channels were eroding at different rates. Spend a couple of minutes thinking about this make a rough sketch on some scrap paper of how you might expect distance vs elevation to evolve. This will be your hypothesis to test with the model.\n",
    "\n",
    "We will set the model up with the default parameters but modify double the erosio nrate at the left hand boundary ($E_1$)."
   ]
  },
  {
   "cell_type": "code",
   "execution_count": null,
   "metadata": {},
   "outputs": [],
   "source": [
    "# Create a hillslope model and run\n",
    "MyHillslope = Hillslope1D()\n",
    "\n",
    "# increase rates of river incision for the left stream\n",
    "MyHillslope.E1 *= 2. # double the erosion rate\n",
    "\n",
    "# Run the model\n",
    "MyHillslope.RunModel()"
   ]
  },
  {
   "cell_type": "markdown",
   "metadata": {},
   "source": [
    "<div class=\"alert alert-block alert-info\">\n",
    "<font color=\"black\">\n",
    "<h3>ASSESSMENT TASK 5 (18%)</h3>\n",
    "<p>Write a short paragraph describing the morphological evolution of a hillslope evolving in response to differing erosion rates at its lower boundaries. In your answer you should consider what the implications might be for the right hand stream if these conditions were to persist for another 500 ky. Choose **one** figure to include that you refer to in the text to help articulate your observations.</p>\n",
    "<p></p>\n",
    "</font>\n",
    "</div>"
   ]
  },
  {
   "cell_type": "markdown",
   "metadata": {},
   "source": [
    "## Exploring the Influence of Different Parameters\n",
    "Even in this relatively simple model there are a variety of processes being simulated and different parameters controlling how the model behaves. Holding everything constant but changing one of the default parameters will allow you to investigate how hillslopes respond to particular conditions.\n",
    "\n",
    "<div class=\"alert alert-block alert-info\">\n",
    "<font color=\"black\">\n",
    "<h3>ASSESSMENT TASK 6 (24%)</h3>\n",
    "<p>Choose your own parameter/condition to investigate to see how it influences hillslope morphology or hillslope behaviour (there are some suggestions below). Run the model as before but with your changes implemented. Examine the resulting figures carefully and compare to the default simulations to identify how the hillslopes are distinct or similar. It may be necessary to create a new figure to allow direct comparisons (like you did for linear vs nonlinear hillslopes for task 4).\n",
    "\n",
    "Write a short paragraph describing your modelling results and what they might mean for hillslope evolution. Some things to consider in your answer might be:\n",
    "<ul>\n",
    "<li>how hillslope morphology, relief and soil thickness develops</li>\n",
    "<li>whether the hillslope attains a steady-state and if so how fast</li>\n",
    "<li>the final hillslope morphology, relief, soil thickness</li>\n",
    "<li>how these factors compare to the default model setup</li>\n",
    "</ul>\n",
    "Choose **one** figure to include that you refer to in the text to help articulate your observations.</p>\n",
    "<p></p>\n",
    "</font>\n",
    "</div>\n",
    "\n",
    "<div class=\"alert alert-warning\">\n",
    "<b>WARNING</b> The model is quite sensitive and <b>WILL</b> behave strangely if you change the parameters too wildly. I am happy to discuss with you what appropriate values for different tests might be and help you set them up.\n",
    "</div>\n",
    "\n",
    "Some suggestions for things to test (you only need do one of these, or try a different question of your own):\n",
    "* What is the infuence of a reducing channel erosion rates for a developed hillslope?\n",
    "* Do hillslope response times (time to steady-state) depend on hillslope length?\n",
    "* How does changing the diffusivity coefficient influence hillslope development?\n",
    "* Do soil production rates exert a strong influence on hillslope morphology?"
   ]
  },
  {
   "cell_type": "code",
   "execution_count": null,
   "metadata": {},
   "outputs": [],
   "source": [
    "# Create a hillslope model and run\n",
    "MyHillslope = Hillslope1D()\n",
    "\n",
    "# change parameters here, these currently match the defaults\n",
    "NonlinearHillslope.E1 = 0.0001 # erosion rate at left boundary (metres/year)\n",
    "NonlinearHillslope.E2 = 0.0001 # erosion rate at right boundary (m/y)\n",
    "MyHillslope.Lh = 50.   # Hillslope length (m)\n",
    "MyHillslope.D = 0.01   # diffusivity coefficient (m^2/y)\n",
    "MyHillslope.Sc = 1.    # critical slope gradient (m/m)\n",
    "MyHillslope.W_0 = 0.001  # maximum weathering rate (m/y)        \n",
    "\n",
    "# Run the model\n",
    "MyHillslope.RunModel()"
   ]
  },
  {
   "cell_type": "code",
   "execution_count": null,
   "metadata": {
    "collapsed": true
   },
   "outputs": [],
   "source": []
  }
 ],
 "metadata": {
  "kernelspec": {
   "display_name": "Python 3",
   "language": "python",
   "name": "python3"
  },
  "language_info": {
   "codemirror_mode": {
    "name": "ipython",
    "version": 3
   },
   "file_extension": ".py",
   "mimetype": "text/x-python",
   "name": "python",
   "nbconvert_exporter": "python",
   "pygments_lexer": "ipython3",
   "version": "3.6.1"
  },
  "widgets": {
   "state": {
    "1a6a68f999f448d2bcf1d2178fb2784a": {
     "views": [
      {
       "cell_index": 25
      }
     ]
    },
    "2f931810438f4420885bfee8c12054b9": {
     "views": [
      {
       "cell_index": 32
      }
     ]
    },
    "a8d7f32905ec4f3b831dd87de7c26c02": {
     "views": [
      {
       "cell_index": 37
      }
     ]
    },
    "aee0cd2c12d34f05b9ab1c53268f07e8": {
     "views": [
      {
       "cell_index": 40
      }
     ]
    },
    "c243e36e43c8472fbcab15c4864b073e": {
     "views": [
      {
       "cell_index": 30
      }
     ]
    }
   },
   "version": "1.2.0"
  }
 },
 "nbformat": 4,
 "nbformat_minor": 2
}
