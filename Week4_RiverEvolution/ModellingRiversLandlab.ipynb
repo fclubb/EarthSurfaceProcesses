{
  "nbformat": 4,
  "nbformat_minor": 0,
  "metadata": {
    "anaconda-cloud": {},
    "kernelspec": {
      "display_name": "Python 3",
      "language": "python",
      "name": "python3"
    },
    "language_info": {
      "codemirror_mode": {
        "name": "ipython",
        "version": 3
      },
      "file_extension": ".py",
      "mimetype": "text/x-python",
      "name": "python",
      "nbconvert_exporter": "python",
      "pygments_lexer": "ipython3",
      "version": "3.6.8"
    },
    "colab": {
      "name": "ModellingRiversLandlab.ipynb",
      "provenance": [],
      "include_colab_link": true
    }
  },
  "cells": [
    {
      "cell_type": "markdown",
      "metadata": {
        "id": "view-in-github",
        "colab_type": "text"
      },
      "source": [
        "<a href=\"https://colab.research.google.com/github/fclubb/EarthSurfaceProcesses/blob/master/Week4_RiverEvolution/ModellingRiversLandlab.ipynb\" target=\"_parent\"><img src=\"https://colab.research.google.com/assets/colab-badge.svg\" alt=\"Open In Colab\"/></a>"
      ]
    },
    {
      "cell_type": "markdown",
      "metadata": {
        "id": "At2OWZrqLHCZ"
      },
      "source": [
        "# Quantifying river channel evolution with Landlab\n",
        "These exercises are based on a project orginally designed by Kelin Whipple at Arizona State University. This notebook was created by Nicole Gasparini at Tulane University and modified by Fiona Clubb at Durham University."
      ]
    },
    {
      "cell_type": "markdown",
      "metadata": {
        "id": "bFikieKBLHCa"
      },
      "source": [
        "<hr>\n",
        "<small>For tutorials on learning Landlab, click here: <a href=\"https://github.com/landlab/landlab/wiki/Tutorials\">https://github.com/landlab/landlab/wiki/Tutorials</a></small>\n",
        "<hr>"
      ]
    },
    {
      "cell_type": "markdown",
      "metadata": {
        "id": "-0CIAXTYjrku"
      },
      "source": [
        "In the lecture today we discussed different models for simulating how rivers erode and the role of sediment in bedrock erosion. In this notebook we are going to implement the simplest model of bedrock erosion, the stream power incision model, within the Landlab landscape evolution model.\n",
        "\n",
        "The learning outcomes for this notebook are:\n",
        "* To simulate river profile evolution using Landlab\n",
        "* To explore the influence of uplift patterns on river profile form\n",
        "* To explore the influence of erodibility on river profiles\n",
        "\n",
        "## Working through the practical\n",
        "\n",
        "To work through this notebook, firstly:\n",
        "1. **COPY THE NOTEBOOK TO YOUR GOOGLE DRIVE** using the \"Copy to Drive\" button at the top of the page. \n",
        "2. Read through the instructions and execute each code block cell by clicking `Shift and Enter` to see what it does.\n",
        "3. Do the exercises set out throughout notebook.\n",
        "4. Save the figures and keep them for the next session."
      ]
    },
    {
      "cell_type": "markdown",
      "metadata": {
        "id": "jrEe4ExgLHCb"
      },
      "source": [
        "**What is this notebook?**\n",
        "\n",
        "This notebook illustrates the evolution of detachment-limited channels in an actively uplifting landscape. The landscape evolves according to the equation:\n",
        "\n",
        "\\begin{equation}\n",
        " \\frac{d z}{d t} = -K_\\text{sp} A^{m_{sp}} S^{n_{sp}} + U\n",
        "\\end{equation}\n",
        "Here, $K_{sp}$ is the erodibility coefficient on fluvial incision, which is thought to be positively correlated with climate wetness, or storminess (this is hard to quantify) and to be negatively correlated with rock strength (again, rock strength is hard to quantify). $m_{sp}$ and $n_{sp}$ are positive exponents, usually thought to have a ratio, $m_{sp}/n_{sp} \\approx 0.5$. $A$ is drainage area and $S$ is the slope of steepest descent ($-\\frac{dz}{dx}$) where $x$ is horizontal distance (positive in the downslope direction) and $z$ is elevation. (If slope is negative there is no fluvial erosion.) $U$ is an externally-applied rock uplift field.\n",
        "\n",
        "The fluvial erosion term is also known as the stream power equation. Before using this notebook you should be familiar with this equation from the lectures and reading. \n",
        "\n",
        "For a great overview of the stream power equation, see: \n",
        "\n",
        "- Whipple and Tucker, 1999, Dynamics of the stream-power river incision model: Implications for height limits of mountain ranges, landscape response timescales, and research needs, Journal of Geophysical Research.\n",
        "\n",
        "For some great illustrations of modelling with the stream power equation, see:\n",
        "\n",
        "- Tucker and Whipple, 2002, Topographic outcomes predicted by stream erosion models: Sensitivity analysis and intermodel comparison, Journal of Geophysical Research.\n",
        "\n",
        "Helpful background on landscape sensitivity to rock uplift rates and patterns can be found here:\n",
        "\n",
        "- Kirby and Whipple, 2012, Expression of active tectonics in erosional landscapes, Journal of Structural Geology.\n",
        "\n",
        "**What will you do?**\n",
        "\n",
        "In this exercise you will modify the code to get a better understanding of how rock uplift rates and patterns and the erodibility coefficient control fluvial channel form.\n",
        "\n",
        "Start at the top by reading each block of text and sequentially running each code block (shift - enter OR the play button in each cell).\n",
        "\n",
        "If you just change one code block and rerun only that code block, only the parts of the code in that code block will be updated. (E.g. if you change parameters but don't reset the code blocks that initialise run time or topography, then these values will not be reset.) \n",
        "\n",
        "## Answer these questions first\n",
        "\n",
        "Answer these questions before running the notebook.\n",
        "\n",
        "1. What do you think will happen to total relief (defined as the maximum minus the minimum elevation, here area is fixed) and channel slope at steady state if $K_{sp}$ is uniformly increased?\n",
        "2. What do you think will happen to total relief and channel slope at steady state if $U$ is uniformly increased?\n",
        "3. How do you think a steady-state landscape with a uniform low rock uplift rate will respond if rock uplift is uniformly increased (relative to a steady base level)? How will channel slopes change through time?"
      ]
    },
    {
      "cell_type": "markdown",
      "metadata": {
        "id": "jIc6_hUj5Bwy"
      },
      "source": [
        "## Installing Landlab\n",
        "Google Colab doesn't have landlab installed automatically, so we will have to run some code to install it. To do that, run the below code block. This will output a lot of text which you can ignore.\n",
        "**You should only need to do this once when you start the notebook up - if you restart the runtime, then there is no need to re-run this code block**"
      ]
    },
    {
      "cell_type": "code",
      "metadata": {
        "id": "pRKmM0Iv5Im4"
      },
      "source": [
        "!pip install numpy==1.20.1 &> /dev/null\n",
        "!pip install landlab &> /dev/null"
      ],
      "execution_count": 1,
      "outputs": []
    },
    {
      "cell_type": "markdown",
      "metadata": {
        "id": "SQu2De2FLHCe"
      },
      "source": [
        "**Now on to the code...**\n",
        "\n",
        "First we have to import the parts of Python and Landlab that are needed to run this code. You should not have to change this first code block.\n",
        "\n",
        "**IF YOU GET AN ERROR HERE, click on \"Runtime\" in the top menu, and then \"Restart runtime\". Then try running this cell again.**"
      ]
    },
    {
      "cell_type": "code",
      "metadata": {
        "id": "lSgP3M70LHCe"
      },
      "source": [
        "# Code block 1\n",
        "\n",
        "import copy\n",
        "\n",
        "import numpy as np\n",
        "from matplotlib import pyplot as plt\n",
        "\n",
        "from landlab import RasterModelGrid, imshow_grid\n",
        "from landlab.components import (\n",
        "    ChannelProfiler,\n",
        "    ChiFinder,\n",
        "    FlowAccumulator,\n",
        "    SteepnessFinder,\n",
        "    StreamPowerEroder,\n",
        ")\n",
        "from landlab.io import write_esri_ascii"
      ],
      "execution_count": 1,
      "outputs": []
    },
    {
      "cell_type": "markdown",
      "metadata": {
        "id": "HPMQZMHcLHCg"
      },
      "source": [
        "Make a grid and set boundary conditions. This is the same thing we did during our practical on hillslope evolution!"
      ]
    },
    {
      "cell_type": "code",
      "metadata": {
        "id": "fs6vQmwdLHCh"
      },
      "source": [
        "# Code Block 2\n",
        "\n",
        "number_of_rows = 50  # number of raster cells in vertical direction (y)\n",
        "number_of_columns = 100  # number of raster cells in horizontal direction (x)\n",
        "dxy = 200  # side length of a raster model cell, or resolution [m]\n",
        "\n",
        "# Below is a raster (square cells) grid, with equal width and height\n",
        "mg1 = RasterModelGrid((number_of_rows, number_of_columns), dxy)\n",
        "\n",
        "# Set boundary conditions - only the south side of the grid is open.\n",
        "# Boolean parameters are sent to function in order of\n",
        "# east, north, west, south.\n",
        "mg1.set_closed_boundaries_at_grid_edges(True, True, True, False)"
      ],
      "execution_count": 11,
      "outputs": []
    },
    {
      "cell_type": "markdown",
      "metadata": {
        "id": "cjv0wU2QLHCi"
      },
      "source": [
        "Here we make the initial grid of elevation of zeros with a very small amount of noise to make a more pleasing network. We will make a plot just to show what the initial landscape looks like before we run the model."
      ]
    },
    {
      "cell_type": "code",
      "metadata": {
        "id": "4hAgj1WgLHCj",
        "outputId": "1a691469-2a74-41f1-8b1b-6a7c35e01c9e",
        "colab": {
          "base_uri": "https://localhost:8080/",
          "height": 265
        }
      },
      "source": [
        "# Code Block 3\n",
        "\n",
        "np.random.seed(35)  # seed set so our figures are reproducible\n",
        "mg1_noise = (np.random.rand(mg1.number_of_nodes) / 1000.0\n",
        "             )  # intial noise on elevation gri\n",
        "\n",
        "# set up the elevation on the grid\n",
        "z1 = mg1.add_zeros(\"topographic__elevation\", at=\"node\")\n",
        "z1 += mg1_noise\n",
        "\n",
        "# plot the initial topography\n",
        "imshow_grid(mg1, z1,\n",
        "            grid_units=(\"m\", \"m\"),\n",
        "            var_name=\"Elevation (m)\")\n",
        "plt.title('Initial topography')\n",
        "\n",
        "max_elev = np.max(z1)\n",
        "print(\"Maximum elevation is \", np.max(z1))"
      ],
      "execution_count": 12,
      "outputs": [
        {
          "output_type": "stream",
          "name": "stdout",
          "text": [
            "Maximum elevation is  0.00099997986511\n"
          ]
        },
        {
          "output_type": "display_data",
          "data": {
            "text/plain": [
              "<Figure size 432x288 with 2 Axes>"
            ],
            "image/png": "[encoded data removed]"
          },
          "metadata": {
            "needs_background": "light"
          }
        }
      ]
    },
    {
      "cell_type": "markdown",
      "metadata": {
        "id": "a8gElwRQLHCk"
      },
      "source": [
        "Set parameters related to time."
      ]
    },
    {
      "cell_type": "code",
      "metadata": {
        "id": "x6kmcnv5LHCk"
      },
      "source": [
        "# Code Block 4\n",
        "\n",
        "tmax = 500000  # time for the model to run [yr] (Original value was 500,000 yr)\n",
        "dt = 1000  # time step [yr] (Original value was 1000 yr)\n",
        "total_time = 0  # amount of time the landscape has evolved [yr]\n",
        "# total_time will increase as you keep running the code.\n",
        "\n",
        "t = np.arange(0, tmax, dt)  # each of the time steps that the code will run"
      ],
      "execution_count": 13,
      "outputs": []
    },
    {
      "cell_type": "markdown",
      "metadata": {
        "id": "vl_9prrvLHCl"
      },
      "source": [
        "Set parameters for incision and intializing all of the process components that do the work. We also initialize tools for quantifying the landscape."
      ]
    },
    {
      "cell_type": "code",
      "metadata": {
        "id": "B0AdG10XLHCl"
      },
      "source": [
        "# Code Block 5\n",
        "\n",
        "# Original K_sp value is 0.00001\n",
        "K_sp = 0.00001  # units vary depending on m_sp and n_sp\n",
        "m_sp = 0.5  # exponent on drainage area in stream power equation\n",
        "n_sp = 1.0  # exponent on slope in stream power equation. Divide m_sp by n_sp to get the theta value of the stream power model (starting value = 0.5)\n",
        "\n",
        "frr = FlowAccumulator(mg1, flow_director='FlowDirectorD8')  # intializing flow routing\n",
        "spr = StreamPowerEroder(mg1, K_sp=K_sp, m_sp=m_sp, n_sp=n_sp,\n",
        "                        threshold_sp=0.0)  # initializing stream power incision\n",
        "\n",
        "theta = m_sp / n_sp\n",
        "# initialize the component that will calculate channel steepness\n",
        "sf = SteepnessFinder(mg1, reference_concavity=theta, min_drainage_area=1000.0)\n",
        "# initialize the component that will calculate the chi index\n",
        "cf = ChiFinder(mg1,\n",
        "               min_drainage_area=1000.0,\n",
        "               reference_concavity=theta,\n",
        "               use_true_dx=True)"
      ],
      "execution_count": 14,
      "outputs": []
    },
    {
      "cell_type": "markdown",
      "metadata": {
        "id": "CK5xscWALHCm"
      },
      "source": [
        "Initialize rock uplift rate. This will need to be changed later."
      ]
    },
    {
      "cell_type": "code",
      "metadata": {
        "id": "PCftsf3RLHCm"
      },
      "source": [
        "# Code Block 6\n",
        "\n",
        "#  uplift_rate [m/yr] (Original value is 0.0001 m/yr)\n",
        "# CHANGE THIS VALUE BELOW TO CHANGE THE ROCK UPLIFT RATE.\n",
        "uplift = 0.0001\n",
        "\n",
        "# this just sets the uplift rate you have specified above across the whole model grid.\n",
        "uplift_rate = np.ones(mg1.number_of_nodes) * uplift"
      ],
      "execution_count": 16,
      "outputs": []
    },
    {
      "cell_type": "markdown",
      "metadata": {
        "id": "vHXUql8pLHCm"
      },
      "source": [
        "Now for the code loop. \n",
        "\n",
        "Note that you can rerun Code Block 7 many times, and as long as you don't reset the elevation field (Code Block 3), it will take the already evolved landscape and evolve it even more. If you want to change parameters in other code blocks (e.g. Code Block 5 or 6), you can do that too, and as long as you don't reset the elevation field (Code Block 3) the new parameters will apply on the already evolved topography. "
      ]
    },
    {
      "cell_type": "code",
      "metadata": {
        "scrolled": true,
        "id": "jUJAt-7pLHCn",
        "outputId": "d8dac692-cc5a-4eab-8b1f-2efeb143356b",
        "colab": {
          "base_uri": "https://localhost:8080/"
        }
      },
      "source": [
        "# Code Block 7\n",
        "\n",
        "for ti in t:\n",
        "    z1[mg1.\n",
        "       core_nodes] += uplift_rate[mg1.core_nodes] * dt  # uplift the landscape\n",
        "    frr.run_one_step()  # route flow\n",
        "    spr.run_one_step(dt)  # fluvial incision\n",
        "    total_time += dt  # update time keeper\n",
        "    print(total_time)"
      ],
      "execution_count": 17,
      "outputs": [
        {
          "output_type": "stream",
          "name": "stdout",
          "text": [
            "1000\n",
            "2000\n",
            "3000\n",
            "4000\n",
            "5000\n",
            "6000\n",
            "7000\n",
            "8000\n",
            "9000\n",
            "10000\n",
            "11000\n",
            "12000\n",
            "13000\n",
            "14000\n",
            "15000\n",
            "16000\n",
            "17000\n",
            "18000\n",
            "19000\n",
            "20000\n",
            "21000\n",
            "22000\n",
            "23000\n",
            "24000\n",
            "25000\n",
            "26000\n",
            "27000\n",
            "28000\n",
            "29000\n",
            "30000\n",
            "31000\n",
            "32000\n",
            "33000\n",
            "34000\n",
            "35000\n",
            "36000\n",
            "37000\n",
            "38000\n",
            "39000\n",
            "40000\n",
            "41000\n",
            "42000\n",
            "43000\n",
            "44000\n",
            "45000\n",
            "46000\n",
            "47000\n",
            "48000\n",
            "49000\n",
            "50000\n",
            "51000\n",
            "52000\n",
            "53000\n",
            "54000\n",
            "55000\n",
            "56000\n",
            "57000\n",
            "58000\n",
            "59000\n",
            "60000\n",
            "61000\n",
            "62000\n",
            "63000\n",
            "64000\n",
            "65000\n",
            "66000\n",
            "67000\n",
            "68000\n",
            "69000\n",
            "70000\n",
            "71000\n",
            "72000\n",
            "73000\n",
            "74000\n",
            "75000\n",
            "76000\n",
            "77000\n",
            "78000\n",
            "79000\n",
            "80000\n",
            "81000\n",
            "82000\n",
            "83000\n",
            "84000\n",
            "85000\n",
            "86000\n",
            "87000\n",
            "88000\n",
            "89000\n",
            "90000\n",
            "91000\n",
            "92000\n",
            "93000\n",
            "94000\n",
            "95000\n",
            "96000\n",
            "97000\n",
            "98000\n",
            "99000\n",
            "100000\n",
            "101000\n",
            "102000\n",
            "103000\n",
            "104000\n",
            "105000\n",
            "106000\n",
            "107000\n",
            "108000\n",
            "109000\n",
            "110000\n",
            "111000\n",
            "112000\n",
            "113000\n",
            "114000\n",
            "115000\n",
            "116000\n",
            "117000\n",
            "118000\n",
            "119000\n",
            "120000\n",
            "121000\n",
            "122000\n",
            "123000\n",
            "124000\n",
            "125000\n",
            "126000\n",
            "127000\n",
            "128000\n",
            "129000\n",
            "130000\n",
            "131000\n",
            "132000\n",
            "133000\n",
            "134000\n",
            "135000\n",
            "136000\n",
            "137000\n",
            "138000\n",
            "139000\n",
            "140000\n",
            "141000\n",
            "142000\n",
            "143000\n",
            "144000\n",
            "145000\n",
            "146000\n",
            "147000\n",
            "148000\n",
            "149000\n",
            "150000\n",
            "151000\n",
            "152000\n",
            "153000\n",
            "154000\n",
            "155000\n",
            "156000\n",
            "157000\n",
            "158000\n",
            "159000\n",
            "160000\n",
            "161000\n",
            "162000\n",
            "163000\n",
            "164000\n",
            "165000\n",
            "166000\n",
            "167000\n",
            "168000\n",
            "169000\n",
            "170000\n",
            "171000\n",
            "172000\n",
            "173000\n",
            "174000\n",
            "175000\n",
            "176000\n",
            "177000\n",
            "178000\n",
            "179000\n",
            "180000\n",
            "181000\n",
            "182000\n",
            "183000\n",
            "184000\n",
            "185000\n",
            "186000\n",
            "187000\n",
            "188000\n",
            "189000\n",
            "190000\n",
            "191000\n",
            "192000\n",
            "193000\n",
            "194000\n",
            "195000\n",
            "196000\n",
            "197000\n",
            "198000\n",
            "199000\n",
            "200000\n",
            "201000\n",
            "202000\n",
            "203000\n",
            "204000\n",
            "205000\n",
            "206000\n",
            "207000\n",
            "208000\n",
            "209000\n",
            "210000\n",
            "211000\n",
            "212000\n",
            "213000\n",
            "214000\n",
            "215000\n",
            "216000\n",
            "217000\n",
            "218000\n",
            "219000\n",
            "220000\n",
            "221000\n",
            "222000\n",
            "223000\n",
            "224000\n",
            "225000\n",
            "226000\n",
            "227000\n",
            "228000\n",
            "229000\n",
            "230000\n",
            "231000\n",
            "232000\n",
            "233000\n",
            "234000\n",
            "235000\n",
            "236000\n",
            "237000\n",
            "238000\n",
            "239000\n",
            "240000\n",
            "241000\n",
            "242000\n",
            "243000\n",
            "244000\n",
            "245000\n",
            "246000\n",
            "247000\n",
            "248000\n",
            "249000\n",
            "250000\n",
            "251000\n",
            "252000\n",
            "253000\n",
            "254000\n",
            "255000\n",
            "256000\n",
            "257000\n",
            "258000\n",
            "259000\n",
            "260000\n",
            "261000\n",
            "262000\n",
            "263000\n",
            "264000\n",
            "265000\n",
            "266000\n",
            "267000\n",
            "268000\n",
            "269000\n",
            "270000\n",
            "271000\n",
            "272000\n",
            "273000\n",
            "274000\n",
            "275000\n",
            "276000\n",
            "277000\n",
            "278000\n",
            "279000\n",
            "280000\n",
            "281000\n",
            "282000\n",
            "283000\n",
            "284000\n",
            "285000\n",
            "286000\n",
            "287000\n",
            "288000\n",
            "289000\n",
            "290000\n",
            "291000\n",
            "292000\n",
            "293000\n",
            "294000\n",
            "295000\n",
            "296000\n",
            "297000\n",
            "298000\n",
            "299000\n",
            "300000\n",
            "301000\n",
            "302000\n",
            "303000\n",
            "304000\n",
            "305000\n",
            "306000\n",
            "307000\n",
            "308000\n",
            "309000\n",
            "310000\n",
            "311000\n",
            "312000\n",
            "313000\n",
            "314000\n",
            "315000\n",
            "316000\n",
            "317000\n",
            "318000\n",
            "319000\n",
            "320000\n",
            "321000\n",
            "322000\n",
            "323000\n",
            "324000\n",
            "325000\n",
            "326000\n",
            "327000\n",
            "328000\n",
            "329000\n",
            "330000\n",
            "331000\n",
            "332000\n",
            "333000\n",
            "334000\n",
            "335000\n",
            "336000\n",
            "337000\n",
            "338000\n",
            "339000\n",
            "340000\n",
            "341000\n",
            "342000\n",
            "343000\n",
            "344000\n",
            "345000\n",
            "346000\n",
            "347000\n",
            "348000\n",
            "349000\n",
            "350000\n",
            "351000\n",
            "352000\n",
            "353000\n",
            "354000\n",
            "355000\n",
            "356000\n",
            "357000\n",
            "358000\n",
            "359000\n",
            "360000\n",
            "361000\n",
            "362000\n",
            "363000\n",
            "364000\n",
            "365000\n",
            "366000\n",
            "367000\n",
            "368000\n",
            "369000\n",
            "370000\n",
            "371000\n",
            "372000\n",
            "373000\n",
            "374000\n",
            "375000\n",
            "376000\n",
            "377000\n",
            "378000\n",
            "379000\n",
            "380000\n",
            "381000\n",
            "382000\n",
            "383000\n",
            "384000\n",
            "385000\n",
            "386000\n",
            "387000\n",
            "388000\n",
            "389000\n",
            "390000\n",
            "391000\n",
            "392000\n",
            "393000\n",
            "394000\n",
            "395000\n",
            "396000\n",
            "397000\n",
            "398000\n",
            "399000\n",
            "400000\n",
            "401000\n",
            "402000\n",
            "403000\n",
            "404000\n",
            "405000\n",
            "406000\n",
            "407000\n",
            "408000\n",
            "409000\n",
            "410000\n",
            "411000\n",
            "412000\n",
            "413000\n",
            "414000\n",
            "415000\n",
            "416000\n",
            "417000\n",
            "418000\n",
            "419000\n",
            "420000\n",
            "421000\n",
            "422000\n",
            "423000\n",
            "424000\n",
            "425000\n",
            "426000\n",
            "427000\n",
            "428000\n",
            "429000\n",
            "430000\n",
            "431000\n",
            "432000\n",
            "433000\n",
            "434000\n",
            "435000\n",
            "436000\n",
            "437000\n",
            "438000\n",
            "439000\n",
            "440000\n",
            "441000\n",
            "442000\n",
            "443000\n",
            "444000\n",
            "445000\n",
            "446000\n",
            "447000\n",
            "448000\n",
            "449000\n",
            "450000\n",
            "451000\n",
            "452000\n",
            "453000\n",
            "454000\n",
            "455000\n",
            "456000\n",
            "457000\n",
            "458000\n",
            "459000\n",
            "460000\n",
            "461000\n",
            "462000\n",
            "463000\n",
            "464000\n",
            "465000\n",
            "466000\n",
            "467000\n",
            "468000\n",
            "469000\n",
            "470000\n",
            "471000\n",
            "472000\n",
            "473000\n",
            "474000\n",
            "475000\n",
            "476000\n",
            "477000\n",
            "478000\n",
            "479000\n",
            "480000\n",
            "481000\n",
            "482000\n",
            "483000\n",
            "484000\n",
            "485000\n",
            "486000\n",
            "487000\n",
            "488000\n",
            "489000\n",
            "490000\n",
            "491000\n",
            "492000\n",
            "493000\n",
            "494000\n",
            "495000\n",
            "496000\n",
            "497000\n",
            "498000\n",
            "499000\n",
            "500000\n"
          ]
        }
      ]
    },
    {
      "cell_type": "markdown",
      "metadata": {
        "id": "jSrps_RyLHCo"
      },
      "source": [
        "Plot the topography. This shows you what our model landscape looks like after we have run the model for your specified runtime using Code Block 7."
      ]
    },
    {
      "cell_type": "code",
      "metadata": {
        "id": "Cnc4RtBWLHCo",
        "outputId": "4542d4bb-6f97-4f34-fc23-90ce1f51eccb",
        "colab": {
          "base_uri": "https://localhost:8080/",
          "height": 269
        }
      },
      "source": [
        "# Code Block 8\n",
        "\n",
        "imshow_grid(mg1,\n",
        "            \"topographic__elevation\",\n",
        "            grid_units=(\"m\", \"m\"),\n",
        "            var_name=\"Elevation (m)\")\n",
        "title_text = f\"$K_{{sp}}$={K_sp}; $time$={total_time} yr; $dx$={dxy} m\"\n",
        "plt.title(title_text)\n",
        "\n",
        "max_elev = np.max(z1)\n",
        "print(\"Maximum elevation is \", np.max(z1))"
      ],
      "execution_count": 18,
      "outputs": [
        {
          "output_type": "stream",
          "name": "stdout",
          "text": [
            "Maximum elevation is  50.0000721461\n"
          ]
        },
        {
          "output_type": "display_data",
          "data": {
            "text/plain": [
              "<Figure size 432x288 with 2 Axes>"
            ],
            "image/png": "[encoded data removed]"
          },
          "metadata": {
            "needs_background": "light"
          }
        }
      ]
    },
    {
      "cell_type": "markdown",
      "metadata": {
        "id": "M8X_VSLhLHCp"
      },
      "source": [
        "Plot the slope and area data at each point on the landscape (in log-log space). We will only plot the core nodes because the boundary nodes have slopes that are influenced by the boundary conditions. "
      ]
    },
    {
      "cell_type": "code",
      "metadata": {
        "scrolled": true,
        "id": "FDoxCd6YLHCp",
        "outputId": "c46afcaa-1dc7-44f8-fb61-e13233a79058",
        "colab": {
          "base_uri": "https://localhost:8080/",
          "height": 318
        }
      },
      "source": [
        "# Code Block 9\n",
        "\n",
        "plt.loglog(\n",
        "    mg1.at_node[\"drainage_area\"][mg1.core_nodes],\n",
        "    mg1.at_node[\"topographic__steepest_slope\"][mg1.core_nodes],\n",
        "    \"b.\",\n",
        ")\n",
        "plt.ylabel(\"Topographic slope\")\n",
        "plt.xlabel(\"Drainage area (m^2)\")\n",
        "title_text = f\"$K_{{sp}}$={K_sp}; $time$={total_time} yr; $dx$={dxy} m\"\n",
        "\n",
        "plt.title(title_text)"
      ],
      "execution_count": 19,
      "outputs": [
        {
          "output_type": "execute_result",
          "data": {
            "text/plain": [
              "Text(0.5, 1.0, '$K_{sp}$=1e-05; $time$=500000 yr; $dx$=200 m')"
            ]
          },
          "metadata": {},
          "execution_count": 19
        },
        {
          "output_type": "display_data",
          "data": {
            "text/plain": [
              "<Figure size 432x288 with 1 Axes>"
            ],
            "image/png": "[encoded data removed]"
          },
          "metadata": {
            "needs_background": "light"
          }
        }
      ]
    },
    {
      "cell_type": "markdown",
      "metadata": {
        "id": "5V4FuvXbLHCp"
      },
      "source": [
        "It is slightly easier to interpret slope-area data when we look at a single channel, rather than the entire landscape. Below we plot the profile and slope-area data for the three largest channels on the landscape."
      ]
    },
    {
      "cell_type": "code",
      "metadata": {
        "id": "b6uj2PMuLHCq",
        "outputId": "485df757-3773-4381-ab74-88041148a51c",
        "colab": {
          "base_uri": "https://localhost:8080/",
          "height": 833
        }
      },
      "source": [
        "# Code Block 10\n",
        "\n",
        "# profile the largest channels, set initially to find the mainstem channel in the three biggest watersheds\n",
        "# you can change the number of watersheds, or choose to plot all the channel segments in the watershed that\n",
        "# have drainage area below the threshold (here we have set the threshold to the area of a grid cell).\n",
        "prf = ChannelProfiler(mg1,\n",
        "                      number_of_watersheds=3,\n",
        "                      main_channel_only=True,\n",
        "                      minimum_channel_threshold=dxy**2)\n",
        "prf.run_one_step()\n",
        "\n",
        "# plot the elevation as a function of distance upstream\n",
        "plt.figure(1)\n",
        "title_text = f\"$K_{{sp}}$={K_sp}; $time$={total_time} yr; $dx$={dxy} m\"\n",
        "prf.plot_profiles(xlabel='distance upstream (m)',\n",
        "                  ylabel='elevation (m)',\n",
        "                  title=title_text)\n",
        "\n",
        "# plot the location of the channels in map view\n",
        "plt.figure(2)\n",
        "prf.plot_profiles_in_map_view()\n",
        "\n",
        "# slope-area data in just the profiled channels\n",
        "plt.figure(3)\n",
        "for i, outlet_id in enumerate(prf.data_structure):\n",
        "    for j, segment_id in enumerate(prf.data_structure[outlet_id]):\n",
        "        if j == 0:\n",
        "            label = \"channel {i}\".format(i=i + 1)\n",
        "        else:\n",
        "            label = '_nolegend_'\n",
        "        segment = prf.data_structure[outlet_id][segment_id]\n",
        "        profile_ids = segment[\"ids\"]\n",
        "        color = segment[\"color\"]\n",
        "        plt.loglog(\n",
        "            mg1.at_node[\"drainage_area\"][profile_ids],\n",
        "            mg1.at_node[\"topographic__steepest_slope\"][profile_ids],\n",
        "            '.',\n",
        "            color=color,\n",
        "            label=label,\n",
        "        )\n",
        "\n",
        "plt.legend(loc=\"upper left\")\n",
        "plt.xlabel(\"drainage area (m^2)\")\n",
        "plt.ylabel(\"channel slope [m/m]\")\n",
        "title_text = f\"$K_{{sp}}$={K_sp}; $time$={total_time} yr; $dx$={dxy} m\"\n",
        "plt.title(title_text)"
      ],
      "execution_count": 20,
      "outputs": [
        {
          "output_type": "execute_result",
          "data": {
            "text/plain": [
              "Text(0.5, 1.0, '$K_{sp}$=1e-05; $time$=500000 yr; $dx$=200 m')"
            ]
          },
          "metadata": {},
          "execution_count": 20
        },
        {
          "output_type": "display_data",
          "data": {
            "text/plain": [
              "<Figure size 432x288 with 1 Axes>"
            ],
            "image/png": "[encoded data removed]"
          },
          "metadata": {
            "needs_background": "light"
          }
        },
        {
          "output_type": "display_data",
          "data": {
            "text/plain": [
              "<Figure size 432x288 with 2 Axes>"
            ],
            "image/png": "[encoded data removed]"
          },
          "metadata": {
            "needs_background": "light"
          }
        },
        {
          "output_type": "display_data",
          "data": {
            "text/plain": [
              "<Figure size 432x288 with 1 Axes>"
            ],
            "image/png": "[encoded data removed]"
          },
          "metadata": {
            "needs_background": "light"
          }
        }
      ]
    },
    {
      "cell_type": "markdown",
      "source": [
        "Remember from last week's lecture that slope-area plots are sometimes noisy and difficult to fit a regression to find a correct channel steepness value. We can therefore make plots of chi ($\\chi$) against elevation, which allows us to calculate channel steepness across the landscape. First, let's look at what our plots of chi against elevation look like for these same 3 rivers:"
      ],
      "metadata": {
        "id": "grjL-XMXRYTU"
      }
    },
    {
      "cell_type": "code",
      "source": [
        "# Code Block 11\n",
        "\n",
        "# calculate the chi index\n",
        "cf.calculate_chi()\n",
        "\n",
        "# chi-elevation plots in the profiled channels\n",
        "plt.figure(4)\n",
        "\n",
        "for i, outlet_id in enumerate(prf.data_structure):\n",
        "    for j, segment_id in enumerate(prf.data_structure[outlet_id]):\n",
        "        if j == 0:\n",
        "            label = \"channel {i}\".format(i=i + 1)\n",
        "        else:\n",
        "            label = '_nolegend_'\n",
        "        segment = prf.data_structure[outlet_id][segment_id]\n",
        "        profile_ids = segment[\"ids\"]\n",
        "        color = segment[\"color\"]\n",
        "        plt.plot(\n",
        "            mg1.at_node[\"channel__chi_index\"][profile_ids],\n",
        "            mg1.at_node[\"topographic__elevation\"][profile_ids],\n",
        "            color=color,\n",
        "            label=label,\n",
        "        )\n",
        "\n",
        "plt.xlabel(\"chi index (m)\")\n",
        "plt.ylabel(\"elevation (m)\")\n",
        "plt.legend(loc=\"lower right\")\n",
        "title_text = f\"$K_{{sp}}$={K_sp}; $time$={total_time} yr; $dx$={dxy} m; concavity={theta}\"\n",
        "plt.title(title_text)"
      ],
      "metadata": {
        "id": "O4SqNV-BRUDu",
        "outputId": "7180cc20-5b3f-4925-b343-b8f19036a7f0",
        "colab": {
          "base_uri": "https://localhost:8080/",
          "height": 314
        }
      },
      "execution_count": 24,
      "outputs": [
        {
          "output_type": "execute_result",
          "data": {
            "text/plain": [
              "Text(0.5, 1.0, '$K_{sp}$=1e-05; $time$=500000 yr; $dx$=200 m; concavity=0.5')"
            ]
          },
          "metadata": {},
          "execution_count": 24
        },
        {
          "output_type": "display_data",
          "data": {
            "text/plain": [
              "<Figure size 432x288 with 1 Axes>"
            ],
            "image/png": "[encoded data removed]"
          },
          "metadata": {
            "needs_background": "light"
          }
        }
      ]
    },
    {
      "cell_type": "markdown",
      "metadata": {
        "id": "FFW7lbI6LHCr"
      },
      "source": [
        "We can see that there are convexities in this plot: remember at steady state, there should be a linear relationship between the chi index and elevation. This convexity suggests there is a change in channel steepness as we go upstream. Let's look at channel steepness in the same three largest channels, and also plot steepness index across the grid. Remember we calculate channel steepness by taking the gradient of the line between chi and elevation."
      ]
    },
    {
      "cell_type": "code",
      "metadata": {
        "id": "8jxJbEGFLHCr",
        "outputId": "9467fe29-375f-4c63-d9ad-c22cb7f81363",
        "colab": {
          "base_uri": "https://localhost:8080/",
          "height": 551
        }
      },
      "source": [
        "# Code Block 12\n",
        "\n",
        "# calculate channel steepness\n",
        "sf.calculate_steepnesses()\n",
        "\n",
        "# plots of steepnes vs. distance upstream in the profiled channels\n",
        "plt.figure(6)\n",
        "\n",
        "for i, outlet_id in enumerate(prf.data_structure):\n",
        "    for j, segment_id in enumerate(prf.data_structure[outlet_id]):\n",
        "        if j == 0:\n",
        "            label = \"channel {i}\".format(i=i + 1)\n",
        "        else:\n",
        "            label = '_nolegend_'\n",
        "        segment = prf.data_structure[outlet_id][segment_id]\n",
        "        profile_ids = segment[\"ids\"]\n",
        "        distance_upstream = segment[\"distances\"]\n",
        "        color = segment[\"color\"]\n",
        "        plt.plot(\n",
        "            distance_upstream,\n",
        "            mg1.at_node[\"channel__steepness_index\"][profile_ids],\n",
        "            'x',\n",
        "            color=color,\n",
        "            label=label,\n",
        "        )\n",
        "\n",
        "plt.xlabel(\"distance upstream (m)\")\n",
        "plt.ylabel(\"Channel steepness\")\n",
        "plt.legend(loc=\"upper left\")\n",
        "plt.title(\n",
        "    f\"$K_{{sp}}$={K_sp}; $time$={total_time} yr; $dx$={dxy} m; concavity={theta}\"\n",
        ")\n",
        "\n",
        "# channel steepness map\n",
        "plt.figure(7)\n",
        "imshow_grid(\n",
        "    mg1,\n",
        "    \"channel__steepness_index\",\n",
        "    grid_units=(\"m\", \"m\"),\n",
        "    var_name=\"Channel steepness\",\n",
        "    cmap=\"jet\",\n",
        ")\n",
        "title_text = (\"$K_{sp}$=\" + str(K_sp) + \"; $time$=\" + str(total_time) +\n",
        "              \"yr; $dx$=\" + str(dxy) + \"m\" + \"; concavity=\" + str(theta))\n",
        "plt.title(\n",
        "    f\"$K_{{sp}}$={K_sp}; $time$={total_time} yr; $dx$={dxy} m; concavity={theta}\"\n",
        ")"
      ],
      "execution_count": 26,
      "outputs": [
        {
          "output_type": "execute_result",
          "data": {
            "text/plain": [
              "Text(0.5, 1.0, '$K_{sp}$=1e-05; $time$=500000 yr; $dx$=200 m; concavity=0.5')"
            ]
          },
          "metadata": {},
          "execution_count": 26
        },
        {
          "output_type": "display_data",
          "data": {
            "text/plain": [
              "<Figure size 432x288 with 1 Axes>"
            ],
            "image/png": "[encoded data removed]"
          },
          "metadata": {
            "needs_background": "light"
          }
        },
        {
          "output_type": "display_data",
          "data": {
            "text/plain": [
              "<Figure size 432x288 with 2 Axes>"
            ],
            "image/png": "[encoded data removed]"
          },
          "metadata": {
            "needs_background": "light"
          }
        }
      ]
    },
    {
      "cell_type": "markdown",
      "metadata": {
        "id": "9cVaBGcULHCs"
      },
      "source": [
        "We can export the model elevations to a DEM, that you can then load into a GIS. If want to do this, edit the `write_file_name` below to be the name that you want to use for the DEM and run the code block."
      ]
    },
    {
      "cell_type": "code",
      "metadata": {
        "id": "Es7owbztLHCs",
        "outputId": "606bb9c4-ea35-4e37-b00a-e8bc873573da",
        "colab": {
          "base_uri": "https://localhost:8080/"
        }
      },
      "source": [
        "# Code Block 13\n",
        "import os\n",
        "\n",
        "# Below has the name of the file that data will be written to.\n",
        "# You need to change the name of the file every time that you want\n",
        "# to write data, otherwise you will get an error.\n",
        "# This will write to the directory that you are running the code in.\n",
        "write_file_name = 'data_file.txt'\n",
        "\n",
        "# check if the DEM already exists, and if so, remove it to save again\n",
        "if os.path.exists('./'+write_file_name):\n",
        "  os.remove('./'+write_file_name)\n",
        "\n",
        "# Below is writing elevation data in the ESRI ascii format so that it can\n",
        "# easily be read into Arc GIS or back into Landlab.\n",
        "write_esri_ascii(write_file_name, mg1, 'topographic__elevation')"
      ],
      "execution_count": 27,
      "outputs": [
        {
          "output_type": "execute_result",
          "data": {
            "text/plain": [
              "['data_file.txt']"
            ]
          },
          "metadata": {},
          "execution_count": 27
        }
      ]
    },
    {
      "cell_type": "markdown",
      "metadata": {
        "id": "RSqBMOVrhFl4"
      },
      "source": [
        "Let's write data about the river profiles to a CSV file so that we can open it in Excel if you want to:"
      ]
    },
    {
      "cell_type": "code",
      "metadata": {
        "id": "30FeaaCJhMEC"
      },
      "source": [
        "import pandas as pd\n",
        "\n",
        "# loop through the profiles in the channel profiler and save the profile characteristics to a pandas dataframe\n",
        "prf_df = pd.DataFrame(columns=['channel_no', 'elevation', 'chi', 'channel_steepness', 'drainage_area', 'slope'])\n",
        "for i, outlet_id in enumerate(prf.data_structure):\n",
        "    for j, segment_id in enumerate(prf.data_structure[outlet_id]):\n",
        "        this_df = pd.DataFrame(columns=['channel_no', 'elevation', 'chi', 'channel_steepness', 'drainage_area', 'slope'])\n",
        "        segment = prf.data_structure[outlet_id][segment_id]\n",
        "        this_df['elevation'] = mg1.at_node[\"topographic__elevation\"][profile_ids]\n",
        "        this_df['chi'] = mg1.at_node[\"channel__chi_index\"][profile_ids]\n",
        "        this_df['channel_steepness'] = mg1.at_node[\"channel__steepness_index\"][profile_ids]\n",
        "        this_df['drainage_area'] = mg1.at_node[\"drainage_area\"][profile_ids]\n",
        "        this_df['slope'] = mg1.at_node[\"topographic__steepest_slope\"][profile_ids]\n",
        "    this_df['channel_no'] = int(i+1)\n",
        "    prf_df = prf_df.append(this_df)\n",
        "\n",
        "# Below has the name of the csv file that data will be written to.\n",
        "# You need to change the name of the file every time that you want\n",
        "# to write data, otherwise the file will keep overwriting\n",
        "# This will write to the directory that you are running the code in.\n",
        "csv_file_name = 'river_profiles.csv'\n",
        "\n",
        "# check if the CSV already exists, and if so, remove it to save again\n",
        "if os.path.exists('./'+csv_file_name):\n",
        "  os.remove('./'+csv_file_name)\n",
        "\n",
        "# write the dataframe to a csv file\n",
        "prf_df.to_csv(csv_file_name)"
      ],
      "execution_count": 29,
      "outputs": []
    },
    {
      "cell_type": "markdown",
      "metadata": {
        "id": "st1tcXajPXQR"
      },
      "source": [
        "---\n",
        "\n",
        "## Question...\n",
        "\n",
        "After running every code block once, has the landscape reached steady state?\n",
        "\n",
        "Answer: **NO!** How do you know? After you think about this, you are ready to complete the practical.\n",
        "\n",
        "---"
      ]
    },
    {
      "cell_type": "markdown",
      "metadata": {
        "id": "xsdt3eAtLHCs"
      },
      "source": [
        "## Practical exercises\n",
        "\n",
        "Answer the following questions using the code above and below. Code Blocks 8-12 and 18-21 produce different figures that you may find useful. You can use any or all of these different figures to help you with the questions below. (Download or screenshot the figures.) \n",
        "\n",
        "1. **Steady state with low uplift rate.** Using the code above, run the landscape to steady state. To do this, run the main evolution loop again - Code Block 7 - and the different plotting blocks WITHOUT running the code blocks above them. (You could also change $tmax$ in Code Block 4 instead). How did you know that the landscape reached steady state? Note the approximate time that it took to reach steady state for your own reference. (This will be useful for later questions.) Include appropriate plots. (If you want to analyze these landscapes outside of Landlab or save for later, make sure you save the elevation data to a text file (Code Block 13).)\n",
        "\n",
        "**NOTE, For the rest of the questions you should use Code Blocks 14 - 21.**\n",
        " These will allow you to use the steady-state landscape created for question 1 - referred to here as the 'base landscape' - as the initial condition. Start by editing what you need to in Code Blocks 14 - 16. Run these each once, sequentially. You can run Code Block 17, the time loop, as many times as you need to, along with Code Blocks 18-21, which produce plots.\n",
        "\n",
        "2. **Transient landscape responding to an increase in rock uplift.** Use the base landscape and increase rock uplift uniformly by a factor of 4 to 0.0004 m/yr. Make sure you update the rock uplift rate (Code Block 16) and ensure that $tmax$ is 100,000 yrs and $dt$ is 500 yrs (Code Block 15). Run this until the maximum elevation in the grid is ~ 170 m (to re-run for a longer time, run Code Block 17 again) and observe how the landscape gets to this elevation, i.e. plot intermediate steps. What patterns do you see in the supporting plots that show the landscape is transient?\n",
        "\n",
        "3. **Steady-state landscape with increased rock uplift.** Now run the landscape from question 2 until it reaches steady state. (I.e. run the time loop, Code Block 17, a bunch of times. You can increase $tmax$ and $dt$ to make this run faster.) Provide a plot that illustrates that the landscape is in steady state. What aspects of the landscape have changed in comparison with the base landscape from question 1?\n",
        "\n",
        "4. **Increase erodibility.** Start again from the base landscape, but this time increase $K_{sp}$ to 2E-5 (Code Block 14). Make sure rock uplift rate is set to the original value of 0.0001 m/yr (Code Block 16). Set $tmax$ to 1e5 yrs (Code Block 15). Run for 1e5 yrs and save the plots that you think are diagnostic. Run for another 1e5 yrs and save plots again. Now run for 5e5 yrs and save plots again. Quantitatively describe how the landscape evolves in response to the increase in erodibility and provide supporting plots. What could cause a uniform increase in erodibility?"
      ]
    },
    {
      "cell_type": "code",
      "metadata": {
        "id": "3O5-jh8yLHCu"
      },
      "source": [
        "# Code Block 14\n",
        "\n",
        "number_of_rows = 50  # number of raster cells in vertical direction (y)\n",
        "number_of_columns = 100  # number of raster cells in horizontal direction (x)\n",
        "dxy2 = 200  # side length of a raster model cell, or resolution [m]\n",
        "\n",
        "# Below is a raster (square cells) grid, with equal width and height\n",
        "mg2 = RasterModelGrid((number_of_rows, number_of_columns), dxy2)\n",
        "\n",
        "# Set boundary conditions - only the south side of the grid is open.\n",
        "# Boolean parameters are sent to function in order of\n",
        "# east, north, west, south.\n",
        "mg2.set_closed_boundaries_at_grid_edges(True, True, True, False)\n",
        "\n",
        "z2 = copy.copy(z1)  # initialize the elevations with the steady state\n",
        "# topography produced for question 1\n",
        "z2 = mg2.add_field(\"topographic__elevation\", z2, at=\"node\")\n",
        "\n",
        "# K_sp value for base landscape is 1e-5\n",
        "K_sp2 = 1e-5  # units vary depending on m_sp and n_sp\n",
        "m_sp2 = 0.5  # exponent on drainage area in stream power equation\n",
        "n_sp2 = 1.0  # exponent on slope in stream power equation\n",
        "\n",
        "frr2 = FlowAccumulator(mg2, flow_director='FlowDirectorD8')  # intializing flow routing\n",
        "spr2 = StreamPowerEroder(\n",
        "    mg2, K_sp=K_sp2, m_sp=m_sp2, n_sp=n_sp2,\n",
        "    threshold_sp=0.0)  # initializing stream power incision\n",
        "\n",
        "theta2 = m_sp2 / n_sp2\n",
        "# initialize the component that will calculate channel steepness\n",
        "sf2 = SteepnessFinder(mg2,\n",
        "                      reference_concavity=theta2,\n",
        "                      min_drainage_area=1000.0)\n",
        "# initialize the component that will calculate the chi index\n",
        "cf2 = ChiFinder(mg2,\n",
        "                min_drainage_area=1000.0,\n",
        "                reference_concavity=theta2,\n",
        "                use_true_dx=True)"
      ],
      "execution_count": null,
      "outputs": []
    },
    {
      "cell_type": "code",
      "metadata": {
        "id": "QFBa6kLBLHCv"
      },
      "source": [
        "# Code Block 15\n",
        "\n",
        "tmax = 1e5  # time for the model to run [yr] (Original value was 5E5 yr)\n",
        "dt = 500  # time step [yr] (Original value was 500 yr)\n",
        "total_time = 0  # amount of time the landscape has evolved [yr]\n",
        "# total_time will increase as you keep running the code.\n",
        "\n",
        "t = np.arange(0, tmax, dt)  # each of the time steps that the code will run"
      ],
      "execution_count": null,
      "outputs": []
    },
    {
      "cell_type": "code",
      "metadata": {
        "id": "XKGvpyOALHCv"
      },
      "source": [
        "# Code Block 16\n",
        "\n",
        "#  uplift_rate [m/yr] (value was 0.0001 m/yr for base landscape)\n",
        "uplift_rate = np.ones(mg2.number_of_nodes) * 0.0001\n",
        "\n",
        "## If you want to add a one-time event that uplifts only part of the\n",
        "## landscape, uncomment the 3 lines below\n",
        "# fault_location = 4000  # [m]\n",
        "# uplift_amount = 10 # [m]\n",
        "# z2[np.nonzero(mg2.node_y>fault_location)] += uplift_amount\n",
        "\n",
        "## IMPORTANT! To use the below fault generator, comment the one-time\n",
        "## uplift event above if it isn't already commented out.\n",
        "## Code below creates a fault horizontally across the grid.\n",
        "## Uplift rates are greater where y values  > fault location.\n",
        "## To use, uncomment the 5 code lines below and edit to your values\n",
        "# fault_location = 4000  # [m]\n",
        "# low_uplift_rate = 0.0001 # [m/yr]\n",
        "# high_uplift_rate = 0.0004 # [m/yr]\n",
        "# uplift_rate[np.nonzero(mg2.node_y<fault_location)] = low_uplift_rate\n",
        "# uplift_rate[np.nonzero(mg2.node_y>fault_location)] = high_uplift_rate\n",
        "\n",
        "## IMPORTANT! To use below rock uplift gradient, comment the two\n",
        "## uplift options above if they aren't already commented out.\n",
        "## If you want a linear gradient in uplift rate\n",
        "## (increasing uplift into the range),\n",
        "## uncomment the 4 code lines below and edit to your values.\n",
        "# low_uplift_rate = 0.0001 # [m/yr]\n",
        "# high_uplift_rate = 0.0004 # [m/yr]\n",
        "## below is uplift gradient per node row index, NOT row value in meters\n",
        "# uplift_rate_gradient = (high_uplift_rate - low_uplift_rate)/(number_of_rows-3)\n",
        "# uplift_rate = low_uplift_rate + ((mg2.node_y / dxy)-1) * uplift_rate_gradient"
      ],
      "execution_count": null,
      "outputs": []
    },
    {
      "cell_type": "code",
      "metadata": {
        "id": "RgkUt9wiLHCw"
      },
      "source": [
        "# Code Block 17\n",
        "\n",
        "for ti in t:\n",
        "    z2[mg2.core_nodes] += uplift_rate[mg2.core_nodes] * dt  # uplift the landscape\n",
        "    frr2.run_one_step()  # route flow\n",
        "    spr2.run_one_step(dt)  # fluvial incision\n",
        "    total_time += dt  # update time keeper\n",
        "    print(total_time)"
      ],
      "execution_count": null,
      "outputs": []
    },
    {
      "cell_type": "code",
      "metadata": {
        "id": "6Umx3NATLHCw"
      },
      "source": [
        "# Code Block 18\n",
        "# Plot topography\n",
        "\n",
        "plt.figure(8)\n",
        "imshow_grid(mg2,\n",
        "            \"topographic__elevation\",\n",
        "            grid_units=(\"m\", \"m\"),\n",
        "            var_name=\"Elevation (m)\")\n",
        "plt.title(f\"$K_{{sp}}$={K_sp2}; $time$={total_time} yr; $dx$={dxy2} m\")\n",
        "\n",
        "max_elev = np.max(z2)\n",
        "print(\"Maximum elevation is \", np.max(z2))"
      ],
      "execution_count": null,
      "outputs": []
    },
    {
      "cell_type": "code",
      "metadata": {
        "id": "NABQvtXPLHCx"
      },
      "source": [
        "# Code Block 19\n",
        "# Plot Channel Profiles and slope-area data along the channels\n",
        "\n",
        "prf2 = ChannelProfiler(mg2,\n",
        "                       number_of_watersheds=3,\n",
        "                       main_channel_only=True,\n",
        "                       minimum_channel_threshold=dxy**2)\n",
        "prf2.run_one_step()\n",
        "\n",
        "# plot the elevation as a function of distance upstream\n",
        "plt.figure(9)\n",
        "title_text = f\"$K_{{sp}}$={K_sp2}; $time$={total_time} yr; $dx$={dxy} m\"\n",
        "prf2.plot_profiles(xlabel='distance upstream (m)',\n",
        "                  ylabel='elevation (m)',\n",
        "                  title=title_text)\n",
        "\n",
        "# plot the location of the channels in map view\n",
        "plt.figure(10)\n",
        "prf2.plot_profiles_in_map_view()\n",
        "\n",
        "# slope-area data in just the profiled channels\n",
        "plt.figure(11)\n",
        "for i, outlet_id in enumerate(prf2.data_structure):\n",
        "    for j, segment_id in enumerate(prf2.data_structure[outlet_id]):\n",
        "        if j == 0:\n",
        "            label = \"channel {i}\".format(i=i + 1)\n",
        "        else:\n",
        "            label = '_nolegend_'\n",
        "        segment = prf2.data_structure[outlet_id][segment_id]\n",
        "        profile_ids = segment[\"ids\"]\n",
        "        color = segment[\"color\"]\n",
        "        plt.loglog(\n",
        "            mg2.at_node[\"drainage_area\"][profile_ids],\n",
        "            mg2.at_node[\"topographic__steepest_slope\"][profile_ids],\n",
        "            '.',\n",
        "            color=color,\n",
        "            label=label,\n",
        "        )\n",
        "\n",
        "plt.legend(loc=\"lower left\")\n",
        "plt.xlabel(\"drainage area (m^2)\")\n",
        "plt.ylabel(\"channel slope [m/m]\")\n",
        "title_text = f\"$K_{{sp}}$={K_sp2}; $time$={total_time} yr; $dx$={dxy2} m\"\n",
        "plt.title(title_text)"
      ],
      "execution_count": null,
      "outputs": []
    },
    {
      "cell_type": "code",
      "metadata": {
        "id": "ihbWwXy4LHCx"
      },
      "source": [
        "# Code Block 20\n",
        "# Chi Plots\n",
        "\n",
        "# calculate the chi index\n",
        "cf2.calculate_chi()\n",
        "\n",
        "# chi-elevation plots in the profiled channels\n",
        "plt.figure(12)\n",
        "for i, outlet_id in enumerate(prf2.data_structure):\n",
        "    for j, segment_id in enumerate(prf2.data_structure[outlet_id]):\n",
        "        if j == 0:\n",
        "            label = \"channel {i}\".format(i=i + 1)\n",
        "        else:\n",
        "            label = '_nolegend_'\n",
        "        segment = prf2.data_structure[outlet_id][segment_id]\n",
        "        profile_ids = segment[\"ids\"]\n",
        "        color = segment[\"color\"]\n",
        "        plt.plot(\n",
        "            mg2.at_node[\"channel__chi_index\"][profile_ids],\n",
        "            mg2.at_node[\"topographic__elevation\"][profile_ids],\n",
        "            color=color,\n",
        "            label=label,\n",
        "        )\n",
        "\n",
        "plt.xlabel(\"chi index (m)\")\n",
        "plt.ylabel(\"elevation (m)\")\n",
        "plt.legend(loc=\"lower right\")\n",
        "title_text = f\"$K_{{sp}}$={K_sp2}; $time$={total_time} yr; $dx$={dxy2} m; concavity={theta2}\"\n",
        "plt.title(title_text)\n",
        "\n",
        "# chi map\n",
        "plt.figure(13)\n",
        "imshow_grid(\n",
        "    mg2,\n",
        "    \"channel__chi_index\",\n",
        "    grid_units=(\"m\", \"m\"),\n",
        "    var_name=\"Chi index (m)\",\n",
        "    cmap=\"jet\",\n",
        ")\n",
        "plt.title(\n",
        "    f\"$K_{{sp}}$={K_sp2}; $time$={total_time} yr; $dx$={dxy2} m; concavity={theta2}\"\n",
        ")"
      ],
      "execution_count": null,
      "outputs": []
    },
    {
      "cell_type": "code",
      "metadata": {
        "id": "f9xbxEVFLHCy"
      },
      "source": [
        "# Code Block 21\n",
        "# Plot channel steepness along profiles and across the landscape\n",
        "\n",
        "# calculate channel steepness\n",
        "sf2.calculate_steepnesses()\n",
        "\n",
        "# plots of steepnes vs. distance upstream in the profiled channels\n",
        "plt.figure(14)\n",
        "\n",
        "for i, outlet_id in enumerate(prf2.data_structure):\n",
        "    for j, segment_id in enumerate(prf2.data_structure[outlet_id]):\n",
        "        if j == 0:\n",
        "            label = \"channel {i}\".format(i=i + 1)\n",
        "        else:\n",
        "            label = '_nolegend_'\n",
        "        segment = prf2.data_structure[outlet_id][segment_id]\n",
        "        profile_ids = segment[\"ids\"]\n",
        "        distance_upstream = segment[\"distances\"]\n",
        "        color = segment[\"color\"]\n",
        "        plt.plot(\n",
        "            distance_upstream,\n",
        "            mg2.at_node[\"channel__steepness_index\"][profile_ids],\n",
        "            'x',\n",
        "            color=color,\n",
        "            label=label,\n",
        "        )\n",
        "\n",
        "plt.xlabel(\"distance upstream (m)\")\n",
        "plt.ylabel(\"steepness index\")\n",
        "plt.legend(loc=\"upper left\")\n",
        "plt.title(\n",
        "    f\"$K_{{sp}}$={K_sp2}; $time$={total_time} yr; $dx$={dxy2} m; concavity={theta2}\"\n",
        ")\n",
        "\n",
        "# channel steepness map\n",
        "plt.figure(15)\n",
        "imshow_grid(\n",
        "    mg2,\n",
        "    \"channel__steepness_index\",\n",
        "    grid_units=(\"m\", \"m\"),\n",
        "    var_name=\"Steepness index \",\n",
        "    cmap=\"jet\",\n",
        ")\n",
        "plt.title(\n",
        "    f\"$K_{{sp}}$={K_sp2}; $time$={total_time} yr; $dx$={dxy2} m; concavity={theta2}\"\n",
        ")"
      ],
      "execution_count": null,
      "outputs": []
    }
  ]
}