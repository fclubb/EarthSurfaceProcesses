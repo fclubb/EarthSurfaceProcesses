{
  "nbformat": 4,
  "nbformat_minor": 0,
  "metadata": {
    "anaconda-cloud": {},
    "kernelspec": {
      "display_name": "Python 3",
      "language": "python",
      "name": "python3"
    },
    "language_info": {
      "codemirror_mode": {
        "name": "ipython",
        "version": 3
      },
      "file_extension": ".py",
      "mimetype": "text/x-python",
      "name": "python",
      "nbconvert_exporter": "python",
      "pygments_lexer": "ipython3",
      "version": "3.6.8"
    },
    "colab": {
      "name": "ModellingRiversLandlab.ipynb",
      "provenance": [],
      "include_colab_link": true
    }
  },
  "cells": [
    {
      "cell_type": "markdown",
      "metadata": {
        "id": "view-in-github",
        "colab_type": "text"
      },
      "source": [
        "<a href=\"https://colab.research.google.com/github/fclubb/EarthSurfaceProcesses/blob/master/Week4_RiverEvolution/ModellingRiversLandlab.ipynb\" target=\"_parent\"><img src=\"https://colab.research.google.com/assets/colab-badge.svg\" alt=\"Open In Colab\"/></a>"
      ]
    },
    {
      "cell_type": "markdown",
      "metadata": {
        "id": "At2OWZrqLHCZ"
      },
      "source": [
        "# Quantifying river channel evolution with Landlab\n",
        "These exercises are based on a project orginally designed by Kelin Whipple at Arizona State University. This notebook was created by Nicole Gasparini at Tulane University and modified by Fiona Clubb at Durham University."
      ]
    },
    {
      "cell_type": "markdown",
      "metadata": {
        "id": "bFikieKBLHCa"
      },
      "source": [
        "<hr>\n",
        "<small>For tutorials on learning Landlab, click here: <a href=\"https://github.com/landlab/landlab/wiki/Tutorials\">https://github.com/landlab/landlab/wiki/Tutorials</a></small>\n",
        "<hr>"
      ]
    },
    {
      "cell_type": "markdown",
      "metadata": {
        "id": "-0CIAXTYjrku"
      },
      "source": [
        "In the lecture today we discussed landscape evolution models, how they are set up, and some example applications. In this notebook we are going to implement the simplest model of bedrock erosion, the stream power incision model, within the Landlab landscape evolution model.\n",
        "\n",
        "The learning outcomes for this notebook are:\n",
        "* To simulate river profile evolution using Landlab\n",
        "* To explore the influence of uplift patterns on river profile form\n",
        "* To explore the influence of erodibility on river profiles\n",
        "\n",
        "## Working through the practical\n",
        "\n",
        "To work through this notebook, firstly:\n",
        "1. **COPY THE NOTEBOOK TO YOUR GOOGLE DRIVE** using the \"Copy to Drive\" button at the top of the page. \n",
        "2. Read through the instructions and execute each code block cell by clicking `Shift and Enter` to see what it does.\n",
        "3. Do the exercises set out throughout notebook.\n",
        "4. Save the figures and keep them for the next session."
      ]
    },
    {
      "cell_type": "markdown",
      "metadata": {
        "id": "jrEe4ExgLHCb"
      },
      "source": [
        "**What is this notebook?**\n",
        "\n",
        "This notebook illustrates the evolution of detachment-limited channels in an actively uplifting landscape. The landscape evolves according to the equation:\n",
        "\n",
        "\\begin{equation}\n",
        " \\frac{d z}{d t} = -K_\\text{sp} A^{m_{sp}} S^{n_{sp}} + U\n",
        "\\end{equation}\n",
        "Here, $K_{sp}$ is the erodibility coefficient on fluvial incision, which is thought to be positively correlated with climate wetness, or storminess (this is hard to quantify) and to be negatively correlated with rock strength (again, rock strength is hard to quantify). $m_{sp}$ and $n_{sp}$ are positive exponents, usually thought to have a ratio, $m_{sp}/n_{sp} \\approx 0.5$. $A$ is drainage area and $S$ is the slope of steepest descent ($-\\frac{dz}{dx}$) where $x$ is horizontal distance (positive in the downslope direction) and $z$ is elevation. (If slope is negative there is no fluvial erosion.) $U$ is an externally-applied rock uplift field.\n",
        "\n",
        "The fluvial erosion term is also known as the stream power equation. Before using this notebook you should be familiar with this equation from the lectures and reading. \n",
        "\n",
        "For a great overview of the stream power equation, see: \n",
        "\n",
        "- Whipple and Tucker, 1999, Dynamics of the stream-power river incision model: Implications for height limits of mountain ranges, landscape response timescales, and research needs, Journal of Geophysical Research.\n",
        "\n",
        "For some great illustrations of modelling with the stream power equation, see:\n",
        "\n",
        "- Tucker and Whipple, 2002, Topographic outcomes predicted by stream erosion models: Sensitivity analysis and intermodel comparison, Journal of Geophysical Research.\n",
        "\n",
        "Helpful background on landscape sensitivity to rock uplift rates and patterns can be found here:\n",
        "\n",
        "- Kirby and Whipple, 2012, Expression of active tectonics in erosional landscapes, Journal of Structural Geology.\n",
        "\n",
        "**What will you do?**\n",
        "\n",
        "In this exercise you will modify the code to get a better understanding of how rock uplift rates and patterns and the erodibility coefficient control fluvial channel form.\n",
        "\n",
        "Start at the top by reading each block of text and sequentially running each code block (shift - enter OR the play button in each cell).\n",
        "\n",
        "If you just change one code block and rerun only that code block, only the parts of the code in that code block will be updated. (E.g. if you change parameters but don't reset the code blocks that initialise run time or topography, then these values will not be reset.) \n",
        "\n",
        "## Answer these questions first\n",
        "\n",
        "Answer these questions before running the notebook.\n",
        "\n",
        "1. What do you think will happen to total relief (defined as the maximum minus the minimum elevation) and channel slope at steady state if $K_{sp}$ is uniformly increased?\n",
        "2. What would you expect the differences in relief and slope to be between a steady state landscape with a low uplift rate compared to a high uplift rate?\n",
        "3. How do you think a steady-state landscape would transiently respond if rock uplift increased? How would channel slopes change through time?"
      ]
    },
    {
      "cell_type": "markdown",
      "metadata": {
        "id": "jIc6_hUj5Bwy"
      },
      "source": [
        "## Installing Landlab\n",
        "Google Colab doesn't have landlab installed automatically, so we will have to run some code to install it. To do that, run the below code blocks. This will output a lot of text which you can ignore.\n",
        "**You should only need to do this once when you start the notebook up - if you restart the runtime, then there is no need to re-run this code block**"
      ]
    },
    {
      "cell_type": "code",
      "metadata": {
        "id": "pRKmM0Iv5Im4"
      },
      "source": [
        "!pip install numpy==1.23.1 &> /dev/null\n",
        "!pip install landlab &> /dev/null"
      ],
      "execution_count": 1,
      "outputs": []
    },
    {
      "cell_type": "code",
      "source": [
        "!pip list"
      ],
      "metadata": {
        "id": "hnqa5u21u_cP",
        "outputId": "aabacb7a-cfa6-495e-f583-dd935dac34bf",
        "colab": {
          "base_uri": "https://localhost:8080/"
        }
      },
      "execution_count": 2,
      "outputs": [
        {
          "output_type": "stream",
          "name": "stdout",
          "text": [
            "Package                       Version\n",
            "----------------------------- ----------------------\n",
            "absl-py                       1.3.0\n",
            "aeppl                         0.0.33\n",
            "aesara                        2.7.9\n",
            "aiohttp                       3.8.3\n",
            "aiosignal                     1.3.1\n",
            "alabaster                     0.7.12\n",
            "albumentations                1.2.1\n",
            "altair                        4.2.0\n",
            "appdirs                       1.4.4\n",
            "arviz                         0.12.1\n",
            "astor                         0.8.1\n",
            "astropy                       4.3.1\n",
            "astunparse                    1.6.3\n",
            "async-timeout                 4.0.2\n",
            "asynctest                     0.13.0\n",
            "atari-py                      0.2.9\n",
            "atomicwrites                  1.4.1\n",
            "attrs                         22.1.0\n",
            "audioread                     3.0.0\n",
            "autograd                      1.5\n",
            "Babel                         2.11.0\n",
            "backcall                      0.2.0\n",
            "beautifulsoup4                4.6.3\n",
            "black                         22.10.0\n",
            "bleach                        5.0.1\n",
            "blis                          0.7.9\n",
            "bmipy                         2.0\n",
            "bokeh                         2.3.3\n",
            "branca                        0.6.0\n",
            "bs4                           0.0.1\n",
            "CacheControl                  0.12.11\n",
            "cached-property               1.5.2\n",
            "cachetools                    5.2.0\n",
            "catalogue                     2.0.8\n",
            "certifi                       2022.9.24\n",
            "cffi                          1.15.1\n",
            "cftime                        1.6.2\n",
            "chardet                       3.0.4\n",
            "charset-normalizer            2.1.1\n",
            "click                         8.1.3\n",
            "clikit                        0.6.2\n",
            "cloudpickle                   1.5.0\n",
            "cmake                         3.22.6\n",
            "cmdstanpy                     1.0.8\n",
            "colorcet                      3.0.1\n",
            "colorlover                    0.3.0\n",
            "community                     1.0.0b1\n",
            "confection                    0.0.3\n",
            "cons                          0.4.5\n",
            "contextlib2                   0.5.5\n",
            "convertdate                   2.4.0\n",
            "crashtest                     0.3.1\n",
            "crcmod                        1.7\n",
            "cufflinks                     0.17.3\n",
            "cvxopt                        1.3.0\n",
            "cvxpy                         1.2.2\n",
            "cycler                        0.11.0\n",
            "cymem                         2.0.7\n",
            "Cython                        0.29.32\n",
            "daft                          0.0.4\n",
            "dask                          2022.2.0\n",
            "datascience                   0.17.5\n",
            "db-dtypes                     1.0.4\n",
            "debugpy                       1.0.0\n",
            "decorator                     4.4.2\n",
            "defusedxml                    0.7.1\n",
            "descartes                     1.1.0\n",
            "dill                          0.3.6\n",
            "distributed                   2022.2.0\n",
            "dlib                          19.24.0\n",
            "dm-tree                       0.1.7\n",
            "dnspython                     2.2.1\n",
            "docutils                      0.17.1\n",
            "dopamine-rl                   1.0.5\n",
            "earthengine-api               0.1.332\n",
            "easydict                      1.10\n",
            "ecos                          2.0.10\n",
            "editdistance                  0.5.3\n",
            "en-core-web-sm                3.4.1\n",
            "entrypoints                   0.4\n",
            "ephem                         4.1.3\n",
            "et-xmlfile                    1.1.0\n",
            "etils                         0.9.0\n",
            "etuples                       0.3.8\n",
            "fa2                           0.3.5\n",
            "fastai                        2.7.10\n",
            "fastcore                      1.5.27\n",
            "fastdownload                  0.0.7\n",
            "fastdtw                       0.3.4\n",
            "fastjsonschema                2.16.2\n",
            "fastprogress                  1.0.3\n",
            "fastrlock                     0.8.1\n",
            "feather-format                0.4.1\n",
            "filelock                      3.8.0\n",
            "firebase-admin                5.3.0\n",
            "fix-yahoo-finance             0.0.22\n",
            "Flask                         1.1.4\n",
            "flatbuffers                   1.12\n",
            "folium                        0.12.1.post1\n",
            "frozenlist                    1.3.3\n",
            "fsspec                        2022.11.0\n",
            "future                        0.16.0\n",
            "gast                          0.4.0\n",
            "GDAL                          2.2.2\n",
            "gdown                         4.4.0\n",
            "gensim                        3.6.0\n",
            "geographiclib                 1.52\n",
            "geopy                         1.17.0\n",
            "gin-config                    0.5.0\n",
            "glob2                         0.7\n",
            "google                        2.0.3\n",
            "google-api-core               2.8.2\n",
            "google-api-python-client      1.12.11\n",
            "google-auth                   2.14.1\n",
            "google-auth-httplib2          0.0.4\n",
            "google-auth-oauthlib          0.4.6\n",
            "google-cloud-bigquery         3.3.6\n",
            "google-cloud-bigquery-storage 2.16.2\n",
            "google-cloud-core             2.3.2\n",
            "google-cloud-datastore        2.9.0\n",
            "google-cloud-firestore        2.7.2\n",
            "google-cloud-language         2.6.1\n",
            "google-cloud-storage          2.5.0\n",
            "google-cloud-translate        3.8.4\n",
            "google-colab                  1.0.0\n",
            "google-crc32c                 1.5.0\n",
            "google-pasta                  0.2.0\n",
            "google-resumable-media        2.4.0\n",
            "googleapis-common-protos      1.57.0\n",
            "googledrivedownloader         0.4\n",
            "graphviz                      0.10.1\n",
            "greenlet                      2.0.1\n",
            "grpcio                        1.50.0\n",
            "grpcio-status                 1.48.2\n",
            "gspread                       3.4.2\n",
            "gspread-dataframe             3.0.8\n",
            "gym                           0.25.2\n",
            "gym-notices                   0.0.8\n",
            "h5py                          3.1.0\n",
            "HeapDict                      1.0.1\n",
            "hijri-converter               2.2.4\n",
            "holidays                      0.17\n",
            "holoviews                     1.14.9\n",
            "html5lib                      1.0.1\n",
            "httpimport                    0.5.18\n",
            "httplib2                      0.17.4\n",
            "httpstan                      4.6.1\n",
            "humanize                      0.5.1\n",
            "hyperopt                      0.1.2\n",
            "idna                          2.10\n",
            "imageio                       2.9.0\n",
            "imagesize                     1.4.1\n",
            "imbalanced-learn              0.8.1\n",
            "imblearn                      0.0\n",
            "imgaug                        0.4.0\n",
            "importlib-metadata            4.13.0\n",
            "importlib-resources           5.10.0\n",
            "imutils                       0.5.4\n",
            "inflect                       2.1.0\n",
            "intel-openmp                  2022.2.1\n",
            "intervaltree                  2.1.0\n",
            "ipykernel                     5.3.4\n",
            "ipython                       7.9.0\n",
            "ipython-genutils              0.2.0\n",
            "ipython-sql                   0.3.9\n",
            "ipywidgets                    7.7.1\n",
            "itsdangerous                  1.1.0\n",
            "jax                           0.3.25\n",
            "jaxlib                        0.3.25+cuda11.cudnn805\n",
            "jieba                         0.42.1\n",
            "Jinja2                        2.11.3\n",
            "joblib                        1.2.0\n",
            "jpeg4py                       0.1.4\n",
            "jsonschema                    4.3.3\n",
            "jupyter-client                6.1.12\n",
            "jupyter-console               6.1.0\n",
            "jupyter-core                  4.11.2\n",
            "jupyterlab-widgets            3.0.3\n",
            "kaggle                        1.5.12\n",
            "kapre                         0.3.7\n",
            "keras                         2.9.0\n",
            "Keras-Preprocessing           1.1.2\n",
            "keras-vis                     0.4.1\n",
            "kiwisolver                    1.4.4\n",
            "korean-lunar-calendar         0.3.1\n",
            "landlab                       2.5.0\n",
            "langcodes                     3.3.0\n",
            "libclang                      14.0.6\n",
            "librosa                       0.8.1\n",
            "lightgbm                      2.2.3\n",
            "llvmlite                      0.39.1\n",
            "lmdb                          0.99\n",
            "locket                        1.0.0\n",
            "logical-unification           0.4.5\n",
            "LunarCalendar                 0.0.9\n",
            "lxml                          4.9.1\n",
            "Markdown                      3.4.1\n",
            "MarkupSafe                    2.0.1\n",
            "marshmallow                   3.19.0\n",
            "matplotlib                    3.2.2\n",
            "matplotlib-venn               0.11.7\n",
            "miniKanren                    1.0.3\n",
            "missingno                     0.5.1\n",
            "mistune                       0.8.4\n",
            "mizani                        0.7.3\n",
            "mkl                           2019.0\n",
            "mlxtend                       0.14.0\n",
            "more-itertools                9.0.0\n",
            "moviepy                       0.2.3.5\n",
            "mpmath                        1.2.1\n",
            "msgpack                       1.0.4\n",
            "multidict                     6.0.2\n",
            "multipledispatch              0.6.0\n",
            "multitasking                  0.0.11\n",
            "murmurhash                    1.0.9\n",
            "music21                       5.5.0\n",
            "mypy-extensions               0.4.3\n",
            "natsort                       5.5.0\n",
            "nbconvert                     5.6.1\n",
            "nbformat                      5.7.0\n",
            "netCDF4                       1.6.2\n",
            "networkx                      2.6.3\n",
            "nibabel                       3.0.2\n",
            "nltk                          3.7\n",
            "notebook                      5.7.16\n",
            "numba                         0.56.4\n",
            "numexpr                       2.8.4\n",
            "numpy                         1.22.4\n",
            "oauth2client                  4.1.3\n",
            "oauthlib                      3.2.2\n",
            "okgrade                       0.4.3\n",
            "opencv-contrib-python         4.6.0.66\n",
            "opencv-python                 4.6.0.66\n",
            "opencv-python-headless        4.6.0.66\n",
            "openpyxl                      3.0.10\n",
            "opt-einsum                    3.3.0\n",
            "osqp                          0.6.2.post0\n",
            "packaging                     21.3\n",
            "palettable                    3.3.0\n",
            "pandas                        1.3.5\n",
            "pandas-datareader             0.9.0\n",
            "pandas-gbq                    0.17.9\n",
            "pandas-profiling              1.4.1\n",
            "pandocfilters                 1.5.0\n",
            "panel                         0.12.1\n",
            "param                         1.12.2\n",
            "parso                         0.8.3\n",
            "partd                         1.3.0\n",
            "pastel                        0.2.1\n",
            "pathlib                       1.0.1\n",
            "pathspec                      0.10.2\n",
            "pathy                         0.9.0\n",
            "patsy                         0.5.3\n",
            "pep517                        0.13.0\n",
            "pexpect                       4.8.0\n",
            "pickleshare                   0.7.5\n",
            "Pillow                        7.1.2\n",
            "pip                           21.1.3\n",
            "pip-tools                     6.2.0\n",
            "platformdirs                  2.5.4\n",
            "plotly                        5.5.0\n",
            "plotnine                      0.8.0\n",
            "pluggy                        0.7.1\n",
            "pooch                         1.6.0\n",
            "portpicker                    1.3.9\n",
            "prefetch-generator            1.0.3\n",
            "preshed                       3.0.8\n",
            "prettytable                   3.5.0\n",
            "progressbar2                  3.38.0\n",
            "prometheus-client             0.15.0\n",
            "promise                       2.3\n",
            "prompt-toolkit                2.0.10\n",
            "prophet                       1.1.1\n",
            "proto-plus                    1.22.1\n",
            "protobuf                      3.19.6\n",
            "psutil                        5.4.8\n",
            "psycopg2                      2.9.5\n",
            "ptyprocess                    0.7.0\n",
            "py                            1.11.0\n",
            "pyarrow                       9.0.0\n",
            "pyasn1                        0.4.8\n",
            "pyasn1-modules                0.2.8\n",
            "pycocotools                   2.0.6\n",
            "pycparser                     2.21\n",
            "pyct                          0.4.8\n",
            "pydantic                      1.10.2\n",
            "pydata-google-auth            1.4.0\n",
            "pydot                         1.3.0\n",
            "pydot-ng                      2.0.0\n",
            "pydotplus                     2.0.2\n",
            "PyDrive                       1.3.1\n",
            "pyemd                         0.5.1\n",
            "pyerfa                        2.0.0.1\n",
            "Pygments                      2.6.1\n",
            "pygobject                     3.26.1\n",
            "pylev                         1.4.0\n",
            "pymc                          4.1.4\n",
            "PyMeeus                       0.5.11\n",
            "pymongo                       4.3.3\n",
            "pymystem3                     0.2.0\n",
            "PyOpenGL                      3.1.6\n",
            "pyparsing                     3.0.9\n",
            "pyrsistent                    0.19.2\n",
            "pyshp                         2.3.1\n",
            "pysimdjson                    3.2.0\n",
            "pysndfile                     1.3.8\n",
            "PySocks                       1.7.1\n",
            "pystan                        3.3.0\n",
            "pytest                        3.6.4\n",
            "python-apt                    0.0.0\n",
            "python-dateutil               2.8.2\n",
            "python-louvain                0.16\n",
            "python-slugify                7.0.0\n",
            "python-utils                  3.4.5\n",
            "pytz                          2022.6\n",
            "pyviz-comms                   2.2.1\n",
            "PyWavelets                    1.3.0\n",
            "PyYAML                        6.0\n",
            "pyzmq                         23.2.1\n",
            "qdldl                         0.1.5.post2\n",
            "qudida                        0.0.4\n",
            "regex                         2022.6.2\n",
            "requests                      2.23.0\n",
            "requests-oauthlib             1.3.1\n",
            "resampy                       0.4.2\n",
            "richdem                       0.3.4\n",
            "rpy2                          3.5.5\n",
            "rsa                           4.9\n",
            "scikit-image                  0.18.3\n",
            "scikit-learn                  1.0.2\n",
            "scipy                         1.7.3\n",
            "screen-resolution-extra       0.0.0\n",
            "scs                           3.2.2\n",
            "seaborn                       0.11.2\n",
            "Send2Trash                    1.8.0\n",
            "setuptools                    57.4.0\n",
            "setuptools-git                1.2\n",
            "Shapely                       1.8.5.post1\n",
            "six                           1.15.0\n",
            "sklearn-pandas                1.8.0\n",
            "smart-open                    5.2.1\n",
            "snowballstemmer               2.2.0\n",
            "sortedcontainers              2.4.0\n",
            "soundfile                     0.11.0\n",
            "spacy                         3.4.3\n",
            "spacy-legacy                  3.0.10\n",
            "spacy-loggers                 1.0.3\n",
            "Sphinx                        1.8.6\n",
            "sphinxcontrib-serializinghtml 1.1.5\n",
            "sphinxcontrib-websupport      1.2.4\n",
            "SQLAlchemy                    1.4.44\n",
            "sqlparse                      0.4.3\n",
            "srsly                         2.4.5\n",
            "statsmodels                   0.12.2\n",
            "sympy                         1.7.1\n",
            "tables                        3.7.0\n",
            "tabulate                      0.8.10\n",
            "tblib                         1.7.0\n",
            "tenacity                      8.1.0\n",
            "tensorboard                   2.9.1\n",
            "tensorboard-data-server       0.6.1\n",
            "tensorboard-plugin-wit        1.8.1\n",
            "tensorflow                    2.9.2\n",
            "tensorflow-datasets           4.6.0\n",
            "tensorflow-estimator          2.9.0\n",
            "tensorflow-gcs-config         2.9.1\n",
            "tensorflow-hub                0.12.0\n",
            "tensorflow-io-gcs-filesystem  0.28.0\n",
            "tensorflow-metadata           1.11.0\n",
            "tensorflow-probability        0.17.0\n",
            "termcolor                     2.1.1\n",
            "terminado                     0.13.3\n",
            "testpath                      0.6.0\n",
            "text-unidecode                1.3\n",
            "textblob                      0.15.3\n",
            "thinc                         8.1.5\n",
            "threadpoolctl                 3.1.0\n",
            "tifffile                      2021.11.2\n",
            "toml                          0.10.2\n",
            "tomli                         2.0.1\n",
            "toolz                         0.12.0\n",
            "torch                         1.12.1+cu113\n",
            "torchaudio                    0.12.1+cu113\n",
            "torchsummary                  1.5.1\n",
            "torchtext                     0.13.1\n",
            "torchvision                   0.13.1+cu113\n",
            "tornado                       6.0.4\n",
            "tqdm                          4.64.1\n",
            "traitlets                     5.1.1\n",
            "tweepy                        3.10.0\n",
            "typeguard                     2.7.1\n",
            "typer                         0.7.0\n",
            "typing-extensions             4.1.1\n",
            "tzlocal                       1.5.1\n",
            "uritemplate                   3.0.1\n",
            "urllib3                       1.24.3\n",
            "vega-datasets                 0.9.0\n",
            "wasabi                        0.10.1\n",
            "wcwidth                       0.2.5\n",
            "webargs                       8.2.0\n",
            "webencodings                  0.5.1\n",
            "Werkzeug                      1.0.1\n",
            "wheel                         0.38.4\n",
            "widgetsnbextension            3.6.1\n",
            "wordcloud                     1.8.2.2\n",
            "wrapt                         1.14.1\n",
            "xarray                        0.20.2\n",
            "xarray-einstats               0.2.2\n",
            "xgboost                       0.90\n",
            "xkit                          0.0.0\n",
            "xlrd                          1.1.0\n",
            "xlwt                          1.3.0\n",
            "yarl                          1.8.1\n",
            "yellowbrick                   1.5\n",
            "zict                          2.2.0\n",
            "zipp                          3.10.0\n"
          ]
        }
      ]
    },
    {
      "cell_type": "markdown",
      "metadata": {
        "id": "SQu2De2FLHCe"
      },
      "source": [
        "**Now on to the code...**\n",
        "\n",
        "First we have to import the parts of Python and Landlab that are needed to run this code. You should not have to change this first code block.\n",
        "\n",
        "**IF YOU GET AN ERROR HERE, click on \"Runtime\" in the top menu, and then \"Restart runtime\". Then try running this cell again.**"
      ]
    },
    {
      "cell_type": "code",
      "metadata": {
        "id": "lSgP3M70LHCe"
      },
      "source": [
        "# Code block 1\n",
        "\n",
        "import copy\n",
        "\n",
        "import numpy as np\n",
        "from matplotlib import pyplot as plt\n",
        "\n",
        "from landlab import RasterModelGrid, imshow_grid\n",
        "from landlab.components import (\n",
        "    ChannelProfiler,\n",
        "    ChiFinder,\n",
        "    FlowAccumulator,\n",
        "    SteepnessFinder,\n",
        "    StreamPowerEroder,\n",
        ")\n",
        "from landlab.io import write_esri_ascii"
      ],
      "execution_count": 1,
      "outputs": []
    },
    {
      "cell_type": "markdown",
      "metadata": {
        "id": "HPMQZMHcLHCg"
      },
      "source": [
        "Make a grid and set boundary conditions. This is the same thing we did during our practical on hillslope evolution!"
      ]
    },
    {
      "cell_type": "code",
      "metadata": {
        "id": "fs6vQmwdLHCh"
      },
      "source": [
        "# Code Block 2\n",
        "\n",
        "number_of_rows = 50  # number of raster cells in vertical direction (y)\n",
        "number_of_columns = 100  # number of raster cells in horizontal direction (x)\n",
        "dxy = 200  # side length of a raster model cell, or resolution [m]\n",
        "\n",
        "# Below is a raster (square cells) grid, with equal width and height\n",
        "mg1 = RasterModelGrid((number_of_rows, number_of_columns), dxy)\n",
        "\n",
        "# Set boundary conditions - only the south side of the grid is open.\n",
        "# Boolean parameters are sent to function in order of\n",
        "# east, north, west, south.\n",
        "mg1.set_closed_boundaries_at_grid_edges(True, True, True, False)"
      ],
      "execution_count": null,
      "outputs": []
    },
    {
      "cell_type": "markdown",
      "metadata": {
        "id": "cjv0wU2QLHCi"
      },
      "source": [
        "Here we make the initial grid of elevation of zeros with a very small amount of noise to make a more pleasing network. We will make a plot just to show what the initial landscape looks like before we run the model."
      ]
    },
    {
      "cell_type": "code",
      "metadata": {
        "id": "4hAgj1WgLHCj"
      },
      "source": [
        "# Code Block 3\n",
        "\n",
        "np.random.seed(35)  # seed set so our figures are reproducible\n",
        "mg1_noise = (np.random.rand(mg1.number_of_nodes) / 1000.0\n",
        "             )  # intial noise on elevation gri\n",
        "\n",
        "# set up the elevation on the grid\n",
        "z1 = mg1.add_zeros(\"topographic__elevation\", at=\"node\")\n",
        "z1 += mg1_noise\n",
        "\n",
        "# plot the initial topography\n",
        "imshow_grid(mg1, z1,\n",
        "            grid_units=(\"m\", \"m\"),\n",
        "            var_name=\"Elevation (m)\")\n",
        "plt.title('Initial topography')\n",
        "\n",
        "max_elev = np.max(z1)\n",
        "print(\"Maximum elevation is \", np.max(z1))"
      ],
      "execution_count": null,
      "outputs": []
    },
    {
      "cell_type": "markdown",
      "metadata": {
        "id": "a8gElwRQLHCk"
      },
      "source": [
        "Set parameters related to time."
      ]
    },
    {
      "cell_type": "code",
      "metadata": {
        "id": "x6kmcnv5LHCk"
      },
      "source": [
        "# Code Block 4\n",
        "\n",
        "tmax = 500000  # time for the model to run [yr] (Original value was 500,000 yr)\n",
        "dt = 1000  # time step [yr] (Original value was 1000 yr)\n",
        "total_time = 0  # amount of time the landscape has evolved [yr]\n",
        "# total_time will increase as you keep running the code.\n",
        "\n",
        "t = np.arange(0, tmax, dt)  # each of the time steps that the code will run"
      ],
      "execution_count": null,
      "outputs": []
    },
    {
      "cell_type": "markdown",
      "source": [
        "Set the erodibility parameter, $K$ and other parameters of the stream power model"
      ],
      "metadata": {
        "id": "XUmjqeZvs-Sg"
      }
    },
    {
      "cell_type": "code",
      "source": [
        "# Code Block 5\n",
        "\n",
        "# Original K_sp value is 0.00001\n",
        "K_sp = 0.00001  # units vary depending on m_sp and n_sp\n",
        "m_sp = 0.5  # exponent on drainage area in stream power equation\n",
        "n_sp = 1.0  # exponent on slope in stream power equation. Divide m_sp by n_sp to get the theta value of the stream power model (starting value = 0.5)\n",
        "theta = m_sp / n_sp\n",
        "\n",
        "frr = FlowAccumulator(mg1, flow_director='FlowDirectorD8')  # intializing flow routing\n",
        "spr = StreamPowerEroder(mg1, K_sp=K_sp, m_sp=m_sp, n_sp=n_sp,\n",
        "                        threshold_sp=0.0)  # initializing stream power incision"
      ],
      "metadata": {
        "id": "lJDGAwfNs8Wk"
      },
      "execution_count": null,
      "outputs": []
    },
    {
      "cell_type": "markdown",
      "metadata": {
        "id": "vl_9prrvLHCl"
      },
      "source": [
        " We also initialize tools for quantifying the landscape."
      ]
    },
    {
      "cell_type": "code",
      "metadata": {
        "id": "B0AdG10XLHCl"
      },
      "source": [
        "# Code Block 6\n",
        "\n",
        "# initialize the component that will calculate channel steepness\n",
        "sf = SteepnessFinder(mg1, reference_concavity=theta, min_drainage_area=1000.0)\n",
        "# initialize the component that will calculate the chi index\n",
        "cf = ChiFinder(mg1,\n",
        "               min_drainage_area=1000.0,\n",
        "               reference_concavity=theta,\n",
        "               use_true_dx=True)\n"
      ],
      "execution_count": null,
      "outputs": []
    },
    {
      "cell_type": "markdown",
      "metadata": {
        "id": "CK5xscWALHCm"
      },
      "source": [
        "Initialize rock uplift rate. This will need to be changed later."
      ]
    },
    {
      "cell_type": "code",
      "metadata": {
        "id": "PCftsf3RLHCm"
      },
      "source": [
        "# Code Block 7\n",
        "\n",
        "#  uplift_rate [m/yr] (Original value is 0.0001 m/yr)\n",
        "# CHANGE THIS VALUE BELOW TO CHANGE THE ROCK UPLIFT RATE.\n",
        "uplift = 0.0001\n",
        "\n",
        "# this just sets the uplift rate you have specified above across the whole model grid.\n",
        "uplift_rate = np.ones(mg1.number_of_nodes) * uplift"
      ],
      "execution_count": null,
      "outputs": []
    },
    {
      "cell_type": "markdown",
      "metadata": {
        "id": "vHXUql8pLHCm"
      },
      "source": [
        "Now for the code loop. \n",
        "\n",
        "Note that you can rerun Code Block 8 many times, and as long as you don't reset the elevation field (Code Block 3), it will take the already evolved landscape and evolve it even more. If you want to change parameters in other code blocks (e.g. Code Block 4, 5, or 7), you can do that too, and as long as you don't reset the elevation field (Code Block 3) the new parameters will apply on the already evolved topography. "
      ]
    },
    {
      "cell_type": "code",
      "metadata": {
        "scrolled": true,
        "id": "jUJAt-7pLHCn"
      },
      "source": [
        "# Code Block 8\n",
        "\n",
        "for ti in t:\n",
        "    z1[mg1.\n",
        "       core_nodes] += uplift_rate[mg1.core_nodes] * dt  # uplift the landscape\n",
        "    frr.run_one_step()  # route flow\n",
        "    spr.run_one_step(dt)  # fluvial incision\n",
        "    total_time += dt  # update time keeper\n",
        "    print(total_time)"
      ],
      "execution_count": null,
      "outputs": []
    },
    {
      "cell_type": "markdown",
      "metadata": {
        "id": "jSrps_RyLHCo"
      },
      "source": [
        "Plot the topography. This shows you what our model landscape looks like after we have run the model for your specified runtime using Code Block 8."
      ]
    },
    {
      "cell_type": "code",
      "metadata": {
        "id": "Cnc4RtBWLHCo"
      },
      "source": [
        "# Code Block 9\n",
        "\n",
        "imshow_grid(mg1,\n",
        "            \"topographic__elevation\",\n",
        "            grid_units=(\"m\", \"m\"),\n",
        "            var_name=\"Elevation (m)\")\n",
        "title_text = f\"$K_{{sp}}$={K_sp}; $time$={total_time} yr; $dx$={dxy} m\"\n",
        "plt.title(title_text)\n",
        "\n",
        "max_elev = np.max(z1)\n",
        "print(\"Maximum elevation is \", np.max(z1))"
      ],
      "execution_count": null,
      "outputs": []
    },
    {
      "cell_type": "markdown",
      "metadata": {
        "id": "M8X_VSLhLHCp"
      },
      "source": [
        "Plot the slope and area data at each point on the landscape (in log-log space). We will only plot the core nodes because the boundary nodes have slopes that are influenced by the boundary conditions. "
      ]
    },
    {
      "cell_type": "code",
      "metadata": {
        "scrolled": true,
        "id": "FDoxCd6YLHCp"
      },
      "source": [
        "# Code Block 10\n",
        "\n",
        "plt.loglog(\n",
        "    mg1.at_node[\"drainage_area\"][mg1.core_nodes],\n",
        "    mg1.at_node[\"topographic__steepest_slope\"][mg1.core_nodes],\n",
        "    \"b.\",\n",
        ")\n",
        "plt.ylabel(\"Topographic slope\")\n",
        "plt.xlabel(\"Drainage area (m^2)\")\n",
        "title_text = f\"$K_{{sp}}$={K_sp}; $time$={total_time} yr; $dx$={dxy} m\"\n",
        "\n",
        "plt.title(title_text)"
      ],
      "execution_count": null,
      "outputs": []
    },
    {
      "cell_type": "markdown",
      "metadata": {
        "id": "5V4FuvXbLHCp"
      },
      "source": [
        "It is slightly easier to interpret slope-area data when we look at a single channel, rather than the entire landscape. Below we plot the profile and slope-area data for the three largest channels on the landscape."
      ]
    },
    {
      "cell_type": "code",
      "metadata": {
        "id": "b6uj2PMuLHCq"
      },
      "source": [
        "# Code Block 11\n",
        "\n",
        "# profile the largest channels, set initially to find the mainstem channel in the three biggest watersheds\n",
        "# you can change the number of watersheds, or choose to plot all the channel segments in the watershed that\n",
        "# have drainage area below the threshold (here we have set the threshold to the area of a grid cell).\n",
        "prf = ChannelProfiler(mg1,\n",
        "                      number_of_watersheds=3,\n",
        "                      main_channel_only=True,\n",
        "                      minimum_channel_threshold=dxy**2)\n",
        "prf.run_one_step()\n",
        "\n",
        "# plot the elevation as a function of distance upstream\n",
        "plt.figure(1)\n",
        "title_text = f\"$K_{{sp}}$={K_sp}; $time$={total_time} yr; $dx$={dxy} m\"\n",
        "prf.plot_profiles(xlabel='distance upstream (m)',\n",
        "                  ylabel='elevation (m)',\n",
        "                  title=title_text)\n",
        "\n",
        "# plot the location of the channels in map view\n",
        "plt.figure(2)\n",
        "prf.plot_profiles_in_map_view()\n",
        "\n",
        "# slope-area data in just the profiled channels\n",
        "plt.figure(3)\n",
        "for i, outlet_id in enumerate(prf.data_structure):\n",
        "    for j, segment_id in enumerate(prf.data_structure[outlet_id]):\n",
        "        if j == 0:\n",
        "            label = \"channel {i}\".format(i=i + 1)\n",
        "        else:\n",
        "            label = '_nolegend_'\n",
        "        segment = prf.data_structure[outlet_id][segment_id]\n",
        "        profile_ids = segment[\"ids\"]\n",
        "        color = segment[\"color\"]\n",
        "        plt.loglog(\n",
        "            mg1.at_node[\"drainage_area\"][profile_ids],\n",
        "            mg1.at_node[\"topographic__steepest_slope\"][profile_ids],\n",
        "            '.',\n",
        "            color=color,\n",
        "            label=label,\n",
        "        )\n",
        "\n",
        "plt.legend(loc=\"upper left\")\n",
        "plt.xlabel(\"drainage area (m^2)\")\n",
        "plt.ylabel(\"channel slope [m/m]\")\n",
        "title_text = f\"$K_{{sp}}$={K_sp}; $time$={total_time} yr; $dx$={dxy} m\"\n",
        "plt.title(title_text)"
      ],
      "execution_count": null,
      "outputs": []
    },
    {
      "cell_type": "markdown",
      "source": [
        "Remember from last week's lecture that slope-area plots are sometimes noisy and difficult to fit a regression to find a correct channel steepness value. We can therefore make plots of chi ($\\chi$) against elevation, which allows us to calculate channel steepness across the landscape. First, let's look at what our plots of chi against elevation look like for these same 3 rivers:"
      ],
      "metadata": {
        "id": "grjL-XMXRYTU"
      }
    },
    {
      "cell_type": "code",
      "source": [
        "# Code Block 12\n",
        "\n",
        "# calculate the chi index\n",
        "cf.calculate_chi()\n",
        "\n",
        "# chi-elevation plots in the profiled channels\n",
        "plt.figure(4)\n",
        "\n",
        "for i, outlet_id in enumerate(prf.data_structure):\n",
        "    for j, segment_id in enumerate(prf.data_structure[outlet_id]):\n",
        "        if j == 0:\n",
        "            label = \"channel {i}\".format(i=i + 1)\n",
        "        else:\n",
        "            label = '_nolegend_'\n",
        "        segment = prf.data_structure[outlet_id][segment_id]\n",
        "        profile_ids = segment[\"ids\"]\n",
        "        color = segment[\"color\"]\n",
        "        plt.plot(\n",
        "            mg1.at_node[\"channel__chi_index\"][profile_ids],\n",
        "            mg1.at_node[\"topographic__elevation\"][profile_ids],\n",
        "            color=color,\n",
        "            label=label,\n",
        "        )\n",
        "\n",
        "plt.xlabel(\"chi index (m)\")\n",
        "plt.ylabel(\"elevation (m)\")\n",
        "plt.legend(loc=\"lower right\")\n",
        "title_text = f\"$K_{{sp}}$={K_sp}; $time$={total_time} yr; $dx$={dxy} m; concavity={theta}\"\n",
        "plt.title(title_text)"
      ],
      "metadata": {
        "id": "O4SqNV-BRUDu"
      },
      "execution_count": null,
      "outputs": []
    },
    {
      "cell_type": "markdown",
      "metadata": {
        "id": "FFW7lbI6LHCr"
      },
      "source": [
        "We can see that there are convexities in this plot: remember at steady state, there should be a linear relationship between the chi index and elevation. This convexity suggests there is a change in channel steepness as we go upstream. Let's look at channel steepness in the same three largest channels, and also plot steepness index across the grid. Remember we calculate channel steepness by taking the gradient of the line between chi and elevation."
      ]
    },
    {
      "cell_type": "code",
      "metadata": {
        "id": "8jxJbEGFLHCr"
      },
      "source": [
        "# Code Block 13\n",
        "\n",
        "# calculate channel steepness\n",
        "sf.calculate_steepnesses()\n",
        "\n",
        "# plots of steepnes vs. distance upstream in the profiled channels\n",
        "plt.figure(6)\n",
        "\n",
        "for i, outlet_id in enumerate(prf.data_structure):\n",
        "    for j, segment_id in enumerate(prf.data_structure[outlet_id]):\n",
        "        if j == 0:\n",
        "            label = \"channel {i}\".format(i=i + 1)\n",
        "        else:\n",
        "            label = '_nolegend_'\n",
        "        segment = prf.data_structure[outlet_id][segment_id]\n",
        "        profile_ids = segment[\"ids\"]\n",
        "        distance_upstream = segment[\"distances\"]\n",
        "        color = segment[\"color\"]\n",
        "        plt.plot(\n",
        "            distance_upstream,\n",
        "            mg1.at_node[\"channel__steepness_index\"][profile_ids],\n",
        "            'x',\n",
        "            color=color,\n",
        "            label=label,\n",
        "        )\n",
        "\n",
        "plt.xlabel(\"distance upstream (m)\")\n",
        "plt.ylabel(\"Channel steepness\")\n",
        "plt.legend(loc=\"upper left\")\n",
        "plt.title(\n",
        "    f\"$K_{{sp}}$={K_sp}; $time$={total_time} yr; $dx$={dxy} m; concavity={theta}\"\n",
        ")\n",
        "\n",
        "# channel steepness map\n",
        "plt.figure(7)\n",
        "imshow_grid(\n",
        "    mg1,\n",
        "    \"channel__steepness_index\",\n",
        "    grid_units=(\"m\", \"m\"),\n",
        "    var_name=\"Channel steepness\",\n",
        "    cmap=\"jet\",\n",
        ")\n",
        "title_text = (\"$K_{sp}$=\" + str(K_sp) + \"; $time$=\" + str(total_time) +\n",
        "              \"yr; $dx$=\" + str(dxy) + \"m\" + \"; concavity=\" + str(theta))\n",
        "plt.title(\n",
        "    f\"$K_{{sp}}$={K_sp}; $time$={total_time} yr; $dx$={dxy} m; concavity={theta}\"\n",
        ")"
      ],
      "execution_count": null,
      "outputs": []
    },
    {
      "cell_type": "markdown",
      "metadata": {
        "id": "9cVaBGcULHCs"
      },
      "source": [
        "We can export the model elevations to a DEM, that you can then load into a GIS. If want to do this, edit the `write_file_name` below to be the name that you want to use for the DEM and run the code block."
      ]
    },
    {
      "cell_type": "code",
      "metadata": {
        "id": "Es7owbztLHCs"
      },
      "source": [
        "# Code Block 14\n",
        "import os\n",
        "\n",
        "# Below has the name of the file that data will be written to.\n",
        "# You need to change the name of the file every time that you want\n",
        "# to write data, otherwise you will get an error.\n",
        "# This will write to the directory that you are running the code in.\n",
        "write_file_name = 'data_file.txt'\n",
        "\n",
        "# check if the DEM already exists, and if so, remove it to save again\n",
        "if os.path.exists('./'+write_file_name):\n",
        "  os.remove('./'+write_file_name)\n",
        "\n",
        "# Below is writing elevation data in the ESRI ascii format so that it can\n",
        "# easily be read into Arc GIS or back into Landlab.\n",
        "write_esri_ascii(write_file_name, mg1, 'topographic__elevation')"
      ],
      "execution_count": null,
      "outputs": []
    },
    {
      "cell_type": "markdown",
      "metadata": {
        "id": "RSqBMOVrhFl4"
      },
      "source": [
        "Let's write data about the river profiles to a CSV file so that we can open it in Excel if you want to:"
      ]
    },
    {
      "cell_type": "code",
      "metadata": {
        "id": "30FeaaCJhMEC"
      },
      "source": [
        "# Code Block 15\n",
        "\n",
        "import pandas as pd\n",
        "\n",
        "# loop through the profiles in the channel profiler and save the profile characteristics to a pandas dataframe\n",
        "prf_df = pd.DataFrame(columns=['channel_no', 'elevation', 'chi', 'channel_steepness', 'drainage_area', 'slope'])\n",
        "for i, outlet_id in enumerate(prf.data_structure):\n",
        "    for j, segment_id in enumerate(prf.data_structure[outlet_id]):\n",
        "        this_df = pd.DataFrame(columns=['channel_no', 'elevation', 'chi', 'channel_steepness', 'drainage_area', 'slope'])\n",
        "        segment = prf.data_structure[outlet_id][segment_id]\n",
        "        this_df['elevation'] = mg1.at_node[\"topographic__elevation\"][profile_ids]\n",
        "        this_df['chi'] = mg1.at_node[\"channel__chi_index\"][profile_ids]\n",
        "        this_df['channel_steepness'] = mg1.at_node[\"channel__steepness_index\"][profile_ids]\n",
        "        this_df['drainage_area'] = mg1.at_node[\"drainage_area\"][profile_ids]\n",
        "        this_df['slope'] = mg1.at_node[\"topographic__steepest_slope\"][profile_ids]\n",
        "    this_df['channel_no'] = int(i+1)\n",
        "    prf_df = prf_df.append(this_df)\n",
        "\n",
        "# Below has the name of the csv file that data will be written to.\n",
        "# You need to change the name of the file every time that you want\n",
        "# to write data, otherwise the file will keep overwriting\n",
        "# This will write to the directory that you are running the code in.\n",
        "csv_file_name = 'river_profiles.csv'\n",
        "\n",
        "# check if the CSV already exists, and if so, remove it to save again\n",
        "if os.path.exists('./'+csv_file_name):\n",
        "  os.remove('./'+csv_file_name)\n",
        "\n",
        "# write the dataframe to a csv file\n",
        "prf_df.to_csv(csv_file_name)"
      ],
      "execution_count": null,
      "outputs": []
    },
    {
      "cell_type": "markdown",
      "metadata": {
        "id": "st1tcXajPXQR"
      },
      "source": [
        "---\n",
        "\n",
        "## Question...\n",
        "\n",
        "After running every code block once, has the landscape reached steady state?\n",
        "\n",
        "Answer: **NO!** How do you know? After you think about this, you are ready to complete the practical.\n",
        "\n",
        "---"
      ]
    },
    {
      "cell_type": "markdown",
      "metadata": {
        "id": "xsdt3eAtLHCs"
      },
      "source": [
        "## Practical exercises\n",
        "\n",
        "Answer the following questions using the code above and below. Code Blocks 9-13 produce different figures that you may find useful. You can use any or all of these different figures to help you with the questions below. (Download or screenshot the figures.) \n",
        "\n",
        "1. **Steady state with low uplift rate.** Using the code above, run the landscape to steady state. To do this, run the main evolution loop again - Code Block 8 - and the different plotting blocks WITHOUT running the code blocks above them. (You could also change $tmax$ in Code Block 4 instead). How did you know that the landscape reached steady state? Note the approximate time that it took to reach steady state for your own reference. (This will be useful for later questions.) Include appropriate plots. (If you want to analyze these landscapes outside of Landlab or save for later, make sure you save the elevation data to a text file (Code Block 14) and the river profiles to a CSV file (Code Block 15).)\n",
        "\n",
        "---------------------\n",
        "\n",
        "**NOTE, For the rest of the questions you should modify the parameters in Code Blocks 4, 5, and 7. Then run Code Block 8 to add time on to your existing model run or \"base\" landscape. If you want to start from a flat surface again, then you need to re-run the notebook from Code Block 2.**\n",
        "\n",
        "--------------------\n",
        "\n",
        "2. What do you think will happen to this steady-state or \"base\" landscape if we increased rock uplift rate? How would you expect landscape relief and channel steepness to change? Write down your answers or hypothesis BEFORE you start running any code.\n",
        "\n",
        "3. What do you think would happen to this base landscape if we instead increased rock erodibility, or $K_{sp}$? How would relief and channel steepness change in this case? Write down your answers or hypothesis BEFORE you start running any code.\n",
        "\n",
        "4. **Transient landscape responding to an increase in rock uplift.** Use the base landscape and increase rock uplift uniformly by a factor of 4 to 0.0004 m/yr. Make sure you update the rock uplift rate (Code Block 7) and ensure that $tmax$ is 100,000 yrs and $dt$ is 500 yrs (Code Block 4). Once you have changed the parameters in these blocks REMEMBER TO RE-RUN THESE BLOCKS OR THE CODE WILL STILL USE THE OLD PARAMETERS. Run this until the maximum elevation in the grid is ~ 170 m (to re-run for a longer time, run Code Block 8 again) and observe how the landscape gets to this elevation, i.e. plot intermediate steps. What patterns do you see in the supporting plots that show the landscape is transient?\n",
        "\n",
        "5. **Steady-state landscape with increased rock uplift.** Now keep running with the same parameters until your landscape reaches steady state (i.e. run the time loop, Code Block 8, lots more times: if you want, you can increase $tmax$ and $dt$ to make this run faster). Provide a plot that illustrates that the landscape is in steady state. What aspects of the landscape have changed in comparison with the base landscape from question 1?\n",
        "\n",
        "6. **Increase erodibility.** Start again with a NEW landscape (re-run from Code Block 2). Make sure rock uplift rate is set to the original value of 0.0001 m/yr (Code Block 8). Run the landscape to steady state with the original $K_{sp}$ value of 0.00001, with $tmax$ of 1,500,000 years and $dt$ of 1,000 years. After you have reached steady state, double $K_{sp}$ to 0.00002 (Code Block 5), then change $tmax$ to 100,000 years and $dt$ to 500 years. Change $tmax$ to 100,000 years, and then run the model again a couple of times. Quantitatively describe how the landscape evolves in response to the increase in erodibility and provide supporting plots. What could cause a uniform increase in erodibility?\n",
        "\n",
        "7. **Final reflections**. Were your hypotheses correct in questions 2 and 3? It's fine if they weren't - just make sure you understand how we would expect a landscape to respond to changing erodibility and uplift!"
      ]
    },
    {
      "cell_type": "code",
      "source": [],
      "metadata": {
        "id": "m9ScABpZp37C"
      },
      "execution_count": null,
      "outputs": []
    }
  ]
}