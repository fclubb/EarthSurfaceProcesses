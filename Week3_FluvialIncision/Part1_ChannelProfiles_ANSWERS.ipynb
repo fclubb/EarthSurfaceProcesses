{
  "nbformat": 4,
  "nbformat_minor": 0,
  "metadata": {
    "kernelspec": {
      "display_name": "Python 3",
      "language": "python",
      "name": "python3"
    },
    "language_info": {
      "codemirror_mode": {
        "name": "ipython",
        "version": 3
      },
      "file_extension": ".py",
      "mimetype": "text/x-python",
      "name": "python",
      "nbconvert_exporter": "python",
      "pygments_lexer": "ipython3",
      "version": "3.8.3"
    },
    "colab": {
      "name": "Part1_ChannelProfiles.ipynb",
      "provenance": [],
      "include_colab_link": true
    }
  },
  "cells": [
    {
      "cell_type": "markdown",
      "metadata": {
        "id": "view-in-github",
        "colab_type": "text"
      },
      "source": [
        "<a href=\"https://colab.research.google.com/github/fclubb/EarthSurfaceProcesses/blob/master/Week3_FluvialIncision/Part1_ChannelProfiles_ANSWERS.ipynb\" target=\"_parent\"><img src=\"https://colab.research.google.com/assets/colab-badge.svg\" alt=\"Open In Colab\"/></a>"
      ]
    },
    {
      "cell_type": "markdown",
      "metadata": {
        "id": "1j5Eg58ejrkm"
      },
      "source": [
        "# Part 1: Exploring river profiles - Answers"
      ]
    },
    {
      "cell_type": "markdown",
      "metadata": {
        "id": "-0CIAXTYjrku"
      },
      "source": [
        "This notebook provides a walkthrough of the exercises from Practical 3 Part 1: Exploring river profiles"
      ]
    },
    {
      "cell_type": "markdown",
      "metadata": {
        "id": "pxleFuH4jrk-"
      },
      "source": [
        "__Task:__ Change the values of $k_s$ and $\\theta$ in the plots above to see how they affect the relationship between drainage area and gradient. For a reference, a gradient of 0.1 is **very** steep for a river. You will probably transition to channels dominated by debris flows at this gradient (e.g. Stock and Dietrich, 1998). \n",
        "\n",
        "_To answer this question, let's make 2 plots: one where we vary $k_s$ and one where we vary $\\theta$_"
      ]
    },
    {
      "cell_type": "markdown",
      "metadata": {
        "id": "F0fVWYmfjrk1"
      },
      "source": [
        "Import some packages I need:"
      ]
    },
    {
      "cell_type": "code",
      "metadata": {
        "id": "u2B0Y54Njrk4"
      },
      "source": [
        "import matplotlib.pyplot as plt\n",
        "import numpy as np"
      ],
      "execution_count": 4,
      "outputs": []
    },
    {
      "cell_type": "markdown",
      "metadata": {
        "id": "5zjjHy7Njrk7"
      },
      "source": [
        "Make a series of drainage areas:"
      ]
    },
    {
      "cell_type": "code",
      "metadata": {
        "id": "XZf-XG-3jrk8",
        "colab": {
          "base_uri": "https://localhost:8080/"
        },
        "outputId": "2977cf4d-1a04-449c-fada-5f1c7dab3cab"
      },
      "source": [
        "logA = np.arange(3,6.01,0.25)\n",
        "A = 10**logA\n",
        "print(logA,A)"
      ],
      "execution_count": 5,
      "outputs": [
        {
          "output_type": "stream",
          "name": "stdout",
          "text": [
            "[3.   3.25 3.5  3.75 4.   4.25 4.5  4.75 5.   5.25 5.5  5.75 6.  ] [   1000.            1778.27941004    3162.27766017    5623.4132519\n",
            "   10000.           17782.79410039   31622.77660168   56234.13251903\n",
            "  100000.          177827.94100389  316227.76601684  562341.32519035\n",
            " 1000000.        ]\n"
          ]
        }
      ]
    },
    {
      "cell_type": "markdown",
      "metadata": {
        "id": "uJXDI_I5jrk9"
      },
      "source": [
        "In this first figure (which is based on code given to you in the practical, I plot 4 different values of $k_s$ but keep $\\theta$ fixed at 0.45. You should see that varying $k_s$ changes the Y-intercept of the relationship between slope and drainage area, but doesn't change gradient."
      ]
    },
    {
      "cell_type": "code",
      "metadata": {
        "id": "Z1KPkfGPjrk-",
        "colab": {
          "base_uri": "https://localhost:8080/",
          "height": 306
        },
        "outputId": "f529653f-4b09-4dd3-99ae-180966e3993a"
      },
      "source": [
        "# keep theta fixed at 0.45\n",
        "theta = 0.45\n",
        "\n",
        "# let's declare which k_s values we want to use:\n",
        "\n",
        "k_s_values = [5, 10, 50, 100]\n",
        "\n",
        "# now we use a for loop to go through the k_s values and plot each one.\n",
        "\n",
        "for k_s in k_s_values:\n",
        "  S = k_s*A**(-theta)\n",
        "  plt.scatter(A,S, label='$k_s$ = {}'.format(k_s))\n",
        "\n",
        "plt.xlabel(\"Drainage area ($m^2$)\")\n",
        "plt.ylabel(\"gradient (m/m)\")\n",
        "plt.yscale('log')\n",
        "plt.xscale('log')\n",
        "\n",
        "# add a legend\n",
        "plt.legend(loc='upper right')"
      ],
      "execution_count": 9,
      "outputs": [
        {
          "output_type": "execute_result",
          "data": {
            "text/plain": [
              "<matplotlib.legend.Legend at 0x7fb78f558b50>"
            ]
          },
          "metadata": {},
          "execution_count": 9
        },
        {
          "output_type": "display_data",
          "data": {
            "text/plain": [
              "<Figure size 432x288 with 1 Axes>"
            ],
            "image/png": "[encoded data removed]"
          },
          "metadata": {
            "needs_background": "light"
          }
        }
      ]
    },
    {
      "cell_type": "markdown",
      "source": [
        "Now let's do the same thing, but we'll keep $k_s$ constant at 10, and we'll change $\\theta$ from 0.3 to 0.8. You should see that the gradient of our relationship changes significantly."
      ],
      "metadata": {
        "id": "bnc67lEmNBkK"
      }
    },
    {
      "cell_type": "code",
      "metadata": {
        "outputId": "efcac2ea-8fca-4a3d-e28c-6a716ab990de",
        "colab": {
          "base_uri": "https://localhost:8080/",
          "height": 306
        },
        "id": "tLSQ6ZYVNNBW"
      },
      "source": [
        "# keep k_s fixed at 10\n",
        "k_s = 10\n",
        "\n",
        "# let's declare which theta values we want to use:\n",
        "\n",
        "theta_values = [0.3, 0.4, 0.5, 0.6, 0.7, 0.8]\n",
        "\n",
        "# now we use a for loop to go through the k_s values and plot each one.\n",
        "\n",
        "for theta in theta_values:\n",
        "  S = k_s*A**(-theta)\n",
        "  plt.scatter(A,S, label=r'$\\theta$ = {}'.format(theta))\n",
        "\n",
        "plt.xlabel(\"Drainage area ($m^2$)\")\n",
        "plt.ylabel(\"gradient (m/m)\")\n",
        "plt.yscale('log')\n",
        "plt.xscale('log')\n",
        "\n",
        "# add a legend. The parameter \"bbox_to_anchor\" allows you to move the \n",
        "# legend out of the plotting area\n",
        "plt.legend(loc='upper right', bbox_to_anchor=(1.25, 0.75))"
      ],
      "execution_count": 17,
      "outputs": [
        {
          "output_type": "execute_result",
          "data": {
            "text/plain": [
              "<matplotlib.legend.Legend at 0x7fb785c4ced0>"
            ]
          },
          "metadata": {},
          "execution_count": 17
        },
        {
          "output_type": "display_data",
          "data": {
            "text/plain": [
              "<Figure size 432x288 with 1 Axes>"
            ],
            "image/png": "[encoded data removed]"
          },
          "metadata": {
            "needs_background": "light"
          }
        }
      ]
    },
    {
      "cell_type": "markdown",
      "metadata": {
        "id": "EoYwefHPjrk_"
      },
      "source": [
        "### Longitudinal profiles"
      ]
    },
    {
      "cell_type": "markdown",
      "metadata": {
        "id": "AAQ5c3s6jrlE"
      },
      "source": [
        "__Task:__ Change the values of $k_s$, $b$, $x_0$, and $\\theta$ in the plots above to see how they affect the channel long profile.\n",
        "\n",
        "_To answer this question, it's best if you just change the parameters in the code one by one and observe how the affect the long profile. Some things that you might obesrve:_\n",
        "\n",
        "* _Changing $x_0$ changes the X axis on your plot: the higher the value, the longer your river channel will be._\n",
        "* _If you change $k_s$ but keep $x_0$ constant, you should find that the elevation values on your plot change. This means that the river is overall steeper for the same distance upstream._\n",
        "* _Modifying $θ$ changes the concavity of your river: you should observe that if you make $θ$ close to 1, then your river has a very concave shape, whereas if you make it close to 0, then the profile becomes quite flat._\n",
        "* _It might be difficult to determine what the effect of changing $b$ is on your profile. Remember from the practical that changing $b$ should modify the relationship between length of the channel and drainage area. We can see this in the profiles: if you increase $b$ you get lower elevations at the same drainage area, but your profile also becomes more concave._\n",
        "\n"
      ]
    },
    {
      "cell_type": "code",
      "metadata": {
        "id": "MOwCZZuxjrlA"
      },
      "source": [
        "def channel_profile(x,ks,theta,b,x0):\n",
        "    z = []\n",
        "    term1 = 1-b*theta\n",
        "    term2 = -b*theta\n",
        "    for xi in x:\n",
        "        this_z = ks*( xi*(x0-xi)**term2 - x0*(x0-xi)**term2+ x0**(term1))/(term1)\n",
        "        z.append(this_z)\n",
        "    return np.asarray(z)"
      ],
      "execution_count": 18,
      "outputs": []
    },
    {
      "cell_type": "markdown",
      "metadata": {
        "id": "BTG7ZHC5jrlB"
      },
      "source": [
        "Now, we can plot. Try manipulating the parameters. Typical ranges of $\\theta$ and $k_s$ are listed above. \n",
        "\n",
        "* $b$ will range from around 1.8 to a little over 2\n",
        "* $x_0$ is the length of the channel, so anywhere from a few km (you input this in m) to 50 km. "
      ]
    },
    {
      "cell_type": "code",
      "metadata": {
        "id": "-swfoTwejrlB",
        "colab": {
          "base_uri": "https://localhost:8080/",
          "height": 296
        },
        "outputId": "16759607-340a-48e1-da51-af6d4de0a168"
      },
      "source": [
        "# x0 needs to be in metres!!\n",
        "x0 = 5000\n",
        "ks = 25\n",
        "theta = 0.45\n",
        "b = 1.8\n",
        "x = np.arange(0,x0,25)\n",
        "z = channel_profile(x,ks,theta,b,x0)\n",
        "\n",
        "\n",
        "plt.plot(x,z)\n",
        "plt.xlabel(\"Distance from outlet (m)\")\n",
        "plt.ylabel(\"elevation (m)\")\n",
        "\n",
        "#print(z)"
      ],
      "execution_count": 33,
      "outputs": [
        {
          "output_type": "execute_result",
          "data": {
            "text/plain": [
              "Text(0, 0.5, 'elevation (m)')"
            ]
          },
          "metadata": {},
          "execution_count": 33
        },
        {
          "output_type": "display_data",
          "data": {
            "text/plain": [
              "<Figure size 432x288 with 1 Axes>"
            ],
            "image/png": "[encoded data removed]"
          },
          "metadata": {
            "needs_background": "light"
          }
        }
      ]
    }
  ]
}