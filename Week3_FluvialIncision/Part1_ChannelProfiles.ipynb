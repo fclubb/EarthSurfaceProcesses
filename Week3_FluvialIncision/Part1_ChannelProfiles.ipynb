{
  "nbformat": 4,
  "nbformat_minor": 0,
  "metadata": {
    "kernelspec": {
      "display_name": "Python 3",
      "language": "python",
      "name": "python3"
    },
    "language_info": {
      "codemirror_mode": {
        "name": "ipython",
        "version": 3
      },
      "file_extension": ".py",
      "mimetype": "text/x-python",
      "name": "python",
      "nbconvert_exporter": "python",
      "pygments_lexer": "ipython3",
      "version": "3.8.3"
    },
    "colab": {
      "name": "Part1_ChannelProfiles.ipynb",
      "provenance": [],
      "include_colab_link": true
    }
  },
  "cells": [
    {
      "cell_type": "markdown",
      "metadata": {
        "id": "view-in-github",
        "colab_type": "text"
      },
      "source": [
        "<a href=\"https://colab.research.google.com/github/fclubb/EarthSurfaceProcesses/blob/master/Week3_FluvialIncision/Part1_ChannelProfiles.ipynb\" target=\"_parent\"><img src=\"https://colab.research.google.com/assets/colab-badge.svg\" alt=\"Open In Colab\"/></a>"
      ]
    },
    {
      "cell_type": "markdown",
      "metadata": {
        "id": "1j5Eg58ejrkm"
      },
      "source": [
        "# Part 1: Exploring river profiles"
      ]
    },
    {
      "cell_type": "markdown",
      "metadata": {
        "id": "lu2xd3ZBjrks"
      },
      "source": [
        "*This lesson was originally written by Simon M. Mudd at the University of Edinburgh, modified by Fiona Clubb at Durham University*"
      ]
    },
    {
      "cell_type": "markdown",
      "metadata": {
        "id": "-0CIAXTYjrku"
      },
      "source": [
        "In the lecture today we discussed how river long profiles can be used to explore how rivers incise in response to changes in uplift, and therefore erosion. This notebook allows you to play around with a simple model of a river profile to explore how changing parameters such as uplift rate and erodibility affect profile morphology.\n",
        "\n",
        "The learning outcomes for this notebook are:\n",
        "* To be able to make plots of drainage area and slope, drainage area and length, and length and slope.\n",
        "* To derive a basic equation for an \"ideal\" channel longitudinal profile. \n",
        "* To explore how changing parameters in the steady-state profile equation affect river profile morphology.\n",
        "\n",
        "## Working through the practical\n",
        "\n",
        "To work through this notebook, firstly:\n",
        "1. **COPY THE NOTEBOOK TO YOUR GOOGLE DRIVE** using the \"Copy to Drive\" button at the top of the page. \n",
        "2. Read through the instructions and execute each code block cell by clicking `Shift and Enter` to see what it does.\n",
        "3. Do the exercises set out throughout notebook.\n",
        "4. Save the figures and keep them for the next session."
      ]
    },
    {
      "cell_type": "markdown",
      "metadata": {
        "id": "JXC0MvrSjrkv"
      },
      "source": [
        "## Basic properties of channel profiles"
      ]
    },
    {
      "cell_type": "markdown",
      "metadata": {
        "id": "f0KxQfkWjrkx"
      },
      "source": [
        "Imagine yourself in a nice mountain valley walking along a stream. You start quite low in the valley. The stream is nice and wide. As you go upstream the river gets smaller. This is because it is draining less area. In addition, the stream will probably change its gradient. Near the mountain tops, channels tend to get steeper. Because channels tend to get steeper as we move along them, we can call their profiles concave. There are exceptions, but the general trend of rivers is to get steeper as you go upstream. "
      ]
    },
    {
      "cell_type": "markdown",
      "metadata": {
        "id": "_5VnBzjFjrky"
      },
      "source": [
        "### Area - gradient relationship"
      ]
    },
    {
      "cell_type": "markdown",
      "metadata": {
        "id": "wEIg_zrIjrkz"
      },
      "source": [
        "In the 1950's and 60's people started measuring how steep rivers were as a function of their drainage area (there is a classic 1957 paper by Hack on this topic). In 1962 Marie Morisawa realised that the relasionship between drainage area and gradient followed a power law. \n",
        "\n",
        "The power law can be described by:\n",
        "\n",
        "$S = k_s A^{-\\theta}$\n",
        "\n",
        "Some authors now refer to this as \"Flint's Law\", because of a 1974 paper by Flint where he went into a lot of details about this relationship, but it really should be called \"Morisawa's law\" since she was the first one to notice it. \n",
        "\n",
        "The symbols above are the ones used in loads of papers. $S$ is slope (or gradient), $A$ is drainage area, $k_s$ is something called the \"steepness index\" and $\\theta$ is called the concavity index. \n",
        "\n",
        "We can look at how these affect potential slopes with a bit of python"
      ]
    },
    {
      "cell_type": "markdown",
      "metadata": {
        "id": "F0fVWYmfjrk1"
      },
      "source": [
        "Import some packages I need:"
      ]
    },
    {
      "cell_type": "code",
      "metadata": {
        "id": "u2B0Y54Njrk4"
      },
      "source": [
        "import matplotlib.pyplot as plt\n",
        "import numpy as np"
      ],
      "execution_count": null,
      "outputs": []
    },
    {
      "cell_type": "markdown",
      "metadata": {
        "id": "5zjjHy7Njrk7"
      },
      "source": [
        "Make a series of drainage areas:"
      ]
    },
    {
      "cell_type": "code",
      "metadata": {
        "id": "XZf-XG-3jrk8"
      },
      "source": [
        "logA = np.arange(3,6.01,0.25)\n",
        "A = 10**logA\n",
        "print(logA,A)"
      ],
      "execution_count": null,
      "outputs": []
    },
    {
      "cell_type": "markdown",
      "metadata": {
        "id": "uJXDI_I5jrk9"
      },
      "source": [
        "Now I plot the slopes and areas. You should play with this by changing the $k_s$ and $\\theta$ parameters to see what happens. Note how the plot has logarithmic spacing on the axes. We use logarithmic spacing when our data covers a big range of values. \n",
        "\n",
        "For some indication: \n",
        "* $k_s$ varies between 1 and 1000 (when $\\theta$ is 0.45).\n",
        "* $\\theta$ varies between 0.3 and 0.65"
      ]
    },
    {
      "cell_type": "code",
      "metadata": {
        "id": "Z1KPkfGPjrk-"
      },
      "source": [
        "k_s1 = 5\n",
        "theta1 = 0.45\n",
        "S1 = k_s1*A**(-theta1)\n",
        "\n",
        "k_s2 = 50\n",
        "theta2 = 0.45\n",
        "S2 = k_s2*A**(-theta2)\n",
        "\n",
        "plt.scatter(A,S1)\n",
        "plt.scatter(A,S2)\n",
        "plt.xlabel(\"Drainage area ($m^2$)\")\n",
        "plt.ylabel(\"gradient (m/m)\")\n",
        "plt.yscale('log')\n",
        "plt.xscale('log')"
      ],
      "execution_count": null,
      "outputs": []
    },
    {
      "cell_type": "markdown",
      "metadata": {
        "id": "pxleFuH4jrk-"
      },
      "source": [
        "__Task:__ Change the values of $k_s$ and $\\theta$ in the plots above to see how they affect the relationship between drainage area and gradient. For a reference, a gradient of 0.1 is **very** steep for a river. You will probably transition to channels dominated by debris flows at this gradient (remember the diagram from the lecture slides from Stock and Dietrich, 1998). "
      ]
    },
    {
      "cell_type": "markdown",
      "metadata": {
        "id": "EoYwefHPjrk_"
      },
      "source": [
        "### Longitudinal profiles"
      ]
    },
    {
      "cell_type": "markdown",
      "metadata": {
        "id": "F9YpMR12jrk_"
      },
      "source": [
        "Another observation of channel profiles was made by Hack, where he noted that drainage area and stream length could be related by a power law. This is (rightfully) called Hack's law. He wrote this as \n",
        "\n",
        "$L = c A^h$\n",
        "\n",
        "where $L$ is the length of a basin and $c$ and $h$ are some empirical constants.  \n",
        "\n",
        "Drainage area will get bigger as you go downstream. But this is a little bit annoying for my purposes so I am going to write this as a distance upstream from an outlet. \n",
        "\n",
        "$A = (x_0 - x)^b$\n",
        "\n",
        "where $x_0$ is the distance from the source to the outlet (basically the same as $L$ but I have chosen a specific outlet) and $b = 1/h$. \n",
        "\n",
        "We can plug this equation into Morisawa's law to get:\n",
        "\n",
        "$S = k_s (x_0 - x)^{-b \\theta}$\n",
        "\n",
        "Slope, however, is the same as the derivative of elevation, $dz/dx$. I will not bore you with the details, but this a differential equation that can be solved. The solution is:\n",
        "\n",
        "$z = \\frac{k_s \\left(x (x_0-x)^{-b \\theta }-x_0 (x_0-x)^{-b \\theta }+x_0^{1-b \\theta }\\right)}{1-b \\theta }$\n",
        "\n",
        "We can plot this using python. First we define a function to get the elevations (this is just a python version of the equation above). "
      ]
    },
    {
      "cell_type": "code",
      "metadata": {
        "id": "MOwCZZuxjrlA"
      },
      "source": [
        "def channel_profile(x,ks,theta,b,x0):\n",
        "    z = []\n",
        "    term1 = 1-b*theta\n",
        "    term2 = -b*theta\n",
        "    for xi in x:\n",
        "        this_z = ks*( xi*(x0-xi)**term2 - x0*(x0-xi)**term2+ x0**(term1))/(term1)\n",
        "        z.append(this_z)\n",
        "    return np.asarray(z)"
      ],
      "execution_count": null,
      "outputs": []
    },
    {
      "cell_type": "markdown",
      "metadata": {
        "id": "BTG7ZHC5jrlB"
      },
      "source": [
        "Now, we can plot. Try manipulating the parameters. Typical ranges of $\\theta$ and $k_s$ are listed above. \n",
        "\n",
        "* $b$ will range from around 1.8 to a little over 2\n",
        "* $x_0$ is the length of the channel, so anywhere from a few km (you input this in m) to 50 km. "
      ]
    },
    {
      "cell_type": "code",
      "metadata": {
        "id": "-swfoTwejrlB"
      },
      "source": [
        "# x0 needs to me in metres!!\n",
        "x0 = 5000\n",
        "ks = 25\n",
        "theta = 0.45\n",
        "b = 2\n",
        "x = np.arange(0,x0,25)\n",
        "z = channel_profile(x,ks,theta,b,x0)\n",
        "\n",
        "\n",
        "plt.plot(x,z)\n",
        "plt.xlabel(\"Distance from outlet (m)\")\n",
        "plt.ylabel(\"elevation (m)\")\n",
        "\n",
        "#print(z)"
      ],
      "execution_count": null,
      "outputs": []
    },
    {
      "cell_type": "markdown",
      "metadata": {
        "id": "BKjFkXzajrlD"
      },
      "source": [
        "Okay, so by now you should have a basic understanding of what channel long profiles look like!\n",
        "\n",
        "This is all rather simplified. The main thing we have missed out on when considering slope and the long profile is that river drainage area, is not smoothly increasing. At tributary junctions you get a jump in drainage area. So typical river profiles are not quite as smooth as the plot above. But this is not far off a well-behaved river. And by well behaved I mean that it is flowing over the same type of rocks, and there erosion rate has been steady (that is, not varying) for a really long time. "
      ]
    },
    {
      "cell_type": "markdown",
      "metadata": {
        "id": "AAQ5c3s6jrlE"
      },
      "source": [
        "__Task:__ Change the values of $k_s$, $b$, $x_0$, and $\\theta$ in the plots above to see how they affect the channel long profile."
      ]
    },
    {
      "cell_type": "markdown",
      "metadata": {
        "id": "_WaF8u7ijrlE"
      },
      "source": [
        "## Further reading"
      ]
    },
    {
      "cell_type": "markdown",
      "metadata": {
        "id": "WgeO-UCWjrlE"
      },
      "source": [
        "Hack, J., 1957. Studies of longitudinal profiles in Virginia and Maryland (U.S. Geological Survey Professional Paper No. 294- B). United States Government Printing Office, Washington, D.C.\n",
        "\n",
        "Morisawa, M., 1962. Quantitative Geomorphology of Some Watersheds in the Appalachian Plateau. Geol. Soc. Am. Bull. 73, 1025–1046. https://doi.org/10.1130/0016-7606(1962)73[1025:QGOSWI]2.0.CO;2"
      ]
    }
  ]
}