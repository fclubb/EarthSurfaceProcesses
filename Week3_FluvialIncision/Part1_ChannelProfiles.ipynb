{
 "cells": [
  {
   "cell_type": "markdown",
   "metadata": {},
   "source": [
    "# Lesson 01: Basic channel profiles"
   ]
  },
  {
   "cell_type": "markdown",
   "metadata": {},
   "source": [
    "*This lesson has been written by Simon M. Mudd at the University of Edinburgh*\n",
    "\n",
    "*Last update 04/09/2020*"
   ]
  },
  {
   "cell_type": "markdown",
   "metadata": {},
   "source": [
    "This is a brief introduction to channel profiles. \n",
    "We will:\n",
    "* Look at some general properties of channels: drainage area and slope, drainage area and length, and length and slope.\n",
    "* Derive a basic equation for an \"ideal\" channel longitudinal profile. \n",
    "* You can play with some typical parameters to see how they affect river profiles."
   ]
  },
  {
   "cell_type": "markdown",
   "metadata": {},
   "source": [
    "## Basic properties of channel profiles"
   ]
  },
  {
   "cell_type": "markdown",
   "metadata": {},
   "source": [
    "Imagine yourself in a nice mountain valley walking along a stream. You start quite low in the valley. The stream is nice and wide. As you go upstream the river gets smaller. This is because it is draining less area. In addition, the stream will probably change its gradient. Near the mountain tops, channels tend to get steeper. Because channels tend to get steeper as we move along them, we can call their profiles concave. There are exceptions, but the general trend of rivers is to get steeper as you go upstream. "
   ]
  },
  {
   "cell_type": "markdown",
   "metadata": {},
   "source": [
    "### Area - gradient relationship"
   ]
  },
  {
   "cell_type": "markdown",
   "metadata": {},
   "source": [
    "In the 1950's and 60's people started measuring how steep rivers were as a function of their drainage area (there is a classic 1957 paper by Hack on this topic). In 1962 Marie Morisawa realised that the relasionship between drainage area and gradient followed a power law. \n",
    "\n",
    "The power law can be described by:\n",
    "\n",
    "$S = k_s A^{-\\theta}$\n",
    "\n",
    "Some authors now refer to this as \"Flint's Law\", because of a 1974 paper by Flint where he went into a lot of details about this relationship, but it really should be called \"Morisawa's law\" since she was the first one to notice it. \n",
    "\n",
    "The symbols above are the ones used in loads of papers. $S$ is slope (or gradient), $A$ is drainage area, $k_s$ is something called the \"steepness index\" and $\\theta$ is called the concavity index. \n",
    "\n",
    "We can look at how these affect potential slopes with a bit of python"
   ]
  },
  {
   "cell_type": "markdown",
   "metadata": {},
   "source": [
    "Import some packages I need:"
   ]
  },
  {
   "cell_type": "code",
   "execution_count": 1,
   "metadata": {},
   "outputs": [],
   "source": [
    "import matplotlib.pyplot as plt\n",
    "import numpy as np"
   ]
  },
  {
   "cell_type": "markdown",
   "metadata": {},
   "source": [
    "Make a series of drainage areas:"
   ]
  },
  {
   "cell_type": "code",
   "execution_count": 2,
   "metadata": {},
   "outputs": [
    {
     "name": "stdout",
     "output_type": "stream",
     "text": [
      "[3.   3.25 3.5  3.75 4.   4.25 4.5  4.75 5.   5.25 5.5  5.75 6.  ] [   1000.            1778.27941004    3162.27766017    5623.4132519\n",
      "   10000.           17782.79410039   31622.77660168   56234.13251903\n",
      "  100000.          177827.94100389  316227.76601684  562341.32519035\n",
      " 1000000.        ]\n"
     ]
    }
   ],
   "source": [
    "logA = np.arange(3,6.01,0.25)\n",
    "A = 10**logA\n",
    "print(logA,A)"
   ]
  },
  {
   "cell_type": "markdown",
   "metadata": {},
   "source": [
    "Now I plot the slopes and areas. You should play with this by changing the $k_s$ and $\\theta$ parameters to see what happens. Note how the plot has logarithmic spacing on the axes. We use logarithmic spacing when our data covers a big range of values. \n",
    "\n",
    "For some indication: \n",
    "* $k_s$ varies between 1 and 1000 (when $\\theta$ is 0.45).\n",
    "* $\\theta$ varies between 0.3 and 0.65"
   ]
  },
  {
   "cell_type": "code",
   "execution_count": 3,
   "metadata": {},
   "outputs": [
    {
     "data": {
      "image/png": "[encoded data removed]",
      "text/plain": [
       "<Figure size 432x288 with 1 Axes>"
      ]
     },
     "metadata": {
      "needs_background": "light"
     },
     "output_type": "display_data"
    }
   ],
   "source": [
    "k_s1 = 5\n",
    "theta1 = 0.45\n",
    "S1 = k_s1*A**(-theta1)\n",
    "\n",
    "k_s2 = 50\n",
    "theta2 = 0.45\n",
    "S2 = k_s2*A**(-theta2)\n",
    "\n",
    "plt.scatter(A,S1)\n",
    "plt.scatter(A,S2)\n",
    "plt.xlabel(\"Drainage area ($m^2$)\")\n",
    "plt.ylabel(\"gradient (m/m)\")\n",
    "plt.yscale('log')\n",
    "plt.xscale('log')"
   ]
  },
  {
   "cell_type": "markdown",
   "metadata": {},
   "source": [
    "__Task:__ Change the values of $k_s$ and $\\theta$ in the plots above to see how they affect the relationship between drainage area and gradient. For a reference, a gradient of 0.1 is **very** steep for a river. You will probably transision to channels dominated by debris flows at this gradient. "
   ]
  },
  {
   "cell_type": "markdown",
   "metadata": {},
   "source": [
    "### Longitudinal profiles"
   ]
  },
  {
   "cell_type": "markdown",
   "metadata": {},
   "source": [
    "Another observation of channel profiles was made by Hack, where he noted that drainage area and stream length could be related by a power law. This is (rightfully) called Hack's law. He wrote this as \n",
    "\n",
    "$L = c A^h$\n",
    "\n",
    "where $L$ is the length of a basin and $c$ and $h$ are some empirical constants.  \n",
    "\n",
    "Drainage area will get bigger as you go downstream. But this is a little bit annoying for my purposes so I am going to write this as a distance upstream from an outlet. \n",
    "\n",
    "$A = (x_0 - x)^b$\n",
    "\n",
    "where $x_0$ is the distance from the source to the outlet (basically the same as $L$ but I have chosen a specific outlet) and $b = 1/h$. \n",
    "\n",
    "We can plug this equation into Morisawa's law to get:\n",
    "\n",
    "$S = k_s (x_0 - x)^{-b \\theta}$\n",
    "\n",
    "Slope, however, is the same as the derivative of elevation, $dz/dx$. I will not bore you with the details, but this a differential equation that can be solved (remember EMP2?). The solution is:\n",
    "\n",
    "$z = \\frac{k_s \\left(x (x_0-x)^{-b \\theta }-x_0 (x_0-x)^{-b \\theta }+x_0^{1-b \\theta }\\right)}{1-b \\theta }$\n",
    "\n",
    "We can plot this using python. First we define a function to get the elevations (this is just a python version of the equation above). "
   ]
  },
  {
   "cell_type": "code",
   "execution_count": 4,
   "metadata": {},
   "outputs": [],
   "source": [
    "def channel_profile(x,ks,theta,b,x0):\n",
    "    z = []\n",
    "    term1 = 1-b*theta\n",
    "    term2 = -b*theta\n",
    "    for xi in x:\n",
    "        this_z = ks*( xi*(x0-xi)**term2 - x0*(x0-xi)**term2+ x0**(term1))/(term1)\n",
    "        z.append(this_z)\n",
    "    return np.asarray(z)"
   ]
  },
  {
   "cell_type": "markdown",
   "metadata": {},
   "source": [
    "Now, we can plot. Try manipulating the parameters. Typical ranges of $\\theta$ and $k_s$ are listed above. \n",
    "\n",
    "* $b$ will range from around 1.8 to a little over 2\n",
    "* $x_0$ is the length of the channel, so anywhere from a few km (you input this in m) to 50 km. "
   ]
  },
  {
   "cell_type": "code",
   "execution_count": 5,
   "metadata": {},
   "outputs": [
    {
     "data": {
      "text/plain": [
       "Text(0, 0.5, 'elevation (m)')"
      ]
     },
     "execution_count": 5,
     "metadata": {},
     "output_type": "execute_result"
    },
    {
     "data": {
      "image/png": "[encoded data removed]",
      "text/plain": [
       "<Figure size 432x288 with 1 Axes>"
      ]
     },
     "metadata": {
      "needs_background": "light"
     },
     "output_type": "display_data"
    }
   ],
   "source": [
    "# x0 needs to me in metres!!\n",
    "x0 = 5000\n",
    "ks = 25\n",
    "theta = 0.45\n",
    "b = 2\n",
    "x = np.arange(0,x0,25)\n",
    "z = channel_profile(x,ks,theta,b,x0)\n",
    "\n",
    "\n",
    "plt.plot(x,z)\n",
    "plt.xlabel(\"Distance from outlet (m)\")\n",
    "plt.ylabel(\"elevation (m)\")\n",
    "\n",
    "#print(z)"
   ]
  },
  {
   "cell_type": "markdown",
   "metadata": {},
   "source": [
    "Okay, so by now you should have a basic understanding of what channel long profiles look like!\n",
    "\n",
    "This is all rather simplified. The main thing we have missed out on when considering slope and the long profile is that river drainage area, is not smoothly increasing. At tributary junctions you get a jump in drainage area. So typical river profiles are not quite as smooth as the plot above. But this is not far off a well-behaved river. And by well behaved I mean that it is flowing over the same type of rocks, and there erosion rate has been steady (that is, not varying) for a really long time. "
   ]
  },
  {
   "cell_type": "markdown",
   "metadata": {},
   "source": [
    "__Task:__ Change the values of $k_s$, $b$, $x_0$, and $\\theta$ in the plots above to see how they affect the channel long profile."
   ]
  },
  {
   "cell_type": "markdown",
   "metadata": {},
   "source": [
    "## Further reading"
   ]
  },
  {
   "cell_type": "markdown",
   "metadata": {},
   "source": [
    "Hack, J., 1957. Studies of longitudinal profiles in Virginia and Maryland (U.S. Geological Survey Professional Paper No. 294- B). United States Government Printing Office, Washington, D.C.\n",
    "\n",
    "Morisawa, M., 1962. Quantitative Geomorphology of Some Watersheds in the Appalachian Plateau. Geol. Soc. Am. Bull. 73, 1025–1046. https://doi.org/10.1130/0016-7606(1962)73[1025:QGOSWI]2.0.CO;2"
   ]
  }
 ],
 "metadata": {
  "kernelspec": {
   "display_name": "Python 3",
   "language": "python",
   "name": "python3"
  },
  "language_info": {
   "codemirror_mode": {
    "name": "ipython",
    "version": 3
   },
   "file_extension": ".py",
   "mimetype": "text/x-python",
   "name": "python",
   "nbconvert_exporter": "python",
   "pygments_lexer": "ipython3",
   "version": "3.8.3"
  }
 },
 "nbformat": 4,
 "nbformat_minor": 4
}
