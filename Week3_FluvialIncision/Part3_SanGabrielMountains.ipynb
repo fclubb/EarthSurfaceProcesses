{
 "cells": [
  {
   "cell_type": "markdown",
   "metadata": {},
   "source": [
    "# Getting data for southern Spain"
   ]
  },
  {
   "cell_type": "markdown",
   "metadata": {},
   "source": [
    "*This lesson has been written by Simon M. Mudd at the University of Edinburgh*\n",
    "\n",
    "*Last update 02/03/2021*"
   ]
  },
  {
   "cell_type": "markdown",
   "metadata": {},
   "source": [
    "In this notebook we will grab some data from southern Spain using a python package called `lsdviztools`. \n",
    "We also will do a little bit of topographic analysis using **lsdtopotools**. **lsdtopotools** is a software package for analysing topography developed at the University of Edinburgh and other institutions. \n",
    "\n",
    "We are assuming you are on a Notable notebook via the University of Edinburgh's Learn pages. This already has **lsdtopotools** installed. If this is not the case, you will need to use conda to install that yourself. "
   ]
  },
  {
   "cell_type": "markdown",
   "metadata": {},
   "source": [
    "## Get the right python packages"
   ]
  },
  {
   "cell_type": "code",
   "execution_count": null,
   "metadata": {},
   "outputs": [],
   "source": [
    "!pip install lsdviztools"
   ]
  },
  {
   "cell_type": "code",
   "execution_count": null,
   "metadata": {},
   "outputs": [],
   "source": [
    "import lsdviztools.lsdbasemaptools as bmt\n",
    "from lsdviztools.lsdplottingtools import lsdmap_gdalio as gio\n",
    "import lsdviztools.lsdmapwrappers as lsdmw\n",
    "import pandas as pd\n",
    "import geopandas as gpd\n",
    "import cartopy as cp\n",
    "import cartopy.crs as ccrs\n",
    "import rasterio as rio\n",
    "import matplotlib.pyplot as plt\n",
    "import numpy as np"
   ]
  },
  {
   "cell_type": "markdown",
   "metadata": {},
   "source": [
    "## Now grab some data"
   ]
  },
  {
   "cell_type": "markdown",
   "metadata": {},
   "source": [
    "First, we need to grab some data. We use a tool in `lsdviztools.lsdbasemaptools` called the `ot_scraper` (`ot` is for opentopography.org).\n",
    "\n",
    "You can tell this what sort of data you want (most people will use the SRTM 30 metre data) and you also tell it the lower left and the upper right corners, using latitude and longitude. You can get these from goole earth by right clicking on the map and selecting \"what's here\". In this example below, I will just get a small area near Sorbas. But you might expand your search area. "
   ]
  },
  {
   "cell_type": "code",
   "execution_count": null,
   "metadata": {},
   "outputs": [],
   "source": [
    "# If you want to modify the DEM, change the bounding latitude and longitude. \n",
    "Dataset_prefix = \"Sorbas_v2\"\n",
    "Sorbas_DEM = bmt.ot_scraper(source = \"SRTM30\",longitude_W = -2.3, longitude_E = -2, \n",
    "                            latitude_S = 37.1, latitude_N = 37.25,prefix = Dataset_prefix)\n",
    "Sorbas_DEM.print_parameters()\n",
    "Sorbas_DEM.download_pythonic()"
   ]
  },
  {
   "cell_type": "markdown",
   "metadata": {},
   "source": [
    "That just downloaded a .tif file, which you could look at in a GIS. \n",
    "You can also look at the raw data here in python using something called `rasterio`. \n",
    "\n",
    "But we will use some tools developed at the University of Edinburgh, called **lsdtopotools**, to look at the data. \n",
    "\n",
    "To do that, we need to convert the data into a format **lsdtopotools** can understand. "
   ]
  },
  {
   "cell_type": "markdown",
   "metadata": {},
   "source": [
    "The option below only works on systems with a recent version of a package call `proj`. The noteable service has an old version so we need to convert the data a different way. I just include the below lines for future reference. "
   ]
  },
  {
   "cell_type": "code",
   "execution_count": null,
   "metadata": {},
   "outputs": [],
   "source": [
    "## IMPORTANT: This doens't work in noteable!! It doesn't read the proj database\n",
    "#DataDirectory = \"./\"\n",
    "#RasterFile = \"Sorbas_SRTM30.tif\"\n",
    "#gio.convert4lsdtt(DataDirectory, RasterFile,minimum_elevation=0.01,resolution=30)"
   ]
  },
  {
   "cell_type": "markdown",
   "metadata": {},
   "source": [
    "The option below uses something called GDAL (short for Geospatial Data Abstraction Library). \n",
    "It has many tools for converting raster data formats and changing projections. It is also fast: it is much faster to convert or merge files using gdal than in, say, ArcMap. QGIS has the gdal tools built in. You can read more here: https://lsdtopotools.github.io/LSDTT_documentation/LSDTT_introduction_to_geospatial_data.html#translating-your-raster-into-something-that-can-be-used-by-lsdtopotoolbox\n",
    "\n",
    "In the below line the main thing you would change is the zone: this is the UTM zone. You can look up your UTM zone here: http://www.dmap.co.uk/utmworld.htm"
   ]
  },
  {
   "cell_type": "code",
   "execution_count": null,
   "metadata": {},
   "outputs": [],
   "source": [
    "import subprocess\n",
    "\n",
    "# Below is the resolution of your data in metres\n",
    "res = \"30\"\n",
    "\n",
    "# Change the below UTM zone to the correct zone for your dataset\n",
    "pr = \"+proj=utm +zone=30 +datum=WGS84\"\n",
    "\n",
    "# Dont change the stuff below this line\n",
    "gd = \"gdalwarp\"\n",
    "sr = \"-t_srs\"\n",
    "of = \"-of\"\n",
    "en = \"ENVI\"\n",
    "ov = \"-overwrite\"\n",
    "tr = \"-tr\"\n",
    "r = \"-r\"\n",
    "rm = \"cubic\"\n",
    "infile = Dataset_prefix+\"_SRTM30.tif\"\n",
    "outfile = Dataset_prefix+\"_SRTM30_UTM.bil\"\n",
    "\n",
    "subprocess_list = [gd, sr, pr, of, en, ov, tr, res, res, r, rm, infile, outfile]\n",
    "\n",
    "subprocess.run(subprocess_list)\n",
    "\n",
    "# Below is the gdalwarp call that is not used but is here for future reference\n",
    "#!gdalwarp -t_srs '+proj=utm +zone=30 +datum=WGS84' -of ENVI -overwrite Sorbas_SRTM30.tif Sorbas_SRTM30_UTM.bil"
   ]
  },
  {
   "cell_type": "markdown",
   "metadata": {},
   "source": [
    "## Now we do some topographic analysis and look at the data"
   ]
  },
  {
   "cell_type": "markdown",
   "metadata": {},
   "source": [
    "We will extract some topogaphic metrics using `lsdtopotools`. \n",
    "This is already installed on the Noteable GeoScience Notebooks.\n",
    "\n",
    "The `lsdtt_parameters` are the various parametes that you can use to run an analysis. We will discuss these later. For now, we will just follow this recipie. "
   ]
  },
  {
   "cell_type": "code",
   "execution_count": null,
   "metadata": {},
   "outputs": [],
   "source": [
    "lsdtt_parameters = {\"write_hillshade\" : \"true\",  \n",
    "                    \"surface_fitting_radius\" : \"60\",\n",
    "                    \"print_slope\" : \"true\"}\n",
    "r_prefix = Dataset_prefix+\"_SRTM30_UTM\"\n",
    "w_prefix = Dataset_prefix+\"_SRTM30_UTM\"\n",
    "lsdtt_drive = lsdmw.lsdtt_driver(read_prefix = r_prefix,\n",
    "                                 write_prefix= w_prefix,\n",
    "                                 read_path = \"./\",\n",
    "                                 write_path = \"./\",\n",
    "                                 parameter_dictionary=lsdtt_parameters)\n",
    "lsdtt_drive.print_parameters()\n"
   ]
  },
  {
   "cell_type": "code",
   "execution_count": null,
   "metadata": {},
   "outputs": [],
   "source": [
    "lsdtt_drive.run_lsdtt_command_line_tool()"
   ]
  },
  {
   "cell_type": "markdown",
   "metadata": {},
   "source": [
    "That will take a little while to run (wait until there is a number in brackets beside the `In` to the right of the cell. If it says `In [*]` that means the cell is still running.)\n",
    "\n",
    "It will spit out some files. If you want to see what files are in this directory after the cell has finished you can run the following cell:"
   ]
  },
  {
   "cell_type": "code",
   "execution_count": null,
   "metadata": {},
   "outputs": [],
   "source": [
    "!ls"
   ]
  },
  {
   "cell_type": "markdown",
   "metadata": {},
   "source": [
    "## Plot some data"
   ]
  },
  {
   "cell_type": "markdown",
   "metadata": {},
   "source": [
    "We are now going to do some simple plots using a mapping package that we put together. There are more general ways to visualise data, but this makes pretty pictures quickly.  \n",
    "\n",
    "The `Base_file` on line 2 in the cell below is the prefix of the DEM you are using. That is, it is the filename without the `.bil` extension. "
   ]
  },
  {
   "cell_type": "code",
   "execution_count": null,
   "metadata": {},
   "outputs": [],
   "source": [
    "%matplotlib inline\n",
    "Base_file = Dataset_prefix+\"_SRTM30_UTM\"\n",
    "DataDirectory = \"./\"\n",
    "this_img = lsdmw.SimpleHillshade(DataDirectory,Base_file,cmap=\"gist_earth\", \n",
    "                                 save_fig=False, size_format=\"geomorphology\")"
   ]
  },
  {
   "cell_type": "markdown",
   "metadata": {},
   "source": [
    "We can also plot the slope map"
   ]
  },
  {
   "cell_type": "code",
   "execution_count": null,
   "metadata": {},
   "outputs": [],
   "source": [
    "Base_file = Dataset_prefix+\"_SRTM30_UTM\"\n",
    "Drape_prefix = Dataset_prefix+\"_SRTM30_UTM_SLOPE\"\n",
    "DataDirectory = \"./\"\n",
    "img_name2 = lsdmw.SimpleDrape(DataDirectory,Base_file, Drape_prefix, \n",
    "                              cmap = \"bwr\", cbar_loc = \"right\", \n",
    "                              cbar_label = \"Gradient (m/m)\",\n",
    "                              save_fig=False, size_format=\"geomorphology\",\n",
    "                              colour_min_max = [0,1.25])"
   ]
  },
  {
   "cell_type": "markdown",
   "metadata": {},
   "source": [
    "## Get some channel profiles"
   ]
  },
  {
   "cell_type": "markdown",
   "metadata": {},
   "source": [
    "Okay, we will now run a different analysis. We will get some channel profiles. "
   ]
  },
  {
   "cell_type": "code",
   "execution_count": null,
   "metadata": {},
   "outputs": [],
   "source": [
    "lsdtt_parameters = {\"print_basin_raster\" : \"true\",\n",
    "                    \"print_chi_data_maps\" : \"true\",\n",
    "                    \"minimum_basin_size_pixels\" : \"5000\"}\n",
    "r_prefix = Dataset_prefix+\"_SRTM30_UTM\"\n",
    "w_prefix = Dataset_prefix+\"_SRTM30_UTM\"\n",
    "lsdtt_drive = lsdmw.lsdtt_driver(read_prefix = r_prefix,\n",
    "                                 write_prefix= w_prefix,\n",
    "                                 read_path = \"./\",\n",
    "                                 write_path = \"./\",\n",
    "                                 parameter_dictionary=lsdtt_parameters)\n",
    "lsdtt_drive.print_parameters()"
   ]
  },
  {
   "cell_type": "code",
   "execution_count": null,
   "metadata": {},
   "outputs": [],
   "source": [
    "lsdtt_drive.run_lsdtt_command_line_tool()"
   ]
  },
  {
   "cell_type": "markdown",
   "metadata": {},
   "source": [
    "Now we are going to read in the channel data using geopandas. \n",
    "\n",
    "After this finishes running it will produce a csv file. \n",
    "\n",
    "These csv files can be read here, in the python environment. But they can also be loaded into a GIS by importing text data. You can make a file that is immediatly readable using a GIS by adding the option `convert_csv_to_geojson` to the parameters, so the command two cells up would become:\n",
    "\n",
    "    lsdtt_parameters = {\"print_basin_raster\" : \"true\",\n",
    "                        \"print_chi_data_maps\" : \"true\",\n",
    "                        \"convert_csv_to_geojson\" : \"true\",\n",
    "                        \"minimum_basin_size_pixels\" : \"5000\"}\n",
    "                        \n",
    "The disadvantage of this is that geojson files are much larger than csv. And you really only use these files with a GIS: if you use python you will be using the csv file. \n",
    "\n",
    "Okay, the cells below load a csv file using first `pandas` and then converts it into `geopandas` (which is `pandas` with georeferencing). "
   ]
  },
  {
   "cell_type": "markdown",
   "metadata": {},
   "source": [
    "The above routines print some data about the channels, and it also prints the basin information. The basins have different numbers. You can see where they are with this command: "
   ]
  },
  {
   "cell_type": "code",
   "execution_count": null,
   "metadata": {
    "scrolled": true
   },
   "outputs": [],
   "source": [
    "DataDirectory = \"./\"\n",
    "Base_file = Dataset_prefix+\"_SRTM30_UTM\"\n",
    "basin_img = lsdmw.PrintBasins_Complex(DataDirectory,Base_file,\n",
    "                                        use_keys_not_junctions = True, \n",
    "                                        show_colourbar = False,cmap = \"jet\", \n",
    "                                        colorbarlabel = \"colourbar\", size_format = \"geomorphology\",\n",
    "                                        fig_format = \"png\", dpi = 250, \n",
    "                                        include_channels = False, label_basins = True,\n",
    "                                        save_fig=False)"
   ]
  },
  {
   "cell_type": "code",
   "execution_count": null,
   "metadata": {},
   "outputs": [],
   "source": [
    "chi_data_map_name = w_prefix+\"_chi_data_map.csv\"\n",
    "df = pd.read_csv(chi_data_map_name)\n",
    "gdf = gpd.GeoDataFrame(\n",
    "    df, geometry=gpd.points_from_xy(df.longitude, df.latitude))\n",
    "gdf.crs = \"EPSG:4326\" \n",
    "print(gdf.head())"
   ]
  },
  {
   "cell_type": "code",
   "execution_count": null,
   "metadata": {},
   "outputs": [],
   "source": [
    "bounds = gdf.total_bounds\n",
    "print(bounds)"
   ]
  },
  {
   "cell_type": "markdown",
   "metadata": {},
   "source": [
    "We will plot these data on a map using something called cartopy. \n",
    "\n",
    "If you want to plot only one basin uncomment line 26 and select a basin."
   ]
  },
  {
   "cell_type": "code",
   "execution_count": null,
   "metadata": {},
   "outputs": [],
   "source": [
    "import matplotlib.pyplot as plt\n",
    "from matplotlib.transforms import offset_copy\n",
    "import cartopy.crs as ccrs\n",
    "import cartopy.io.img_tiles as cimgt\n",
    "plt.rcParams['figure.figsize'] = [10, 10]\n",
    "\n",
    "stamen_terrain = cimgt.Stamen('terrain-background')\n",
    "\n",
    "fig = plt.figure()\n",
    "\n",
    "# Create a GeoAxes in the tile's projection.\n",
    "ax = fig.add_subplot(1, 1, 1, projection=stamen_terrain.crs)\n",
    "\n",
    "# Limit the extent of the map to a small longitude/latitude range.\n",
    "ax.set_extent([bounds[0]-0.2, bounds[2]+0.2, bounds[1]-0.1, bounds[3]+0.1], crs=ccrs.Geodetic())\n",
    "\n",
    "# Add the Stamen data at zoom level 11.\n",
    "ax.add_image(stamen_terrain, 11)\n",
    "\n",
    "# Add the channel data\n",
    "gdf2 = gdf.to_crs(epsg=3857)    # We have to convert the data to the same \n",
    "                               #system as the ap tiles. It happens to be this one. \n",
    "                               # This epsg code is used for all map tiles (like google maps)\n",
    "\n",
    "# IF YOU WANT TO PLOT ONE BASIN, UNCOMMENT THE LINE BELOW        \n",
    "#gdf2 = gdf2[(gdf2['basin_key'] == 5)]\n",
    "\n",
    "gdf2.plot(ax=ax, markersize=0.5, column='chi', zorder=10,cmap=\"jet\")"
   ]
  },
  {
   "cell_type": "markdown",
   "metadata": {},
   "source": [
    "Now to plot the channels in profile"
   ]
  },
  {
   "cell_type": "code",
   "execution_count": null,
   "metadata": {},
   "outputs": [],
   "source": [
    "plt.rcParams['figure.figsize'] = [10, 10]\n",
    "\n",
    "# First lets isolate just one of these basins. There is only basin 0 and 1\n",
    "gdf_b1 = gdf[(gdf['basin_key'] == 0)]\n",
    "\n",
    "# The main stem channel is the one with the minimum source key in this basin\n",
    "min_source = np.amin(gdf_b1.source_key)\n",
    "gdf_b2 = gdf_b1[(gdf_b1['source_key'] == min_source)]\n",
    "#gdf_b2 = gdf_b1\n",
    "\n",
    "# Now make channel profile plots\n",
    "z = gdf_b2.elevation\n",
    "x_locs = gdf_b2.flow_distance\n",
    "chi = gdf_b2.chi\n",
    "\n",
    "# Create two subplots and unpack the output array immediately\n",
    "plt.clf()\n",
    "f, (ax1, ax2) = plt.subplots(2, 1)\n",
    "ax1.scatter(x_locs, z,s = 0.2)\n",
    "ax2.scatter(chi, z,s = 0.2)\n",
    "\n",
    "\n",
    "ax1.set_xlabel(\"Distance from outlet ($m$)\")\n",
    "ax1.set_ylabel(\"elevation (m)\")\n",
    "\n",
    "ax2.set_xlabel(\"$\\chi$ ($m$)\")\n",
    "ax2.set_ylabel(\"elevation (m)\")\n",
    "\n",
    "plt.tight_layout()"
   ]
  },
  {
   "cell_type": "markdown",
   "metadata": {},
   "source": [
    "## Getting the full channel profile with steepness information"
   ]
  },
  {
   "cell_type": "markdown",
   "metadata": {},
   "source": [
    "In lesson 2, we are going to work with a file that has the extension `_MChiSegmented.csv`. \n",
    "To generate this file, you need to run the following command.\n",
    "\n",
    "**Warning**: This is quite computationally expensive so if you have a big area it will take a while for this routine to finish. \n",
    "\n",
    "If you want to play with this data in a GIS, you would change line 2 of the cell below to:\n",
    "\n",
    "    lsdtt_parameters = {\"print_segmented_M_chi_map_to_csv\" : \"true\", \n",
    "                        \"print_basin_raster\" : \"true\",\n",
    "                        \"convert_csv_to_geojson\" : \"true\"}"
   ]
  },
  {
   "cell_type": "code",
   "execution_count": null,
   "metadata": {},
   "outputs": [],
   "source": [
    "command_line_tool = \"lsdtt-chi-mapping\"\n",
    "lsdtt_parameters = {\"print_segmented_M_chi_map_to_csv\" : \"true\", \n",
    "                    \"print_basin_raster\" : \"true\"}\n",
    "\n",
    "r_prefix = Dataset_prefix+\"_SRTM30_UTM\"\n",
    "w_prefix = Dataset_prefix+\"_SRTM30_UTM\"\n",
    "lsdtt_drive = lsdmw.lsdtt_driver(command_line_tool,read_prefix = r_prefix,\n",
    "                                 write_prefix= w_prefix,\n",
    "                                 read_path = \"./\",\n",
    "                                 write_path = \"./\",\n",
    "                                 parameter_dictionary=lsdtt_parameters)\n",
    "lsdtt_drive.print_parameters()\n",
    "lsdtt_drive.run_lsdtt_command_line_tool()"
   ]
  },
  {
   "cell_type": "markdown",
   "metadata": {},
   "source": [
    "We can use the `!ls` command to see if the file is there (the `!` tells the notebook to access the underlying linux operating system, and `ls` is a linux command that lists (`ls` is short for list) the contents of the current directory)."
   ]
  },
  {
   "cell_type": "code",
   "execution_count": null,
   "metadata": {},
   "outputs": [],
   "source": [
    "!ls"
   ]
  },
  {
   "cell_type": "markdown",
   "metadata": {},
   "source": [
    "Okay, the data is there, it is called `SorbasChi_MC_MChiSegmented.csv`. Lets load it with `geopandas`."
   ]
  },
  {
   "cell_type": "code",
   "execution_count": null,
   "metadata": {},
   "outputs": [],
   "source": [
    "segmented_data_map_name = w_prefix+\"_MChiSegmented.csv\"\n",
    "df = pd.read_csv(segmented_data_map_name)\n",
    "gdf = gpd.GeoDataFrame(\n",
    "    df, geometry=gpd.points_from_xy(df.longitude, df.latitude))\n",
    "gdf.crs = \"EPSG:4326\" \n",
    "print(gdf.head())"
   ]
  },
  {
   "cell_type": "markdown",
   "metadata": {},
   "source": [
    "Lets plot the points"
   ]
  },
  {
   "cell_type": "code",
   "execution_count": null,
   "metadata": {},
   "outputs": [],
   "source": [
    "%matplotlib inline\n",
    "import matplotlib.pyplot as plt\n",
    "from matplotlib.transforms import offset_copy\n",
    "import cartopy.crs as ccrs\n",
    "import cartopy.io.img_tiles as cimgt\n",
    "plt.rcParams['figure.figsize'] = [10, 10]\n",
    "\n",
    "\n",
    "bounds = gdf.total_bounds\n",
    "stamen_terrain = cimgt.Stamen('terrain-background')\n",
    "\n",
    "fig = plt.figure()\n",
    "\n",
    "# Create a GeoAxes in the tile's projection.\n",
    "ax = fig.add_subplot(1, 1, 1, projection=stamen_terrain.crs)\n",
    "\n",
    "# Limit the extent of the map to a small longitude/latitude range.\n",
    "ax.set_extent([bounds[0]-0.05, bounds[2]+0.05, bounds[1]-0.05, bounds[3]+0.05], crs=ccrs.Geodetic())\n",
    "\n",
    "# Add the Stamen data at zoom level 11.\n",
    "ax.add_image(stamen_terrain, 11)\n",
    "\n",
    "# Add the channel data\n",
    "gdf2 = gdf.to_crs(epsg=3857)    # We have to convert the data to the same \n",
    "                               #system as the ap tiles. It happens to be this one. \n",
    "                               # This epsg code is used for all map tiles (like google maps)\n",
    "\n",
    "# IF YOU WANT TO PLOT ONE BASIN, UNCOMMENT THE LINE BELOW        \n",
    "#gdf2 = gdf2[(gdf2['basin_key'] == 0)]\n",
    "gdf2.plot(ax=ax, markersize=0.5, column='m_chi', zorder=10,cmap=\"jet\")"
   ]
  },
  {
   "cell_type": "code",
   "execution_count": null,
   "metadata": {},
   "outputs": [],
   "source": []
  }
 ],
 "metadata": {
  "kernelspec": {
   "display_name": "Python 3",
   "language": "python",
   "name": "python3"
  },
  "language_info": {
   "codemirror_mode": {
    "name": "ipython",
    "version": 3
   },
   "file_extension": ".py",
   "mimetype": "text/x-python",
   "name": "python",
   "nbconvert_exporter": "python",
   "pygments_lexer": "ipython3",
   "version": "3.8.3"
  }
 },
 "nbformat": 4,
 "nbformat_minor": 4
}
