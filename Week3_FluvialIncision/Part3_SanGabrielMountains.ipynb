{
  "nbformat": 4,
  "nbformat_minor": 0,
  "metadata": {
    "kernelspec": {
      "display_name": "Python 3",
      "language": "python",
      "name": "python3"
    },
    "language_info": {
      "codemirror_mode": {
        "name": "ipython",
        "version": 3
      },
      "file_extension": ".py",
      "mimetype": "text/x-python",
      "name": "python",
      "nbconvert_exporter": "python",
      "pygments_lexer": "ipython3",
      "version": "3.8.3"
    },
    "colab": {
      "name": "Part3_SanGabrielMountains.ipynb",
      "provenance": [],
      "include_colab_link": true
    }
  },
  "cells": [
    {
      "cell_type": "markdown",
      "metadata": {
        "id": "view-in-github",
        "colab_type": "text"
      },
      "source": [
        "<a href=\"https://colab.research.google.com/github/fclubb/EarthSurfaceProcesses/blob/master/Week3_FluvialIncision/Part3_SanGabrielMountains.ipynb\" target=\"_parent\"><img src=\"https://colab.research.google.com/assets/colab-badge.svg\" alt=\"Open In Colab\"/></a>"
      ]
    },
    {
      "cell_type": "markdown",
      "metadata": {
        "id": "DqvvM_ac5p0c"
      },
      "source": [
        "# Part 3: Channel steepness analysis of the San Gabriel Mountains, California\n",
        "\n"
      ]
    },
    {
      "cell_type": "markdown",
      "metadata": {
        "id": "KyJ4P_K_5p0g"
      },
      "source": [
        "*This lesson has been written Fiona Clubb at Durham University, based on an original notebook by Simon M. Mudd at the University of Edinburgh*"
      ]
    },
    {
      "cell_type": "markdown",
      "metadata": {
        "id": "NNjsOaXv5p0i"
      },
      "source": [
        "Now we've had a look at some channel profiles and the stream power incision model, we are going to try to extract some channel profiles from a real landscape and explore how channel steepness varies across the landscape. You should be able to modify this notebook for different areas for use in your independent project, if you like.\n",
        "\n",
        "We are going to be using the San Gabriel Mountains, California, as an example. Channel steepness has been found to increase non-linearly with erosion rates in this landscape (DiBiase et al., 2010). It would be helpful if you had a look at this paper before doing the practical:\n",
        "\n",
        "\n",
        "---\n",
        "\n",
        "*DiBiase, R.A., Whipple, K.X., Heimsath, A.M. and Ouimet, W.B., 2010. Landscape form and millennial erosion rates in the San Gabriel Mountains, CA. Earth and Planetary Science Letters, 289(1-2), pp.134-144. https://doi.org/10.1016/j.epsl.2009.10.036*\n",
        "\n",
        "---\n",
        "\n",
        "\n",
        "\n",
        "We're going to use a python package called `lsdviztools` to download a digital elevation model (DEM) with a resolution of 30 m. This is from the Shuttle Radar Topography Mission (SRTM): this DEM is available pretty much globally, so it's very useful for this module and potentially for your dissertation project.\n",
        "\n",
        "We also will do a little bit of topographic analysis using **lsdtopotools**. **lsdtopotools** is a software package for analysing topography developed at the University of Edinburgh, Durham University, and other institutions. "
      ]
    },
    {
      "cell_type": "markdown",
      "metadata": {
        "id": "ap2ngDVv5p0p"
      },
      "source": [
        "## Get the right python packages\n",
        "\n",
        "In this first cell we're going to install `lsdtopotools` and `lsdviztools`. \n",
        "**WARNING - the first time you do this, it might take up to 5 minutes. Just wait for it to finish and then you don't have to run it again for the rest of the practical (even if you need to restart the kernel).**\n",
        "\n"
      ]
    },
    {
      "cell_type": "code",
      "metadata": {
        "id": "QyxcYuHr5p0q"
      },
      "source": [
        "!pip install lsdviztools &> /dev/null"
      ],
      "execution_count": 5,
      "outputs": []
    },
    {
      "cell_type": "markdown",
      "metadata": {
        "id": "_iFkYFPA8uJ-"
      },
      "source": [
        "\n",
        "First we download miniconda, which takes about 30 seconds."
      ]
    },
    {
      "cell_type": "code",
      "metadata": {
        "id": "YLRJ1M0g8FT0"
      },
      "source": [
        "%%bash\n",
        "MINICONDA_INSTALLER_SCRIPT=Miniconda3-py37_4.8.2-Linux-x86_64.sh\n",
        "MINICONDA_PREFIX=/usr/local\n",
        "wget https://repo.anaconda.com/miniconda/$MINICONDA_INSTALLER_SCRIPT &> /dev/null\n",
        "chmod +x $MINICONDA_INSTALLER_SCRIPT\n",
        "./$MINICONDA_INSTALLER_SCRIPT -b -f -p $MINICONDA_PREFIX &> /dev/null"
      ],
      "execution_count": null,
      "outputs": []
    },
    {
      "cell_type": "markdown",
      "metadata": {
        "id": "v4v2hx268yMU"
      },
      "source": [
        "\n",
        "The next step is to set the conda channels, install mamba (because it installs lsdtopotools much faster than conda) and then finally lsdtopotools. This takes ~3.5 minutes."
      ]
    },
    {
      "cell_type": "code",
      "metadata": {
        "id": "k99zLdug8KJC"
      },
      "source": [
        "!conda config --add channels conda-forge &> /dev/null\n",
        "!conda config --set channel_priority strict &> /dev/null\n",
        "!conda install -c conda-forge -y mamba &> /dev/null\n",
        "!mamba install -c conda-forge -y lsdtopotools &> /dev/null"
      ],
      "execution_count": null,
      "outputs": []
    },
    {
      "cell_type": "code",
      "metadata": {
        "id": "YKduDKl35p0t"
      },
      "source": [
        "import lsdviztools.lsdbasemaptools as bmt\n",
        "from lsdviztools.lsdplottingtools import lsdmap_gdalio as gio\n",
        "import lsdviztools.lsdmapwrappers as lsdmw\n",
        "import pandas as pd\n",
        "import geopandas as gpd\n",
        "import cartopy as cp\n",
        "import cartopy.crs as ccrs\n",
        "import rasterio as rio\n",
        "import matplotlib.pyplot as plt\n",
        "import numpy as np\n",
        "import os\n",
        "import shutil\n",
        "%matplotlib inline"
      ],
      "execution_count": 26,
      "outputs": []
    },
    {
      "cell_type": "markdown",
      "metadata": {
        "id": "suH8U26Y5p0v"
      },
      "source": [
        "## Now grab some data"
      ]
    },
    {
      "cell_type": "markdown",
      "metadata": {
        "id": "vks89V-d5p0x"
      },
      "source": [
        "First, we need to grab some data. We use a tool in `lsdviztools.lsdbasemaptools` called the `ot_scraper` (`ot` is for opentopography.org).\n",
        "\n",
        "You can tell this what sort of data you want (most people will use the SRTM 30 metre data) and you also tell it the lower left and the upper right corners, using latitude and longitude. You can get these from goole earth by right clicking on the map and selecting \"what's here\". In this example below, I will just get a small area near Sorbas. But you might expand your search area. "
      ]
    },
    {
      "cell_type": "code",
      "metadata": {
        "id": "1IkhKT735p00"
      },
      "source": [
        "# If you want to modify the DEM, change the bounding latitude and longitude. Change the `Dataset_prefix` if you want to change the name of the output DEM.\n",
        "Dataset_prefix = \"San_Gabriel\"\n",
        "SG_DEM = bmt.ot_scraper(source = \"SRTM30\",longitude_W = -118.257749, longitude_E = -117.488604, \n",
        "                            latitude_S = 34.143650, latitude_N =  34.404547,prefix = Dataset_prefix)\n",
        "SG_DEM.print_parameters()\n",
        "SG_DEM.download_pythonic()"
      ],
      "execution_count": null,
      "outputs": []
    },
    {
      "cell_type": "markdown",
      "metadata": {
        "id": "ykrIipOt5p02"
      },
      "source": [
        "That just downloaded a .tif file, which you can find in the \"Files\" tab in Google Colab. If you like you can download it and look at in a GIS. \n",
        "You can also look at the raw data here in python using something called `rasterio`. \n",
        "\n",
        "But we will use some tools called **lsdtopotools** to look at the data. \n",
        "\n",
        "To do that, we need to convert the data into a format **lsdtopotools** can understand. "
      ]
    },
    {
      "cell_type": "markdown",
      "metadata": {
        "id": "WGViKNWL5p05"
      },
      "source": [
        "The option below uses something called GDAL (short for Geospatial Data Abstraction Library). \n",
        "It has many tools for converting raster data formats and changing projections. It is also fast: it is much faster to convert or merge files using gdal than in, say, ArcMap. QGIS has the gdal tools built in. You can read more here: https://lsdtopotools.github.io/LSDTT_documentation/LSDTT_introduction_to_geospatial_data.html#translating-your-raster-into-something-that-can-be-used-by-lsdtopotoolbox\n",
        "\n",
        "In the below line the main thing you would change is the zone: this is the UTM zone. You can look up your UTM zone here: http://www.dmap.co.uk/utmworld.htm"
      ]
    },
    {
      "cell_type": "code",
      "metadata": {
        "id": "RSV5gDiV5p06"
      },
      "source": [
        "import subprocess\n",
        "\n",
        "# Below is the resolution of your data in metres\n",
        "res = \"30\"\n",
        "\n",
        "# Change the below UTM zone to the correct zone for your dataset\n",
        "pr = \"+proj=utm +zone=10 +datum=WGS84\"\n",
        "\n",
        "# Dont change the stuff below this line\n",
        "gd = \"gdalwarp\"\n",
        "sr = \"-t_srs\"\n",
        "of = \"-of\"\n",
        "en = \"ENVI\"\n",
        "ov = \"-overwrite\"\n",
        "tr = \"-tr\"\n",
        "r = \"-r\"\n",
        "rm = \"cubic\"\n",
        "infile = Dataset_prefix+\"_SRTMGL1.tif\"\n",
        "outfile = Dataset_prefix+\"_SRTMGL1_UTM.bil\"\n",
        "\n",
        "subprocess_list = [gd, sr, pr, of, en, ov, tr, res, res, r, rm, infile, outfile]\n",
        "\n",
        "subprocess.run(subprocess_list)\n",
        "\n",
        "# Below is the gdalwarp call that is not used but is here for future reference\n",
        "#!gdalwarp -t_srs '+proj=utm +zone=30 +datum=WGS84' -of ENVI -overwrite Sorbas_SRTM30.tif Sorbas_SRTM30_UTM.bil"
      ],
      "execution_count": null,
      "outputs": []
    },
    {
      "cell_type": "markdown",
      "metadata": {
        "id": "Q5AhSdM_5p07"
      },
      "source": [
        "## Now we do some topographic analysis and look at the data"
      ]
    },
    {
      "cell_type": "markdown",
      "metadata": {
        "id": "HSr-puwL5p09"
      },
      "source": [
        "We will extract some topogaphic metrics using `lsdtopotools`, which we installed earlier in the notebook.\n",
        "\n",
        "The `lsdtt_parameters` are the various parametes that you can use to run an analysis. We will discuss these later. For now, we will just follow this recipe. "
      ]
    },
    {
      "cell_type": "code",
      "metadata": {
        "id": "wMYEwR9t5p09"
      },
      "source": [
        "lsdtt_parameters = {\"write_hillshade\" : \"true\",  \n",
        "                    \"surface_fitting_radius\" : \"60\",\n",
        "                    \"print_slope\" : \"true\"}\n",
        "r_prefix = Dataset_prefix+\"_SRTMGL1_UTM\"\n",
        "w_prefix = Dataset_prefix+\"_SRTMGL1_UTM\"\n",
        "lsdtt_drive = lsdmw.lsdtt_driver(read_prefix = r_prefix,\n",
        "                                 write_prefix= w_prefix,\n",
        "                                 read_path = \"./\",\n",
        "                                 write_path = \"./\",\n",
        "                                 parameter_dictionary=lsdtt_parameters)\n",
        "lsdtt_drive.print_parameters()\n"
      ],
      "execution_count": null,
      "outputs": []
    },
    {
      "cell_type": "code",
      "metadata": {
        "id": "Vp2lILTa5p0-"
      },
      "source": [
        "lsdtt_drive.run_lsdtt_command_line_tool()"
      ],
      "execution_count": null,
      "outputs": []
    },
    {
      "cell_type": "markdown",
      "metadata": {
        "id": "dtr0rKtZ5p0_"
      },
      "source": [
        "That will take a little while to run (wait until there is a number in brackets beside the `In` to the right of the cell.)\n",
        "\n",
        "It will spit out some files. If you want to see what files are in this directory after the cell has finished you can run the following cell:"
      ]
    },
    {
      "cell_type": "code",
      "metadata": {
        "id": "eXulS3fE5p1A"
      },
      "source": [
        "!ls"
      ],
      "execution_count": null,
      "outputs": []
    },
    {
      "cell_type": "markdown",
      "metadata": {
        "id": "rGc06pUSMqxY"
      },
      "source": [
        "You will see that we have made some new rasters. We have made\n",
        "* *San_Gabriel_SRTMGL1_UTM_hs*: a hillshade\n",
        "* *San_Gabriel_SRTMGL1_UTM_SLOPE*: a slope raster\n"
      ]
    },
    {
      "cell_type": "markdown",
      "metadata": {
        "id": "czRvbXbBRCnW"
      },
      "source": [
        "\n",
        "\n",
        "---\n",
        "\n",
        "\n",
        "## Exercise 1\n",
        "\n",
        "* Download the hillshade and the slope raster (each one is made of two files: one ending in `.bil` and one ending in `.hdr`. Open QGIS or ArcGIS and load the rasters (drag the `.bil` file into the window).\n",
        "\n",
        "* Make a shaded slope map of the study area: to do this, load in both files and make sure the slope map is the top layer. Give the slope a transparency, say 50%, so you can see the hillshade through it.\n",
        "\n",
        "\n",
        "---\n",
        "\n",
        "\n"
      ]
    },
    {
      "cell_type": "markdown",
      "metadata": {
        "id": "HoJ8uzQO5p1D"
      },
      "source": [
        "## Get some channel profiles"
      ]
    },
    {
      "cell_type": "markdown",
      "metadata": {
        "id": "Cpo12zT55p1D"
      },
      "source": [
        "Okay, we will now run a different analysis which will allow us to get channel profiles for a range of drainage basins in the region."
      ]
    },
    {
      "cell_type": "code",
      "metadata": {
        "id": "eEt9p8EL5p1D",
        "colab": {
          "base_uri": "https://localhost:8080/"
        },
        "outputId": "ceef88b5-9486-4587-95f0-f43789aa57fc"
      },
      "source": [
        "lsdtt_parameters = {\"print_basin_raster\" : \"true\",\n",
        "                    \"print_chi_data_maps\" : \"true\",\n",
        "                    \"minimum_basin_size_pixels\" : \"5000\"}\n",
        "r_prefix = Dataset_prefix+\"_SRTMGL1_UTM\"\n",
        "w_prefix = Dataset_prefix+\"_SRTMGL1_UTM\"\n",
        "lsdtt_drive = lsdmw.lsdtt_driver(read_prefix = r_prefix,\n",
        "                                 write_prefix= w_prefix,\n",
        "                                 read_path = \"./\",\n",
        "                                 write_path = \"./\",\n",
        "                                 parameter_dictionary=lsdtt_parameters)\n",
        "lsdtt_drive.print_parameters()"
      ],
      "execution_count": 18,
      "outputs": [
        {
          "output_type": "stream",
          "name": "stdout",
          "text": [
            "The lsdtopotools command line tools available are: \n",
            "['lsdtt-basic-metrics', 'lsdtt-channel-extraction', 'lsdtt-chi-mapping', 'lsdtt-cosmo-tool', 'lsdtt-hillslope-channel-coupling']\n",
            "Please note only lsdtt-basic-metrics has been fully tested\n",
            "The command line tool is: lsdtt-basic-metrics\n",
            "The driver name is: Test_01\n",
            "The read path is: ./\n",
            "The write path is: ./\n",
            "The read prefix is: San_Gabriel_SRTMGL1_UTM\n",
            "The write prefix is: San_Gabriel_SRTMGL1_UTM\n",
            "The parameter dictionary is:\n",
            "{'print_basin_raster': 'true', 'print_chi_data_maps': 'true', 'minimum_basin_size_pixels': '5000'}\n"
          ]
        }
      ]
    },
    {
      "cell_type": "code",
      "metadata": {
        "id": "Upv88o0e5p1D",
        "colab": {
          "base_uri": "https://localhost:8080/"
        },
        "outputId": "ae4be431-7581-4d5f-bc56-b575a907ed74"
      },
      "source": [
        "lsdtt_drive.run_lsdtt_command_line_tool()"
      ],
      "execution_count": 19,
      "outputs": [
        {
          "output_type": "stream",
          "name": "stdout",
          "text": [
            "Done writing the driver file\n",
            "I've finised writing the driver file. Let me run LSDTT for you.\n"
          ]
        }
      ]
    },
    {
      "cell_type": "code",
      "metadata": {
        "id": "oYNsauBdZ4_0"
      },
      "source": [
        "# TO ADD HERE - GET SHAPEFILE OF THE BASINS FROM THE RASTER."
      ],
      "execution_count": 37,
      "outputs": []
    },
    {
      "cell_type": "markdown",
      "metadata": {
        "id": "4o-2g1MySOUL"
      },
      "source": [
        "If you look at the files that we have created, you'll see that a number of new files now exist: The new files we've created are:\n",
        "\n",
        "\n",
        "*   *San_Gabriel_SRTMGL1_UTM_AllBasins.bil* and *.hdr*: a raster showing you the basins that were extracted\n",
        "*   *San_Gabriel_SRTMGL1_UTM_AllBasins.shp*: a shapefile of the basins\n",
        "*   **San_Gabriel_SRTMGL1_UTM_chi_data_map.csv*: a CSV file with the information about the channel profiles. We will talk more about 'chi' profiles in a later practical. A CSV file can be loaded into Excel (although it will be really big, so I wouldn't recommend it). We can also load it in Python using a package called `geopandas`, which we'll do below.\n",
        "\n"
      ]
    },
    {
      "cell_type": "markdown",
      "metadata": {
        "id": "A0bS3Hz9VtDG"
      },
      "source": [
        "You might have noticed that the basins shapefile has lots of different files that you need to download. Let's move them all to a folder to make it easier to download:"
      ]
    },
    {
      "cell_type": "code",
      "metadata": {
        "id": "CiN9p2gEV1Xh"
      },
      "source": [
        "os.mkdir(Dataset_prefix+'_SRTMGL1_UTM_Basins')\n",
        "shutil.move(Dataset_prefix+'SRTMGL1_UTM_AllBasins.*', \"Dataset_prefix+'_SRTMGL1_UTM_Basins/\")"
      ],
      "execution_count": 15,
      "outputs": []
    },
    {
      "cell_type": "markdown",
      "metadata": {
        "id": "Ec23f6ukUfMh"
      },
      "source": [
        "\n",
        "\n",
        "---\n",
        "\n",
        "\n",
        "## Exercise 2\n",
        "\n",
        "Download the above files and load them into QGIS. You should be able to see the basins that we have extracted using the code. \n",
        "\n",
        "\n",
        "---\n",
        "\n"
      ]
    },
    {
      "cell_type": "markdown",
      "metadata": {
        "id": "pZELNivm5p1E"
      },
      "source": [
        "Now we are going to read in the channel data using geopandas. \n",
        "\n",
        "After this finishes running it will produce a csv file. \n",
        "\n",
        "These csv files can be read here, in the python environment. But they can also be loaded into a GIS by importing text data. You can make a file that is immediatly readable using a GIS by adding the option `convert_csv_to_geojson` to the parameters, so the command two cells up would become:\n",
        "\n",
        "    lsdtt_parameters = {\"print_basin_raster\" : \"true\",\n",
        "                        \"print_chi_data_maps\" : \"true\",\n",
        "                        \"convert_csv_to_geojson\" : \"true\",\n",
        "                        \"minimum_basin_size_pixels\" : \"5000\"}\n",
        "                        \n",
        "The disadvantage of this is that geojson files are much larger than csv. And you really only use these files with a GIS: if you use python you will be using the csv file. \n",
        "\n",
        "Okay, the cells below load a csv file using first `pandas` and then converts it into `geopandas` (which is `pandas` with georeferencing). This allows us to make what's called a `dataframe` (a data table, similar to Excel), in Python:"
      ]
    },
    {
      "cell_type": "code",
      "metadata": {
        "id": "w8AKXGB75p1F",
        "colab": {
          "base_uri": "https://localhost:8080/"
        },
        "outputId": "1a2e1113-be42-4f26-f99c-e24565914c70"
      },
      "source": [
        "chi_data_map_name = Dataset_prefix+\"_SRTMGL1_UTM_chi_data_map.csv\"\n",
        "df = pd.read_csv(chi_data_map_name)\n",
        "gdf = gpd.GeoDataFrame(\n",
        "    df, geometry=gpd.points_from_xy(df.longitude, df.latitude))\n",
        "gdf.crs = \"EPSG:4326\" \n",
        "print(gdf.head())"
      ],
      "execution_count": 9,
      "outputs": [
        {
          "output_type": "stream",
          "name": "stdout",
          "text": [
            "    latitude   longitude  ...  basin_key                     geometry\n",
            "0  34.358962 -117.588918  ...          0  POINT (-117.58892 34.35896)\n",
            "1  34.359246 -117.589226  ...          0  POINT (-117.58923 34.35925)\n",
            "2  34.359515 -117.589209  ...          0  POINT (-117.58921 34.35952)\n",
            "3  34.359799 -117.589516  ...          0  POINT (-117.58952 34.35980)\n",
            "4  34.360083 -117.589823  ...          0  POINT (-117.58982 34.36008)\n",
            "\n",
            "[5 rows x 9 columns]\n"
          ]
        }
      ]
    },
    {
      "cell_type": "markdown",
      "metadata": {
        "id": "j5i9JJahUHek"
      },
      "source": [
        "We can use the following command to see what columns we have in our data table:"
      ]
    },
    {
      "cell_type": "code",
      "metadata": {
        "id": "xLpHjT8Q5p1G",
        "colab": {
          "base_uri": "https://localhost:8080/"
        },
        "outputId": "bc732d9c-ee0c-418e-8237-504bc116ea48"
      },
      "source": [
        "gdf.columns"
      ],
      "execution_count": 20,
      "outputs": [
        {
          "output_type": "execute_result",
          "data": {
            "text/plain": [
              "Index(['latitude', 'longitude', 'chi', 'elevation', 'flow_distance',\n",
              "       'drainage_area', 'source_key', 'basin_key', 'geometry'],\n",
              "      dtype='object')"
            ]
          },
          "metadata": {},
          "execution_count": 20
        }
      ]
    },
    {
      "cell_type": "markdown",
      "metadata": {
        "id": "aLA1Zu6P5p1G"
      },
      "source": [
        "Let's use this dataframe to plot a river profile! You should have seen from looking at the basins in QGIS that we have lots of different basins. If you look at the raster in QGIS, you can see that they are assigned a number which is a bit random. To make it more logical, each basin is also assigned a \"basin_key\" which starts at 0 and goes up. You can see the basin key information in the file `San_Gabriel_SRTMGL1_UTM_AllBasinsInfo.csv`:"
      ]
    },
    {
      "cell_type": "code",
      "metadata": {
        "id": "z0ar_5OeW2lR",
        "outputId": "99b1751d-10f1-457a-d4eb-6fe0721ecef4",
        "colab": {
          "base_uri": "https://localhost:8080/",
          "height": 1000
        }
      },
      "source": [
        "basins_info = pd.read_csv(Dataset_prefix+'_SRTMGL1_UTM_AllBasinsInfo.csv')\n",
        "basins_info"
      ],
      "execution_count": 23,
      "outputs": [
        {
          "output_type": "execute_result",
          "data": {
            "text/html": [
              "<div>\n",
              "<style scoped>\n",
              "    .dataframe tbody tr th:only-of-type {\n",
              "        vertical-align: middle;\n",
              "    }\n",
              "\n",
              "    .dataframe tbody tr th {\n",
              "        vertical-align: top;\n",
              "    }\n",
              "\n",
              "    .dataframe thead th {\n",
              "        text-align: right;\n",
              "    }\n",
              "</style>\n",
              "<table border=\"1\" class=\"dataframe\">\n",
              "  <thead>\n",
              "    <tr style=\"text-align: right;\">\n",
              "      <th></th>\n",
              "      <th>latitude</th>\n",
              "      <th>longitude</th>\n",
              "      <th>outlet_latitude</th>\n",
              "      <th>outlet_longitude</th>\n",
              "      <th>outlet_junction</th>\n",
              "      <th>basin_key</th>\n",
              "    </tr>\n",
              "  </thead>\n",
              "  <tbody>\n",
              "    <tr>\n",
              "      <th>0</th>\n",
              "      <td>34.374968</td>\n",
              "      <td>-117.590492</td>\n",
              "      <td>34.398069</td>\n",
              "      <td>-117.581507</td>\n",
              "      <td>22</td>\n",
              "      <td>0</td>\n",
              "    </tr>\n",
              "    <tr>\n",
              "      <th>1</th>\n",
              "      <td>34.368995</td>\n",
              "      <td>-117.638763</td>\n",
              "      <td>34.392714</td>\n",
              "      <td>-117.606943</td>\n",
              "      <td>38</td>\n",
              "      <td>1</td>\n",
              "    </tr>\n",
              "    <tr>\n",
              "      <th>2</th>\n",
              "      <td>34.386846</td>\n",
              "      <td>-117.645442</td>\n",
              "      <td>34.396427</td>\n",
              "      <td>-117.636032</td>\n",
              "      <td>44</td>\n",
              "      <td>2</td>\n",
              "    </tr>\n",
              "    <tr>\n",
              "      <th>3</th>\n",
              "      <td>34.385881</td>\n",
              "      <td>-117.710018</td>\n",
              "      <td>34.395889</td>\n",
              "      <td>-117.716556</td>\n",
              "      <td>54</td>\n",
              "      <td>3</td>\n",
              "    </tr>\n",
              "    <tr>\n",
              "      <th>4</th>\n",
              "      <td>34.387278</td>\n",
              "      <td>-118.012663</td>\n",
              "      <td>34.401456</td>\n",
              "      <td>-118.009212</td>\n",
              "      <td>58</td>\n",
              "      <td>4</td>\n",
              "    </tr>\n",
              "    <tr>\n",
              "      <th>5</th>\n",
              "      <td>34.377166</td>\n",
              "      <td>-117.777358</td>\n",
              "      <td>34.391946</td>\n",
              "      <td>-117.788169</td>\n",
              "      <td>62</td>\n",
              "      <td>5</td>\n",
              "    </tr>\n",
              "    <tr>\n",
              "      <th>6</th>\n",
              "      <td>34.371340</td>\n",
              "      <td>-117.973207</td>\n",
              "      <td>34.397645</td>\n",
              "      <td>-117.969023</td>\n",
              "      <td>68</td>\n",
              "      <td>6</td>\n",
              "    </tr>\n",
              "    <tr>\n",
              "      <th>7</th>\n",
              "      <td>34.392961</td>\n",
              "      <td>-117.888806</td>\n",
              "      <td>34.400884</td>\n",
              "      <td>-117.890930</td>\n",
              "      <td>71</td>\n",
              "      <td>7</td>\n",
              "    </tr>\n",
              "    <tr>\n",
              "      <th>8</th>\n",
              "      <td>34.345110</td>\n",
              "      <td>-117.538684</td>\n",
              "      <td>34.316231</td>\n",
              "      <td>-117.491081</td>\n",
              "      <td>101</td>\n",
              "      <td>8</td>\n",
              "    </tr>\n",
              "    <tr>\n",
              "      <th>9</th>\n",
              "      <td>34.365830</td>\n",
              "      <td>-117.905444</td>\n",
              "      <td>34.385332</td>\n",
              "      <td>-117.939129</td>\n",
              "      <td>123</td>\n",
              "      <td>9</td>\n",
              "    </tr>\n",
              "    <tr>\n",
              "      <th>10</th>\n",
              "      <td>34.327468</td>\n",
              "      <td>-118.117172</td>\n",
              "      <td>34.296890</td>\n",
              "      <td>-118.246246</td>\n",
              "      <td>174</td>\n",
              "      <td>10</td>\n",
              "    </tr>\n",
              "    <tr>\n",
              "      <th>11</th>\n",
              "      <td>34.264749</td>\n",
              "      <td>-117.872191</td>\n",
              "      <td>34.154471</td>\n",
              "      <td>-117.922754</td>\n",
              "      <td>219</td>\n",
              "      <td>11</td>\n",
              "    </tr>\n",
              "    <tr>\n",
              "      <th>12</th>\n",
              "      <td>34.389818</td>\n",
              "      <td>-118.156243</td>\n",
              "      <td>34.395067</td>\n",
              "      <td>-118.152354</td>\n",
              "      <td>239</td>\n",
              "      <td>12</td>\n",
              "    </tr>\n",
              "    <tr>\n",
              "      <th>13</th>\n",
              "      <td>34.372602</td>\n",
              "      <td>-117.828793</td>\n",
              "      <td>34.378709</td>\n",
              "      <td>-117.832652</td>\n",
              "      <td>246</td>\n",
              "      <td>13</td>\n",
              "    </tr>\n",
              "    <tr>\n",
              "      <th>14</th>\n",
              "      <td>34.365512</td>\n",
              "      <td>-118.218252</td>\n",
              "      <td>34.362791</td>\n",
              "      <td>-118.245452</td>\n",
              "      <td>339</td>\n",
              "      <td>14</td>\n",
              "    </tr>\n",
              "    <tr>\n",
              "      <th>15</th>\n",
              "      <td>34.317089</td>\n",
              "      <td>-117.558410</td>\n",
              "      <td>34.298766</td>\n",
              "      <td>-117.511102</td>\n",
              "      <td>436</td>\n",
              "      <td>15</td>\n",
              "    </tr>\n",
              "    <tr>\n",
              "      <th>16</th>\n",
              "      <td>34.286376</td>\n",
              "      <td>-117.566254</td>\n",
              "      <td>34.260916</td>\n",
              "      <td>-117.498279</td>\n",
              "      <td>480</td>\n",
              "      <td>16</td>\n",
              "    </tr>\n",
              "    <tr>\n",
              "      <th>17</th>\n",
              "      <td>34.216093</td>\n",
              "      <td>-117.650771</td>\n",
              "      <td>34.158924</td>\n",
              "      <td>-117.677786</td>\n",
              "      <td>720</td>\n",
              "      <td>17</td>\n",
              "    </tr>\n",
              "    <tr>\n",
              "      <th>18</th>\n",
              "      <td>34.246259</td>\n",
              "      <td>-117.550952</td>\n",
              "      <td>34.253273</td>\n",
              "      <td>-117.532608</td>\n",
              "      <td>774</td>\n",
              "      <td>18</td>\n",
              "    </tr>\n",
              "    <tr>\n",
              "      <th>19</th>\n",
              "      <td>34.216153</td>\n",
              "      <td>-118.158095</td>\n",
              "      <td>34.154519</td>\n",
              "      <td>-118.164224</td>\n",
              "      <td>814</td>\n",
              "      <td>19</td>\n",
              "    </tr>\n",
              "    <tr>\n",
              "      <th>20</th>\n",
              "      <td>34.226937</td>\n",
              "      <td>-117.535616</td>\n",
              "      <td>34.233127</td>\n",
              "      <td>-117.504971</td>\n",
              "      <td>898</td>\n",
              "      <td>20</td>\n",
              "    </tr>\n",
              "    <tr>\n",
              "      <th>21</th>\n",
              "      <td>34.189180</td>\n",
              "      <td>-117.622246</td>\n",
              "      <td>34.167363</td>\n",
              "      <td>-117.635983</td>\n",
              "      <td>931</td>\n",
              "      <td>21</td>\n",
              "    </tr>\n",
              "    <tr>\n",
              "      <th>22</th>\n",
              "      <td>34.232508</td>\n",
              "      <td>-118.216692</td>\n",
              "      <td>34.209736</td>\n",
              "      <td>-118.235545</td>\n",
              "      <td>938</td>\n",
              "      <td>22</td>\n",
              "    </tr>\n",
              "    <tr>\n",
              "      <th>23</th>\n",
              "      <td>34.186357</td>\n",
              "      <td>-117.558394</td>\n",
              "      <td>34.191334</td>\n",
              "      <td>-117.542796</td>\n",
              "      <td>965</td>\n",
              "      <td>23</td>\n",
              "    </tr>\n",
              "    <tr>\n",
              "      <th>24</th>\n",
              "      <td>34.193759</td>\n",
              "      <td>-118.091094</td>\n",
              "      <td>34.146030</td>\n",
              "      <td>-118.086714</td>\n",
              "      <td>991</td>\n",
              "      <td>24</td>\n",
              "    </tr>\n",
              "    <tr>\n",
              "      <th>25</th>\n",
              "      <td>34.190310</td>\n",
              "      <td>-118.019114</td>\n",
              "      <td>34.155317</td>\n",
              "      <td>-118.028974</td>\n",
              "      <td>1002</td>\n",
              "      <td>25</td>\n",
              "    </tr>\n",
              "    <tr>\n",
              "      <th>26</th>\n",
              "      <td>34.180392</td>\n",
              "      <td>-117.515553</td>\n",
              "      <td>34.185872</td>\n",
              "      <td>-117.523323</td>\n",
              "      <td>1014</td>\n",
              "      <td>26</td>\n",
              "    </tr>\n",
              "    <tr>\n",
              "      <th>27</th>\n",
              "      <td>34.182693</td>\n",
              "      <td>-117.746499</td>\n",
              "      <td>34.150919</td>\n",
              "      <td>-117.774142</td>\n",
              "      <td>1025</td>\n",
              "      <td>27</td>\n",
              "    </tr>\n",
              "    <tr>\n",
              "      <th>28</th>\n",
              "      <td>34.183532</td>\n",
              "      <td>-117.573852</td>\n",
              "      <td>34.181262</td>\n",
              "      <td>-117.571397</td>\n",
              "      <td>1034</td>\n",
              "      <td>28</td>\n",
              "    </tr>\n",
              "    <tr>\n",
              "      <th>29</th>\n",
              "      <td>34.184335</td>\n",
              "      <td>-118.118952</td>\n",
              "      <td>34.156493</td>\n",
              "      <td>-118.125434</td>\n",
              "      <td>1103</td>\n",
              "      <td>29</td>\n",
              "    </tr>\n",
              "    <tr>\n",
              "      <th>30</th>\n",
              "      <td>34.176631</td>\n",
              "      <td>-117.807006</td>\n",
              "      <td>34.158620</td>\n",
              "      <td>-117.828260</td>\n",
              "      <td>1111</td>\n",
              "      <td>30</td>\n",
              "    </tr>\n",
              "    <tr>\n",
              "      <th>31</th>\n",
              "      <td>34.172293</td>\n",
              "      <td>-117.557999</td>\n",
              "      <td>34.163997</td>\n",
              "      <td>-117.553659</td>\n",
              "      <td>1128</td>\n",
              "      <td>31</td>\n",
              "    </tr>\n",
              "    <tr>\n",
              "      <th>32</th>\n",
              "      <td>34.177484</td>\n",
              "      <td>-117.976309</td>\n",
              "      <td>34.153020</td>\n",
              "      <td>-117.985886</td>\n",
              "      <td>1153</td>\n",
              "      <td>32</td>\n",
              "    </tr>\n",
              "    <tr>\n",
              "      <th>33</th>\n",
              "      <td>34.167569</td>\n",
              "      <td>-117.603798</td>\n",
              "      <td>34.145312</td>\n",
              "      <td>-117.607492</td>\n",
              "      <td>1176</td>\n",
              "      <td>33</td>\n",
              "    </tr>\n",
              "    <tr>\n",
              "      <th>34</th>\n",
              "      <td>34.176175</td>\n",
              "      <td>-118.137953</td>\n",
              "      <td>34.151951</td>\n",
              "      <td>-118.140320</td>\n",
              "      <td>1199</td>\n",
              "      <td>34</td>\n",
              "    </tr>\n",
              "    <tr>\n",
              "      <th>35</th>\n",
              "      <td>34.169405</td>\n",
              "      <td>-118.049925</td>\n",
              "      <td>34.146547</td>\n",
              "      <td>-118.039238</td>\n",
              "      <td>1214</td>\n",
              "      <td>35</td>\n",
              "    </tr>\n",
              "    <tr>\n",
              "      <th>36</th>\n",
              "      <td>34.165327</td>\n",
              "      <td>-118.212366</td>\n",
              "      <td>34.152567</td>\n",
              "      <td>-118.231614</td>\n",
              "      <td>1270</td>\n",
              "      <td>36</td>\n",
              "    </tr>\n",
              "  </tbody>\n",
              "</table>\n",
              "</div>"
            ],
            "text/plain": [
              "     latitude   longitude  ...  outlet_junction  basin_key\n",
              "0   34.374968 -117.590492  ...               22          0\n",
              "1   34.368995 -117.638763  ...               38          1\n",
              "2   34.386846 -117.645442  ...               44          2\n",
              "3   34.385881 -117.710018  ...               54          3\n",
              "4   34.387278 -118.012663  ...               58          4\n",
              "5   34.377166 -117.777358  ...               62          5\n",
              "6   34.371340 -117.973207  ...               68          6\n",
              "7   34.392961 -117.888806  ...               71          7\n",
              "8   34.345110 -117.538684  ...              101          8\n",
              "9   34.365830 -117.905444  ...              123          9\n",
              "10  34.327468 -118.117172  ...              174         10\n",
              "11  34.264749 -117.872191  ...              219         11\n",
              "12  34.389818 -118.156243  ...              239         12\n",
              "13  34.372602 -117.828793  ...              246         13\n",
              "14  34.365512 -118.218252  ...              339         14\n",
              "15  34.317089 -117.558410  ...              436         15\n",
              "16  34.286376 -117.566254  ...              480         16\n",
              "17  34.216093 -117.650771  ...              720         17\n",
              "18  34.246259 -117.550952  ...              774         18\n",
              "19  34.216153 -118.158095  ...              814         19\n",
              "20  34.226937 -117.535616  ...              898         20\n",
              "21  34.189180 -117.622246  ...              931         21\n",
              "22  34.232508 -118.216692  ...              938         22\n",
              "23  34.186357 -117.558394  ...              965         23\n",
              "24  34.193759 -118.091094  ...              991         24\n",
              "25  34.190310 -118.019114  ...             1002         25\n",
              "26  34.180392 -117.515553  ...             1014         26\n",
              "27  34.182693 -117.746499  ...             1025         27\n",
              "28  34.183532 -117.573852  ...             1034         28\n",
              "29  34.184335 -118.118952  ...             1103         29\n",
              "30  34.176631 -117.807006  ...             1111         30\n",
              "31  34.172293 -117.557999  ...             1128         31\n",
              "32  34.177484 -117.976309  ...             1153         32\n",
              "33  34.167569 -117.603798  ...             1176         33\n",
              "34  34.176175 -118.137953  ...             1199         34\n",
              "35  34.169405 -118.049925  ...             1214         35\n",
              "36  34.165327 -118.212366  ...             1270         36\n",
              "\n",
              "[37 rows x 6 columns]"
            ]
          },
          "metadata": {},
          "execution_count": 23
        }
      ]
    },
    {
      "cell_type": "markdown",
      "metadata": {
        "id": "LtAoC5amXO4c"
      },
      "source": [
        "Let's choose a basin that we want to make a plot of using the basin key. If you want to change the basin, just change the basin key to another one from the table above."
      ]
    },
    {
      "cell_type": "code",
      "metadata": {
        "id": "JVFu7OnTXbD3"
      },
      "source": [
        "# set the basin key that you want to plot here\n",
        "basin_key = 10"
      ],
      "execution_count": 30,
      "outputs": []
    },
    {
      "cell_type": "markdown",
      "metadata": {
        "id": "VKAu56d6XfSR"
      },
      "source": [
        "Then run the below cell to make a plot of the river profiles in that basin. We will make two plots: the first one is the entire river network, and the second one is the main stem only:"
      ]
    },
    {
      "cell_type": "code",
      "metadata": {
        "id": "0XPzX-I85p1H",
        "colab": {
          "base_uri": "https://localhost:8080/",
          "height": 746
        },
        "outputId": "84f7520f-478f-4bab-ba3c-7894546017d8"
      },
      "source": [
        "# then do the plotting\n",
        "plt.rcParams['figure.figsize'] = [10, 10]\n",
        "\n",
        "# First lets isolate just one of these basins. There is only basin 0 and 1\n",
        "gdf_b1 = gdf[(gdf['basin_key'] == basin_key)]\n",
        "\n",
        "# The main stem channel is the one with the minimum source key in this basin\n",
        "min_source = np.amin(gdf_b1.source_key)\n",
        "gdf_b2 = gdf_b1[(gdf_b1['source_key'] == min_source)]\n",
        "#gdf_b2 = gdf_b1\n",
        "\n",
        "# Create two subplots and unpack the output array immediately\n",
        "plt.clf()\n",
        "f, (ax1, ax2) = plt.subplots(2, 1)\n",
        "ax1.scatter(gdf_b1['flow_distance'], gdf_b1['elevation'],c=gdf_b1['source_key'], s = 0.2)\n",
        "ax2.scatter(gdf_b2['flow_distance'], gdf_b2['elevation'],s = 0.2)\n",
        "\n",
        "\n",
        "ax1.set_xlabel(\"Distance from outlet (m)\", fontsize=12)\n",
        "ax1.set_ylabel(\"Elevation (m)\", fontsize=12)\n",
        "ax1.set_title('Full river network profile')\n",
        "\n",
        "ax2.set_xlabel(\"Distance from outlet (m)\", fontsize=12)\n",
        "ax2.set_ylabel(\"Elevation (m)\", fontsize=12)\n",
        "ax2.set_title('Main stem profile')\n",
        "\n",
        "plt.tight_layout()"
      ],
      "execution_count": 36,
      "outputs": [
        {
          "output_type": "display_data",
          "data": {
            "text/plain": [
              "<Figure size 720x720 with 0 Axes>"
            ]
          },
          "metadata": {}
        },
        {
          "output_type": "display_data",
          "data": {
            "image/png": "[encoded data removed]",
            "text/plain": [
              "<Figure size 720x720 with 2 Axes>"
            ]
          },
          "metadata": {
            "needs_background": "light"
          }
        }
      ]
    },
    {
      "cell_type": "markdown",
      "metadata": {
        "id": "2kJRAps7Y2w-"
      },
      "source": [
        "\n",
        "\n",
        "---\n",
        "\n",
        "\n",
        "## Exercise 3\n",
        "\n",
        "Choose one of the basins from the area and make a nice plot of the river profile. What features can you see in the profile? Are there any knickpoints (steepened reaches of the profile?)\n",
        "\n",
        "Write a short figure caption that describes the figure you have made, and explains the key of the river profile with reference to the slope map that you produced in Exercise 1.\n",
        "\n",
        "\n",
        "---\n",
        "\n",
        "\n"
      ]
    },
    {
      "cell_type": "markdown",
      "metadata": {
        "id": "MgqoTmKP5p1H"
      },
      "source": [
        "## Getting the full channel profile with steepness information"
      ]
    },
    {
      "cell_type": "markdown",
      "metadata": {
        "id": "6ZAElxik5p1I"
      },
      "source": [
        "In lesson 2, we are going to work with a file that has the extension `_MChiSegmented.csv`. \n",
        "To generate this file, you need to run the following command.\n",
        "\n",
        "**Warning**: This is quite computationally expensive so if you have a big area it will take a while for this routine to finish. \n",
        "\n",
        "If you want to play with this data in a GIS, you would change line 2 of the cell below to:\n",
        "\n",
        "    lsdtt_parameters = {\"print_segmented_M_chi_map_to_csv\" : \"true\", \n",
        "                        \"print_basin_raster\" : \"true\",\n",
        "                        \"convert_csv_to_geojson\" : \"true\"}"
      ]
    },
    {
      "cell_type": "code",
      "metadata": {
        "id": "Rt32T1CC5p1I"
      },
      "source": [
        "command_line_tool = \"lsdtt-chi-mapping\"\n",
        "lsdtt_parameters = {\"print_segmented_M_chi_map_to_csv\" : \"true\", \n",
        "                    \"print_basin_raster\" : \"true\"}\n",
        "\n",
        "r_prefix = Dataset_prefix+\"_SRTM30_UTM\"\n",
        "w_prefix = Dataset_prefix+\"_SRTM30_UTM\"\n",
        "lsdtt_drive = lsdmw.lsdtt_driver(command_line_tool,read_prefix = r_prefix,\n",
        "                                 write_prefix= w_prefix,\n",
        "                                 read_path = \"./\",\n",
        "                                 write_path = \"./\",\n",
        "                                 parameter_dictionary=lsdtt_parameters)\n",
        "lsdtt_drive.print_parameters()\n",
        "lsdtt_drive.run_lsdtt_command_line_tool()"
      ],
      "execution_count": null,
      "outputs": []
    },
    {
      "cell_type": "markdown",
      "metadata": {
        "id": "q5T3wDns5p1I"
      },
      "source": [
        "We can use the `!ls` command to see if the file is there (the `!` tells the notebook to access the underlying linux operating system, and `ls` is a linux command that lists (`ls` is short for list) the contents of the current directory)."
      ]
    },
    {
      "cell_type": "code",
      "metadata": {
        "id": "Tz5cl2mZ5p1J"
      },
      "source": [
        "!ls"
      ],
      "execution_count": null,
      "outputs": []
    },
    {
      "cell_type": "markdown",
      "metadata": {
        "id": "ca3Uj8Pw5p1J"
      },
      "source": [
        "Okay, the data is there, it is called `SorbasChi_MC_MChiSegmented.csv`. Lets load it with `geopandas`."
      ]
    },
    {
      "cell_type": "code",
      "metadata": {
        "id": "I5_-PiL75p1J"
      },
      "source": [
        "segmented_data_map_name = w_prefix+\"_MChiSegmented.csv\"\n",
        "df = pd.read_csv(segmented_data_map_name)\n",
        "gdf = gpd.GeoDataFrame(\n",
        "    df, geometry=gpd.points_from_xy(df.longitude, df.latitude))\n",
        "gdf.crs = \"EPSG:4326\" \n",
        "print(gdf.head())"
      ],
      "execution_count": null,
      "outputs": []
    },
    {
      "cell_type": "markdown",
      "metadata": {
        "id": "qtA8CiIW5p1K"
      },
      "source": [
        "Lets plot the points"
      ]
    },
    {
      "cell_type": "code",
      "metadata": {
        "id": "hwK4vCr65p1K"
      },
      "source": [
        "%matplotlib inline\n",
        "import matplotlib.pyplot as plt\n",
        "from matplotlib.transforms import offset_copy\n",
        "import cartopy.crs as ccrs\n",
        "import cartopy.io.img_tiles as cimgt\n",
        "plt.rcParams['figure.figsize'] = [10, 10]\n",
        "\n",
        "\n",
        "bounds = gdf.total_bounds\n",
        "stamen_terrain = cimgt.Stamen('terrain-background')\n",
        "\n",
        "fig = plt.figure()\n",
        "\n",
        "# Create a GeoAxes in the tile's projection.\n",
        "ax = fig.add_subplot(1, 1, 1, projection=stamen_terrain.crs)\n",
        "\n",
        "# Limit the extent of the map to a small longitude/latitude range.\n",
        "ax.set_extent([bounds[0]-0.05, bounds[2]+0.05, bounds[1]-0.05, bounds[3]+0.05], crs=ccrs.Geodetic())\n",
        "\n",
        "# Add the Stamen data at zoom level 11.\n",
        "ax.add_image(stamen_terrain, 11)\n",
        "\n",
        "# Add the channel data\n",
        "gdf2 = gdf.to_crs(epsg=3857)    # We have to convert the data to the same \n",
        "                               #system as the ap tiles. It happens to be this one. \n",
        "                               # This epsg code is used for all map tiles (like google maps)\n",
        "\n",
        "# IF YOU WANT TO PLOT ONE BASIN, UNCOMMENT THE LINE BELOW        \n",
        "#gdf2 = gdf2[(gdf2['basin_key'] == 0)]\n",
        "gdf2.plot(ax=ax, markersize=0.5, column='m_chi', zorder=10,cmap=\"jet\")"
      ],
      "execution_count": null,
      "outputs": []
    },
    {
      "cell_type": "code",
      "metadata": {
        "id": "bKdxXSSA5p1K"
      },
      "source": [
        ""
      ],
      "execution_count": null,
      "outputs": []
    }
  ]
}