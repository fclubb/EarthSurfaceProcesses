{
  "nbformat": 4,
  "nbformat_minor": 0,
  "metadata": {
    "kernelspec": {
      "display_name": "Python 3",
      "language": "python",
      "name": "python3"
    },
    "language_info": {
      "codemirror_mode": {
        "name": "ipython",
        "version": 3
      },
      "file_extension": ".py",
      "mimetype": "text/x-python",
      "name": "python",
      "nbconvert_exporter": "python",
      "pygments_lexer": "ipython3",
      "version": "3.8.3"
    },
    "colab": {
      "name": "Part2_StreamPower.ipynb",
      "provenance": [],
      "include_colab_link": true
    }
  },
  "cells": [
    {
      "cell_type": "markdown",
      "metadata": {
        "id": "view-in-github",
        "colab_type": "text"
      },
      "source": [
        "<a href=\"https://colab.research.google.com/github/fclubb/EarthSurfaceProcesses/blob/master/Week3_FluvialIncision/Part2_StreamPower_ANSWERS.ipynb\" target=\"_parent\"><img src=\"https://colab.research.google.com/assets/colab-badge.svg\" alt=\"Open In Colab\"/></a>"
      ]
    },
    {
      "cell_type": "markdown",
      "metadata": {
        "id": "__RJnLLRsMor"
      },
      "source": [
        "# Part 2: Stream power"
      ]
    },
    {
      "cell_type": "markdown",
      "metadata": {
        "id": "G7YO1VDksMov"
      },
      "source": [
        "*This lesson was originally written by Simon M. Mudd at the University of Edinburgh, modified by Fiona Clubb at Durham University*"
      ]
    },
    {
      "cell_type": "markdown",
      "metadata": {
        "id": "jUOCsXVmsMpB"
      },
      "source": [
        "__Task:__ Play around with the parameters above to get a feeling for how much relief is generated for different erodibilites and uplift rates. \n",
        "\n",
        "__Question__: Set $n$ = 1 and $m$ = 0.45. Use an uplift rate of 0.0005 m/yr and 0.0002 m/yr. What are values of K that give realistic relief? You can go on Google earth to see how long channels are in big mountain ranges and how much relief they have. \n",
        "\n",
        "_To answer the question, let's set $n$ and $m$ in the code blocks below and create 2 channels with the different uplift rates. I have set all other parameters to be identical between the two channels_.\n",
        "\n",
        "_If we use the default $K$ value of 0.00005, you can see that we get quite low elevations. For $U$ = 0.0002 m/yr, this value of $K$ gives a relief (difference in elevation from the start to the end of the profile) of around 20 m, while if $U$ = 0.0005 m/yr, the relief is around 90 m._\n",
        "\n",
        "![download (1).png](data:image/png;base64,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)"
      ]
    },
    {
      "cell_type": "markdown",
      "source": [
        "_How does this compare to real mountain ranges? If we look at the Himalayas on Google Earth, we can look at the elevation difference over a similar stretch of channel (10km). I chose to look at the Gandaki river in Nepal which is quite high up in the mountains: there the river drops 286 m in 10 km. To get these values with the specified uplift rates, I had to decrease $K$ to 0.000019 when U = 0.0005 m/yr, and even further to 0.000008 when U = 0.0002 m/yr._\n",
        "\n",
        "_Why might this be the case? To increase relief along our channel profile, we need to decrease erosion rates. Erosion rates are controlled by the stream power model. Remeber in steady state that:_\n",
        "\n",
        "$S = \\big(\\frac{U}{k}\\big)^{1/n} A^{-m/n}$\n",
        "\n",
        "_If we increase $k$, we increase erosion and therefore the channel will cut down and decrease relief (you can see in this equation, this will decrease channel slope). However if we decrease $k$, we are simulating rock that is harder to erode - this decreases erosion and preserves channel relief._\n",
        "\n",
        "_This is affected by uplift rate, because we are working towards our steady-state solution where erosion will balance uplift. In the equation above, you can see that uplift if on the numerator. If uplift rates are higher, we will increase channel slopes, whereas if uplift rates are slower we will decrease slopes. We can therefore preserve higher channel slopes in more erodible rock, if we've got higher rates of uplift._"
      ],
      "metadata": {
        "id": "DJWTC-HnTiiz"
      }
    },
    {
      "cell_type": "markdown",
      "metadata": {
        "id": "MOvqmGLxsMo7"
      },
      "source": [
        "First we need to install the package and then import a few other tools."
      ]
    },
    {
      "cell_type": "code",
      "metadata": {
        "id": "HaNVEOKAsMo8",
        "colab": {
          "base_uri": "https://localhost:8080/"
        },
        "outputId": "77a381f1-47ea-48db-cdca-2dc95af63687"
      },
      "source": [
        "!pip install channeltoy"
      ],
      "execution_count": 3,
      "outputs": [
        {
          "output_type": "stream",
          "name": "stdout",
          "text": [
            "Looking in indexes: https://pypi.org/simple, https://us-python.pkg.dev/colab-wheels/public/simple/\n",
            "Collecting channeltoy\n",
            "  Downloading channeltoy-0.1.0-py2.py3-none-any.whl (8.8 kB)\n",
            "Requirement already satisfied: Click>=7.0 in /usr/local/lib/python3.7/dist-packages (from channeltoy) (7.1.2)\n",
            "Installing collected packages: channeltoy\n",
            "Successfully installed channeltoy-0.1.0\n"
          ]
        }
      ]
    },
    {
      "cell_type": "code",
      "metadata": {
        "id": "w0_iTo2KsMo9"
      },
      "source": [
        "import channeltoy as ct\n",
        "import matplotlib.pyplot as plt\n",
        "import numpy as np"
      ],
      "execution_count": 4,
      "outputs": []
    },
    {
      "cell_type": "code",
      "metadata": {
        "id": "Bsdn4AhusMpA",
        "colab": {
          "base_uri": "https://localhost:8080/",
          "height": 369
        },
        "outputId": "307eb502-f7da-4320-d3ae-3e16085ed150"
      },
      "source": [
        "# Set up a first and second channel\n",
        "first_channel = ct.channeltoy(spacing=250, U=0.0005, K=0.000019, n=1, m=0.45, maximum_x=10000, X_0=12000)\n",
        "\n",
        "# I show here the setting of steady state but actually this happens automatically when you make a channel. \n",
        "initial_elevation = first_channel.solve_steady_state_elevation()\n",
        "\n",
        "second_channel = ct.channeltoy(spacing=250, U=0.0002, K=0.000008, n=1, m=0.45, maximum_x=10000, X_0=12000)\n",
        "second_channel.solve_steady_state_elevation() # This isn't really necessary but showing you how to reset a channel to steady state\n",
        "\n",
        "# Get the data from the two channels\n",
        "x1 = first_channel.x_data\n",
        "z1 = first_channel.z_data\n",
        "x2 = second_channel.x_data\n",
        "z2 = second_channel.z_data\n",
        "\n",
        "# Plot the channels\n",
        "plt.plot(x1,z1,label=\"$U = 0.0005$\")\n",
        "plt.plot(x2,z2,label=\"$U = 0.0002$\")\n",
        "plt.legend()\n",
        "\n",
        "plt.xlabel(\"Distance from outlet ($m$)\")\n",
        "plt.ylabel(\"elevation (m)\")"
      ],
      "execution_count": 9,
      "outputs": [
        {
          "output_type": "stream",
          "name": "stdout",
          "text": [
            "K is: 1.9e-05\n",
            "U is: 0.0005\n",
            "K is: 8e-06\n",
            "U is: 0.0002\n"
          ]
        },
        {
          "output_type": "execute_result",
          "data": {
            "text/plain": [
              "Text(0, 0.5, 'elevation (m)')"
            ]
          },
          "metadata": {},
          "execution_count": 9
        },
        {
          "output_type": "display_data",
          "data": {
            "text/plain": [
              "<Figure size 432x288 with 1 Axes>"
            ],
            "image/png": "[encoded data removed]"
          },
          "metadata": {
            "needs_background": "light"
          }
        }
      ]
    },
    {
      "cell_type": "markdown",
      "metadata": {
        "id": "57-rf5MYsMpB"
      },
      "source": [
        "## Further reading"
      ]
    },
    {
      "cell_type": "markdown",
      "metadata": {
        "id": "2xbyK18osMpC"
      },
      "source": [
        "Howard, A.D., Kerby, G., 1983. Channel changes in badlands. GSA Bulletin 94, 739–752. https://doi.org/10.1130/0016-7606(1983)94<739:CCIB>2.0.CO;2\n",
        "\n",
        "\n",
        "Whipple, K.X., Tucker, G.E., 1999. Dynamics of the stream-power river incision model: Implications for height limits of mountain ranges, landscape response timescales, and research needs. Journal of Geophysical Research: Solid Earth 104, 17661–17674. https://doi.org/10.1029/1999JB900120\n",
        "\n"
      ]
    },
    {
      "cell_type": "code",
      "metadata": {
        "id": "wPD9Cxz0uaaj"
      },
      "source": [],
      "execution_count": null,
      "outputs": []
    }
  ]
}