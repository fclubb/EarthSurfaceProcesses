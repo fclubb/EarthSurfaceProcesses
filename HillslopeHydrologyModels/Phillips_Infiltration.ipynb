{
 "cells": [
  {
   "cell_type": "markdown",
   "metadata": {},
   "source": [
    "# Phillip Equation for Infiltration"
   ]
  },
  {
   "cell_type": "markdown",
   "metadata": {},
   "source": [
    "When water is supplied as fast  as it can enter the soil, infiltration rate $I$ [L T<sup>-1</sup>] develops through time [T] according to:\n",
    "\n",
    "$$\n",
    "\\begin{equation}\n",
    "I(t) = K_P+{{1}\\over{2}}S_P\\:t^{-0.5}  \\tag{1} \\label{eq:1}\n",
    "\\end{equation}\n",
    "$$\n",
    "\n",
    "The first term is a transmission contant $K_P$ [L T<sup>-1</sup>] representing the conductivity of unimpeded flow (which we assume equal to saturated hydraulic conductivity $K_S$ [L T<sup>-1</sup>]). The second term is a diffusive component representing the slow filling of pores due to capillary forces, controlled by the diffusion constant which relates to the sorptivity (suction) in the soil $S_P$ [L T<sup>-0.5</sup>]:\n",
    "\n",
    "$$\n",
    "\\begin{equation}\n",
    "S_P = \\left( 2\\:K_S\\:\\theta_e\\;\\left|\\:h_f\\:\\right|\\;\\right)^{0.5}  \\tag{2} \\label{eq:2}\n",
    "\\end{equation}\n",
    "$$\n",
    "\n",
    "Where $h_f$ [L] is the soil suction head at the wetting front, and $\\theta_e$ [*] is the effective porosity of the soil (total porosity minus the residual water content)."
   ]
  },
  {
   "cell_type": "code",
   "execution_count": 31,
   "metadata": {},
   "outputs": [
    {
     "data": {
      "text/plain": [
       "(0.0, 4.36)"
      ]
     },
     "execution_count": 31,
     "metadata": {},
     "output_type": "execute_result"
    },
    {
     "data": {
      "image/png": "[encoded data removed]",
      "text/plain": [
       "<matplotlib.figure.Figure at 0x180fc7d0d30>"
      ]
     },
     "metadata": {},
     "output_type": "display_data"
    }
   ],
   "source": [
    "# import some modules that we will need for numerical calculations and for plotting\n",
    "%matplotlib inline\n",
    "import matplotlib.pyplot as plt\n",
    "import numpy as np\n",
    "\n",
    "# soil properties for a sandy loam soil\n",
    "K_s = 1.09 # Saturated conductivity(cm/hour)\n",
    "theta_e = 0.412 # effective porosity (cm3/cm3)\n",
    "h_f = 11.01 # wetting front soil suction head (cm)\n",
    "\n",
    "# calculate sorpivity according to equation 2\n",
    "S_p = (2.*K_s*theta_e*h_f)**0.5 \n",
    "\n",
    "# infiltration rate through time according to equation 1\n",
    "tmax = 24. # maximum time in hours\n",
    "tstep = 0.1 # timesteps for plotting in hours\n",
    "time = np.arange(tstep,tmax,tstep) # a range of time from tstep to tmax, separated by tsteps\n",
    "I = K_s+0.5*S_p*time**(-0.5)\n",
    "\n",
    "# plot the result\n",
    "plt.figure(figsize=(6,4))\n",
    "plt.plot(time,I,'b-')\n",
    "plt.text(tmax*0.7,I[-1]*1.1,'Infiltration Rate')\n",
    "plt.plot([0,tmax],[K_s,K_s],'k--') \n",
    "plt.text(1,K_s*1.1,'Saturated Conductivity')\n",
    "plt.xlabel('Time (hours)')\n",
    "plt.ylabel('Infiltration rate (cm/hr)')\n",
    "plt.xlim(0,tmax)\n",
    "plt.ylim(0.,4.*K_s)"
   ]
  }
 ],
 "metadata": {
  "kernelspec": {
   "display_name": "Python 3",
   "language": "python",
   "name": "python3"
  },
  "language_info": {
   "codemirror_mode": {
    "name": "ipython",
    "version": 3
   },
   "file_extension": ".py",
   "mimetype": "text/x-python",
   "name": "python",
   "nbconvert_exporter": "python",
   "pygments_lexer": "ipython3",
   "version": "3.6.1"
  }
 },
 "nbformat": 4,
 "nbformat_minor": 2
}
