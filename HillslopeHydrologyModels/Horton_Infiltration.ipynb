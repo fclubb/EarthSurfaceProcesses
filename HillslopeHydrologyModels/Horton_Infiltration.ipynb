{
 "cells": [
  {
   "cell_type": "markdown",
   "metadata": {},
   "source": [
    "# Horton Infiltration"
   ]
  },
  {
   "cell_type": "markdown",
   "metadata": {},
   "source": [
    "Horton (1933) proposed an empirically-verified function for infiltration capacity $I$ [L/T] during a storm:\n",
    "\n",
    "$$\n",
    "\\begin{equation}\n",
    "I(t) = I_c + \\left(I_0 - I_c\\right)e^{-kt} \\tag{1} \\label{eq:1}\n",
    "\\end{equation}\n",
    "$$\n",
    "\n",
    "as a funcion of the initial maximum infiltration rate at the start of a storm $I_0$ [L/T], the limiting, steady, minimum infiltration rate $I_c$ [L/T] (equivalent to saturated hydraulic conductivity), a permeability constant $k$ [T<sup>-1</sup>] specific to soil type, and time $t$ [T]. "
   ]
  },
  {
   "cell_type": "code",
   "execution_count": 12,
   "metadata": {},
   "outputs": [
    {
     "data": {
      "text/plain": [
       "(0.0, 6.540000000000001)"
      ]
     },
     "execution_count": 12,
     "metadata": {},
     "output_type": "execute_result"
    },
    {
     "data": {
      "image/png": "[encoded data removed]",
      "text/plain": [
       "<matplotlib.figure.Figure at 0x23f5549fe80>"
      ]
     },
     "metadata": {},
     "output_type": "display_data"
    }
   ],
   "source": [
    "# import some modules that we will need for numerical calculations and for plotting\n",
    "%matplotlib inline\n",
    "import matplotlib.pyplot as plt\n",
    "import numpy as np\n",
    "\n",
    "# soil properties for a sandy loam soil\n",
    "I_c = 1.09 # Saturated conductivity(cm/hour)\n",
    "I_0 = 6.*I_c # Initial infiltration rate\n",
    "k = 0.5 # permeability const hr^-1\n",
    "\n",
    "# infiltration rate through time according to equation 1\n",
    "tmax = 24. # maximum time in hours\n",
    "tstep = 0.1 # timesteps for plotting in hours\n",
    "time = np.arange(tstep,tmax,tstep) # a range of time from tstep to tmax, separated by tsteps\n",
    "I = I_c+(I_0-I_c)*np.exp(-k*time)\n",
    "\n",
    "# plot the result\n",
    "plt.figure(figsize=(6,4))\n",
    "plt.plot(time,I,'b-')\n",
    "plt.text(tmax*0.05,I_0*0.9,'Infiltration Rate',color='b')\n",
    "plt.plot([0,tmax],[I_c,I_c],'k--') \n",
    "plt.text(1,I_c*0.7,'Saturated Conductivity')\n",
    "plt.xlabel('Time (hours)')\n",
    "plt.ylabel('Infiltration rate (cm/hr)')\n",
    "plt.xlim(0,tmax)\n",
    "plt.ylim(0.,6.*I_c)"
   ]
  },
  {
   "cell_type": "code",
   "execution_count": null,
   "metadata": {
    "collapsed": true
   },
   "outputs": [],
   "source": []
  }
 ],
 "metadata": {
  "kernelspec": {
   "display_name": "Python 3",
   "language": "python",
   "name": "python3"
  },
  "language_info": {
   "codemirror_mode": {
    "name": "ipython",
    "version": 3
   },
   "file_extension": ".py",
   "mimetype": "text/x-python",
   "name": "python",
   "nbconvert_exporter": "python",
   "pygments_lexer": "ipython3",
   "version": "3.6.1"
  }
 },
 "nbformat": 4,
 "nbformat_minor": 2
}
