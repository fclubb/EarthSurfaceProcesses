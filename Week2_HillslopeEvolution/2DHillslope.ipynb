{
  "nbformat": 4,
  "nbformat_minor": 0,
  "metadata": {
    "anaconda-cloud": {},
    "kernelspec": {
      "display_name": "Python 3",
      "language": "python",
      "name": "python3"
    },
    "language_info": {
      "codemirror_mode": {
        "name": "ipython",
        "version": 3
      },
      "file_extension": ".py",
      "mimetype": "text/x-python",
      "name": "python",
      "nbconvert_exporter": "python",
      "pygments_lexer": "ipython3",
      "version": "3.8.0"
    },
    "colab": {
      "name": "2DHillslope.ipynb",
      "provenance": [],
      "include_colab_link": true
    }
  },
  "cells": [
    {
      "cell_type": "markdown",
      "metadata": {
        "id": "view-in-github",
        "colab_type": "text"
      },
      "source": [
        "<a href=\"https://colab.research.google.com/github/fclubb/EarthSurfaceProcesses/blob/master/Week2_HillslopeEvolution/2DHillslope.ipynb\" target=\"_parent\"><img src=\"https://colab.research.google.com/assets/colab-badge.svg\" alt=\"Open In Colab\"/></a>"
      ]
    },
    {
      "cell_type": "markdown",
      "metadata": {
        "id": "DJbUcxnW3Er9"
      },
      "source": [
        "# Hillslope evolution in 2D using Landlab\n",
        "\n",
        "_This notebook is adapted from Landscape Evolution Modeling with CHILD by Gregory Tucker and Stephen Lancaster, and from the Landlab notebook by Nicole Gasparini at Tulane University._\n",
        "\n",
        "Last year in Mountain Landscapes, you simulated how a simple hillslope would evolve via both linear and non-linear hillslope diffusion. You did this in 1D - you had one cross section of a hillslope. You can see how you already managed to explore a lot of interesting things about hillslope morphology from this 1D approach!\n",
        "\n",
        "But what if we're interested in how hillslopes interact with each other or with the channel network, or how morphology varies spatially? To look at that, we need to move beyond one to two dimensions - where we are simulating hillslopes in both an X and a Y dimension. To do that, we are going to use the _Landlab_ numerical model. Landlab is a piece of software that has been developed to model landscapes in Python. It is very flexible: we can choose to simulate lots of different processes all within one piece of software. You will be using Landlab later in the module to simulate channel processes as well. \n",
        "\n",
        "You also have the option of using Landlab to complete your independent project report (more on that later). \n",
        "\n",
        "## Quick reminder:\n",
        "\n",
        "**To run a code block, click in a cell, hold down shift, and press enter.** An asterisk in square brackets `In [*]:` will appear while the code is being executed, and this will change to a number `[1]:` when the code is finished. *The order in which you execute the code blocks matters, they must be run in sequence.* \n",
        "\n",
        "### Working through the practical\n",
        "\n",
        "To work through this notebook, firstly:\n",
        "1. **COPY THE NOTEBOOK TO YOUR GOOGLE DRIVE** using the \"Copy to Drive\" button at the top of the page. \n",
        "2. Read through the instructions and execute each code block cell by clicking `Shift and Enter` to see what it does.\n",
        "3. Do the exercises set out throughout notebook.\n",
        "4. Save the figures and keep them for the next session.\n",
        "\n"
      ]
    },
    {
      "cell_type": "markdown",
      "metadata": {
        "id": "7sRFXdil3Er9"
      },
      "source": [
        "<hr>\n",
        "For tutorials on learning Landlab, click here: <a href=\"https://github.com/landlab/landlab/wiki/Tutorials\">https://github.com/landlab/landlab/wiki/Tutorials</a>\n",
        "<hr>\n"
      ]
    },
    {
      "cell_type": "markdown",
      "metadata": {
        "id": "6U20oPIt3Er-"
      },
      "source": [
        "**Linear diffusion**\n",
        "\n",
        "Just like last year, we will start by exploring how hillslope morphology evolves when we use the linear diffusion law. You should remember that this takes the form: \n",
        "\n",
        "$$\n",
        "\\begin{equation}\n",
        "q_s = DS \\qquad \\textrm{where} \\qquad S = {{dz}\\over{dx}}\n",
        "\\end{equation}\n",
        "$$\n",
        "Note that $z$ denotes elevation at the surface and $x$ distance along the hillslope, so the slope is related to the hillslope angle. \n",
        " \n",
        "Changes in elevation, or erosion, are calculated from conservation of mass:\n",
        "\\begin{equation}\n",
        "\\frac{dz}{dt} = U-\\nabla q_s\n",
        "\\end{equation}\n",
        "where $U$ is the rock uplift rate, with dimensions LT$^{-1}$.\n",
        "\n",
        "**How will we explore this with Landlab?**\n",
        "\n",
        "We will use the Landlab component *LinearDiffuser*, which implements the equations above, to explore how hillslopes evolve when linear diffusion describes hillslope sediment transport. We will explore both steady state, here defined as erosion rate equal to rock uplift rate, and also how a landscape gets to steady state.\n",
        "\n",
        "The first example illustrates how to set-up the model and evolve a hillslope to steady state, along with how to plot some variables of interest. We assume that you have knowledge of how to derive the steady-state form of a uniformly uplifting, steady-state, diffusive hillslope. For more information on hillslope sediment transport laws, this paper is a great overview:\n",
        "\n",
        "------------\n",
        "\n",
        "Roering, J. (2008) How well can hillslope evolution models “explain” topography? Simulating soil transport and production with high-resolution topographic data. *Geological Society of America Bulletin.*\n",
        "\n",
        "-----------\n",
        "\n",
        "Based on the first example, you are asked to first think about what will happen as you change a parameter, and then you explore this numerically by changing the code.\n",
        "\n",
        "Start at the top by reading each block of text and sequentially running each code block (shift - enter OR got to the _Cell_ pulldown menu at the top and choose _Run Cells_). \n",
        "\n",
        "Remember that you can always go to the _Kernel_ pulldown menu at the top and choose _Restart & Clear Output_ or _Restart & Run All_ if you change things and want to start afresh. If you just change one code block and rerun only that code block, only the parts of the code in that code block will be updated. (E.g. if you change parameters but don't reset the code blocks that initialize run time or topography, then these values will not be reset.) "
      ]
    },
    {
      "cell_type": "markdown",
      "metadata": {
        "id": "jIc6_hUj5Bwy"
      },
      "source": [
        "## Installing Landlab\n",
        "Google Colab doesn't have landlab installed automatically, so we will have to run some code to install it. To do that, run the below code block. This will output a lot of text which you can ignore.\n",
        "**You should only need to do this once when you start the notebook up - if you restart the runtime, then there is no need to re-run this code block**"
      ]
    },
    {
      "cell_type": "code",
      "metadata": {
        "id": "pRKmM0Iv5Im4"
      },
      "source": [
        "!pip install numpy==1.20.1 &> /dev/null\n",
        "!pip install landlab &> /dev/null"
      ],
      "execution_count": null,
      "outputs": []
    },
    {
      "cell_type": "markdown",
      "metadata": {
        "id": "lhqaSiPb3Er-"
      },
      "source": [
        "**Now on to the code example**\n",
        "\n",
        "Import statements. You should not need to edit this.\n"
      ]
    },
    {
      "cell_type": "code",
      "metadata": {
        "id": "Yy99-orn3Er_"
      },
      "source": [
        "# below is to make plots show up in the notebook\n",
        "%matplotlib inline"
      ],
      "execution_count": null,
      "outputs": []
    },
    {
      "cell_type": "markdown",
      "metadata": {
        "id": "-PZ5SuLGjK0Z"
      },
      "source": [
        "**IF YOU GET AN ERROR HERE, click on \"Runtime\" in the top menu, and then \"Restart runtime\". Then try running this cell again.**"
      ]
    },
    {
      "cell_type": "code",
      "metadata": {
        "id": "2n5CGzqN3EsA"
      },
      "source": [
        "# Code Block 1\n",
        "\n",
        "import numpy as np\n",
        "from matplotlib.pyplot import figure, legend, plot, show, title, xlabel, ylabel, ylim\n",
        "\n",
        "from landlab.plot.imshow import imshow_grid"
      ],
      "execution_count": null,
      "outputs": []
    },
    {
      "cell_type": "markdown",
      "metadata": {
        "id": "5ar--FJ93EsA"
      },
      "source": [
        "We will create a grid with 50 rows and 50 columns, and dx (the model resolution, or size of each pixel) is 5 m. The initial elevation is 0 at all nodes.\n",
        "\n",
        "We set-up boundary conditions so that material can leave the hillslope at the two short ends."
      ]
    },
    {
      "cell_type": "code",
      "metadata": {
        "id": "xicTVG_93EsB"
      },
      "source": [
        "# Code Block 2\n",
        "\n",
        "# setup grid\n",
        "from landlab import RasterModelGrid\n",
        "\n",
        "mg = RasterModelGrid((50, 50), 5.0)\n",
        "z_vals = mg.add_zeros(\"topographic__elevation\", at=\"node\")\n",
        "\n",
        "# initialize some values for plotting\n",
        "ycoord_rast = mg.node_vector_to_raster(mg.node_y)\n",
        "ys_grid = ycoord_rast[:, 2]\n",
        "\n",
        "# set boundary condition.\n",
        "mg.set_closed_boundaries_at_grid_edges(True, False, True, False)"
      ],
      "execution_count": null,
      "outputs": []
    },
    {
      "cell_type": "markdown",
      "metadata": {
        "id": "Gye7Fq0v3EsB"
      },
      "source": [
        "Now we import and initialize the *LinearDiffuser* component. \n",
        "\n",
        "IMPORTANT: In this block we set the \"D\" parameter which is the diffusivity parameter in the linear hillslope equation."
      ]
    },
    {
      "cell_type": "code",
      "metadata": {
        "id": "P_UQAJVm3EsC"
      },
      "source": [
        "# Code Block 3\n",
        "\n",
        "from landlab.components import LinearDiffuser\n",
        "\n",
        "D = 0.01  # initial value of 0.01 m^2/yr\n",
        "lin_diffuse = LinearDiffuser(mg, linear_diffusivity=D)"
      ],
      "execution_count": null,
      "outputs": []
    },
    {
      "cell_type": "markdown",
      "metadata": {
        "id": "Wf5n6XAm3EsC"
      },
      "source": [
        "We now initialize a few more parameters."
      ]
    },
    {
      "cell_type": "code",
      "metadata": {
        "id": "h1Wc08L83EsD"
      },
      "source": [
        "# Code Block 4\n",
        "\n",
        "# Uniform rate of rock uplift\n",
        "uplift_rate = 0.0001  # meters/year, originally set to 0.0001\n",
        "\n",
        "# Total time in years that the model will run for.\n",
        "runtime = 1000000  # years, originally set to 1,000,000\n",
        "\n",
        "# Stability criteria for timestep dt.  Coefficient can be changed\n",
        "# depending on our tolerance for stability vs tolerance for run time.\n",
        "dt = 0.5 * mg.dx * mg.dx / D\n",
        "\n",
        "# nt is number of time steps\n",
        "nt = int(runtime // dt)\n",
        "\n",
        "# Below is to keep track of time for labeling plots\n",
        "time_counter = 0\n",
        "\n",
        "# length of uplift over a single time step, meters\n",
        "uplift_per_step = uplift_rate * dt"
      ],
      "execution_count": null,
      "outputs": []
    },
    {
      "cell_type": "markdown",
      "metadata": {
        "id": "WYOn2HyA3EsD"
      },
      "source": [
        "Now we figure out the analytical solution for the elevation of the steady-state profile. \n",
        "\n",
        "This step basically tells us what topography we would expect our hillslope to have just based on the equation, without doing any numerical modelling. It predicts the STEADY STATE hillslope morphology: once erosion of the hillslope has adjusted to account for the rate of uplift, the morphology of the hillslope shouldn't change through time."
      ]
    },
    {
      "cell_type": "code",
      "metadata": {
        "id": "-lJo3SCu3EsD"
      },
      "source": [
        "# Code Block 5\n",
        "\n",
        "ys = np.arange(mg.number_of_node_rows * mg.dx - mg.dx)\n",
        "\n",
        "# location of divide or ridge crest -> middle of grid\n",
        "# based on boundary conds.\n",
        "divide_loc = (mg.number_of_node_rows * mg.dx - mg.dx) / 2\n",
        "\n",
        "# half-width of the ridge\n",
        "half_width = (mg.number_of_node_rows * mg.dx - mg.dx) / 2\n",
        "\n",
        "# analytical solution for elevation under linear diffusion at steady state\n",
        "zs = (uplift_rate / (2 * D)) * (np.power(half_width, 2) - np.power(ys - divide_loc, 2))"
      ],
      "execution_count": null,
      "outputs": []
    },
    {
      "cell_type": "markdown",
      "metadata": {
        "id": "qz3zDtHO3EsE"
      },
      "source": [
        "Before we evolve the landscape, let's look at the initial topography. The first figure shows a map view of our hillslope coloured by elevation, while the second figure shows you a cross section from north to south across the model domain (The red line, just verifying that it is flat with zero elevation)."
      ]
    },
    {
      "cell_type": "code",
      "metadata": {
        "id": "gBp_TE303EsE"
      },
      "source": [
        "# Code Block 6\n",
        "\n",
        "figure(1)\n",
        "imshow_grid(mg, \"topographic__elevation\")\n",
        "title(\"initial topography\")\n",
        "figure(2)\n",
        "elev_rast = mg.node_vector_to_raster(mg.at_node[\"topographic__elevation\"])\n",
        "plot(ys_grid, elev_rast[:, 2], \"r-\", label=\"model\")\n",
        "plot(ys, zs, \"k--\", label=\"analytical solution\")\n",
        "ylim((-5, 50))  # may want to change upper limit if D changes\n",
        "xlabel(\"horizontal distance (m)\")\n",
        "ylabel(\"vertical distance (m)\")\n",
        "legend(loc=\"lower center\")\n",
        "title(\"initial topographic cross section\")"
      ],
      "execution_count": null,
      "outputs": []
    },
    {
      "cell_type": "markdown",
      "metadata": {
        "id": "0iDGBacF3EsE"
      },
      "source": [
        "Now we are ready to evolve the landscape and compare it to the steady state solution.\n",
        "\n",
        "Below is the time loop that does all the calculations. "
      ]
    },
    {
      "cell_type": "code",
      "metadata": {
        "id": "N4Wxtybt3EsE"
      },
      "source": [
        "# Code Block 7\n",
        "\n",
        "for i in range(nt):\n",
        "    mg[\"node\"][\"topographic__elevation\"][mg.core_nodes] += uplift_per_step\n",
        "    lin_diffuse.run_one_step(dt)\n",
        "    time_counter += dt\n",
        "\n",
        "    # All landscape evolution is the first two lines of loop.\n",
        "    # Below is simply for plotting the topography halfway through the run\n",
        "    if i == int(nt // 2):\n",
        "        figure(1)\n",
        "        imshow_grid(mg, \"topographic__elevation\")\n",
        "        title(\"topography at time %s, with D = %s\" % (time_counter, D))\n",
        "        figure(2)\n",
        "        elev_rast = mg.node_vector_to_raster(mg.at_node[\"topographic__elevation\"])\n",
        "        plot(ys_grid, elev_rast[:, 2], \"k-\", label=\"model\")\n",
        "        plot(ys, zs, \"g--\", label=\"analytical solution - SS\")\n",
        "        plot(ys, zs * 0.75, \"b--\", label=\"75% of analytical solution\")\n",
        "        plot(ys, zs * 0.5, \"r--\", label=\"50% of analytical solution\")\n",
        "        xlabel(\"horizontal distance (m)\")\n",
        "        ylabel(\"vertical distance (m)\")\n",
        "        legend(loc=\"lower center\")\n",
        "        title(\"topographic__elevation at time %s, with D = %s\" % (time_counter, D))"
      ],
      "execution_count": null,
      "outputs": []
    },
    {
      "cell_type": "markdown",
      "metadata": {
        "id": "wyIABing3EsE"
      },
      "source": [
        "Now we plot the final cross-section."
      ]
    },
    {
      "cell_type": "code",
      "metadata": {
        "id": "BjbQDxWz3EsF"
      },
      "source": [
        "# Code Block 8\n",
        "\n",
        "elev_rast = mg.node_vector_to_raster(mg.at_node[\"topographic__elevation\"])\n",
        "plot(ys_grid, elev_rast[:, 2], \"k-\", label=\"model\")\n",
        "plot(ys, zs, \"g--\", label=\"analytical solution - SS\")\n",
        "plot(ys, zs * 0.75, \"b--\", label=\"75% of analytical solution\")\n",
        "plot(ys, zs * 0.5, \"r--\", label=\"50% of analytical solution\")\n",
        "xlabel(\"horizontal distance (m)\")\n",
        "ylabel(\"vertical distance (m)\")\n",
        "legend(loc=\"lower center\")\n",
        "title(\"topographic cross section at time %s, with D = %s\" % (time_counter, D))"
      ],
      "execution_count": null,
      "outputs": []
    },
    {
      "cell_type": "markdown",
      "metadata": {
        "id": "T_HyAJUw3EsF"
      },
      "source": [
        "Now we plot the steepest slope in the downward direction across the landscape.\n",
        "\n",
        "(To calculate the steepest slope at a location, we need to route flow across the landscape.)"
      ]
    },
    {
      "cell_type": "code",
      "metadata": {
        "id": "Vebhp_xy3EsF"
      },
      "source": [
        "# Code Block 9\n",
        "\n",
        "from landlab.components import FlowAccumulator\n",
        "\n",
        "fr = FlowAccumulator(mg)  # intializing flow routing\n",
        "fr.run_one_step()\n",
        "plot(\n",
        "    mg.node_y[mg.core_nodes],\n",
        "    mg.at_node[\"topographic__steepest_slope\"][mg.core_nodes],\n",
        "    \"k-\",\n",
        ")\n",
        "xlabel(\"horizontal distance (m)\")\n",
        "ylabel(\"topographic slope (m/m)\")\n",
        "title(\"slope of the hillslope at time %s, with D = %s\" % (time_counter, D))"
      ],
      "execution_count": null,
      "outputs": []
    },
    {
      "cell_type": "markdown",
      "metadata": {
        "id": "aOYuE-643EsF"
      },
      "source": [
        "Has the landscape reached steady state yet? How do you know?\n",
        "\n",
        "\n",
        "\n",
        "\n",
        "\n",
        "\n",
        "\n",
        "Answer: Not quite, but it is getting close. Go back and rerun Code Blocks 7, 8 and 9 (time loop and plotting). (Remember you can rerun a cell with shift-return, or from the cell pull-down menu.) Has it reached steady state yet?  "
      ]
    },
    {
      "cell_type": "markdown",
      "metadata": {
        "id": "UZsU5JNQ3EsF"
      },
      "source": [
        "**Exercises:**\n",
        "1. In the example illustrated here: $D$ = 0.01 m$^2$yr$^{-1}$, and $U$ = 0.0001 m yr$^{-1}$. Restart everything, and use the model to determine how long it takes for the landscape to go from a flat to reach 50%, 75% and 100% of its steady-state morphology. Does the landscape approach steady state linearly in time? (You can run the time loop (Code Block 7) multiple times without running other code blocks again to continually evolve the landscape. You will initially want to rerun all the code blocks and change the value of **run_time** (Code Block 4). Determining the correct value of **run_time** to use will take some iteration.\n",
        "2. What do you think will happen when you increase $D$ (Code Block 3) by a factor of 10? Will the time to steady state differ? If yes, how? Will the topography be different? If yes, how and why? What does it mean physically, about processes, if $D$ increases? Answer these questions before running any code. \n",
        "3. Now set $D$ = 0.1 m$^2$yr$^{-1}$ and rerun landscape evolution from an initial flat. Illustrate the final steady state topography and record the time to steady state. Discuss how the landscape differs from the results in question 1. Discuss how the results are similar to or different from your intuition. It is OK if your intuition was wrong! \n",
        "4. What do you think will happen when you increase **uplift_rate** (Code Block 4) by a factor of 10? Will the time to steady state differ? If yes, how? Will the topography be different? If yes, how and why? Answer these questions first, and then rerun the code with **uplift_rate** = 0.001 m yr$^{-1}$. (Make sure you change $D$ - Code Block 3 - back to the original value of 0.01 m$^2$yr$^{-1}$ and restart from a flat surface.) Illustrate the final steady state topography. Discuss how these results differ from the results in question 1 and how the results match (or do not) your intuition. It is OK if your intuition was wrong.\n",
        "\n",
        "These exercises will not be assessed, but understanding how numerical models work and the concepts of steady state plus hillslope diffusion are really important for the rest of the module. You can also use some of the material from these notebooks for your independent project.\n"
      ]
    },
    {
      "cell_type": "markdown",
      "metadata": {
        "id": "l120JG-Z6bqe"
      },
      "source": [
        "--------------\n",
        "## Some extra code that can be helpful for projects\n",
        "\n",
        "### Saving the model topography as a DEM\n",
        "\n",
        "If you want to create a DEM of the topography that you have made, you can save it as an ASCII file (the file should end in .asc). You can then load the topography into a GIS to do extra analyses if you like. To do that, specify the filename you want to use here and then run the cell block. You will then need to download the DEM from Google Colab"
      ]
    },
    {
      "cell_type": "code",
      "metadata": {
        "id": "HGHOI9qq6hxW"
      },
      "source": [
        "# Code Block 10 \n",
        "\n",
        "from landlab.io import write_esri_ascii\n",
        "\n",
        "write_file_name = '2D_Hillslope_topography_linear.asc'\n",
        "# Below is writing elevation data in the ESRI ascii format so that it can\n",
        "# easily be read into Arc GIS or back into Landlab.\n",
        "write_esri_ascii(write_file_name, mg, 'topographic__elevation')\n",
        "\n",
        "# write the steepest slope to a DEM\n",
        "write_slope_name = '2D_Hillslope_steepest_slope_linear.asc'\n",
        "write_esri_ascii(write_slope_name, mg, 'topographic__steepest_slope')"
      ],
      "execution_count": null,
      "outputs": []
    },
    {
      "cell_type": "markdown",
      "metadata": {
        "id": "FuyFimk67Mbz"
      },
      "source": [
        "-----------------------\n",
        "### Running the model with non-linear diffusion\n",
        "\n",
        "To run the model using the non-linear diffusion model, you can use the code below."
      ]
    },
    {
      "cell_type": "markdown",
      "metadata": {
        "id": "_bYv49wh-1X7"
      },
      "source": [
        "We will create a grid with 50 rows and 50 columns, and dx (the model resolution, or size of each pixel) is 5 m. The initial elevation is 0 at all nodes.\n",
        "\n",
        "We set-up boundary conditions so that material can leave the hillslope at the two short ends."
      ]
    },
    {
      "cell_type": "code",
      "metadata": {
        "id": "vPTsmvNY-1YH"
      },
      "source": [
        "# Code Block 11\n",
        "\n",
        "# setup grid\n",
        "from landlab import RasterModelGrid\n",
        "\n",
        "mg = RasterModelGrid((50, 50), 5.0)\n",
        "z_vals = mg.add_zeros(\"topographic__elevation\", at=\"node\")\n",
        "\n",
        "# initialize some values for plotting\n",
        "ycoord_rast = mg.node_vector_to_raster(mg.node_y)\n",
        "ys_grid = ycoord_rast[:, 2]\n",
        "\n",
        "# set boundary condition.\n",
        "mg.set_closed_boundaries_at_grid_edges(True, False, True, False)"
      ],
      "execution_count": null,
      "outputs": []
    },
    {
      "cell_type": "markdown",
      "metadata": {
        "id": "56wY4BFq-1YI"
      },
      "source": [
        "Now we import and initialize the *NonLinearDiffuser* component. "
      ]
    },
    {
      "cell_type": "code",
      "metadata": {
        "id": "ZBhvQL1c-1YI"
      },
      "source": [
        "# Code Block 12\n",
        "\n",
        "from landlab.components import TaylorNonLinearDiffuser\n",
        "\n",
        "S_C = 0.1 # set the critical slope value here\n",
        "D = 0.01  # initial value of 0.01 m^2/yr\n",
        "\n",
        "cubicflux = TaylorNonLinearDiffuser(mg, slope_crit=S_C, linear_diffusivity=D, dynamic_dt=True)"
      ],
      "execution_count": null,
      "outputs": []
    },
    {
      "cell_type": "markdown",
      "metadata": {
        "id": "4uPSHIBi-1YI"
      },
      "source": [
        "We now initialize a few more parameters."
      ]
    },
    {
      "cell_type": "code",
      "metadata": {
        "id": "fTUGfxz--1YI"
      },
      "source": [
        "# Code Block 13\n",
        "\n",
        "# Uniform rate of rock uplift\n",
        "uplift_rate = 0.0001  # meters/year, originally set to 0.0001\n",
        "\n",
        "# Total time in years that the model will run for.\n",
        "runtime = 1000000  # years, originally set to 1,000,000\n",
        "\n",
        "# Stability criteria for timestep dt.  Coefficient can be changed\n",
        "# depending on our tolerance for stability vs tolerance for run time.\n",
        "dt = 0.5 * mg.dx * mg.dx / D\n",
        "\n",
        "# nt is number of time steps\n",
        "nt = int(runtime // dt)\n",
        "\n",
        "# Below is to keep track of time for labeling plots\n",
        "time_counter = 0\n",
        "\n",
        "# length of uplift over a single time step, meters\n",
        "uplift_per_step = uplift_rate * dt"
      ],
      "execution_count": null,
      "outputs": []
    },
    {
      "cell_type": "markdown",
      "metadata": {
        "id": "SvvO5bEp-1YI"
      },
      "source": [
        "Before we evolve the landscape, let's look at the initial topography. (This is just verifying that it is flat with zero elevation.)"
      ]
    },
    {
      "cell_type": "code",
      "metadata": {
        "id": "wzWLbiem-1YJ"
      },
      "source": [
        "# Code Block 14\n",
        "\n",
        "figure(1)\n",
        "imshow_grid(mg, \"topographic__elevation\")\n",
        "title(\"initial topography\")\n",
        "elev_rast = mg.node_vector_to_raster(mg.at_node[\"topographic__elevation\"])"
      ],
      "execution_count": null,
      "outputs": []
    },
    {
      "cell_type": "markdown",
      "metadata": {
        "id": "oqzZDLHA-1YJ"
      },
      "source": [
        "Now we are ready to evolve the landscape and compare it to the steady state solution.\n",
        "\n",
        "Below is the time loop that does all the calculations. "
      ]
    },
    {
      "cell_type": "code",
      "metadata": {
        "id": "kHUKJIW_-1YJ"
      },
      "source": [
        "# Code Block 15\n",
        "\n",
        "for i in range(nt):\n",
        "    mg[\"node\"][\"topographic__elevation\"][mg.core_nodes] += uplift_per_step\n",
        "    cubicflux.run_one_step(dt)\n",
        "    time_counter += dt\n",
        "\n",
        "    # All landscape evolution is the first two lines of loop.\n",
        "    # Below is simply for plotting the topography halfway through the run\n",
        "    if i == int(nt // 2):\n",
        "        figure(1)\n",
        "        imshow_grid(mg, \"topographic__elevation\")\n",
        "        title(\"topography at time %s, with D = %s\" % (time_counter, D))\n",
        "        figure(2)\n",
        "        elev_rast = mg.node_vector_to_raster(mg.at_node[\"topographic__elevation\"])\n",
        "        plot(ys_grid, elev_rast[:, 2], \"k-\", label=\"Model elevation\")\n",
        "        xlabel(\"horizontal distance (m)\")\n",
        "        ylabel(\"vertical distance (m)\")\n",
        "        legend(loc=\"lower center\")\n",
        "        title(\"topographic__elevation at time %s, with D = %s\" % (time_counter, D))"
      ],
      "execution_count": null,
      "outputs": []
    },
    {
      "cell_type": "markdown",
      "metadata": {
        "id": "QGzNlCjE-1YJ"
      },
      "source": [
        "Now we plot the final cross-section."
      ]
    },
    {
      "cell_type": "code",
      "metadata": {
        "id": "m8N6EqYA-1YJ"
      },
      "source": [
        "# Code Block 16\n",
        "\n",
        "elev_rast = mg.node_vector_to_raster(mg.at_node[\"topographic__elevation\"])\n",
        "plot(ys_grid, elev_rast[:, 2], \"k-\", label=\"Model elevation\")\n",
        "xlabel(\"horizontal distance (m)\")\n",
        "ylabel(\"vertical distance (m)\")\n",
        "legend(loc=\"lower center\")\n",
        "title(\"topographic cross section at time %s, with D = %s\" % (time_counter, D))"
      ],
      "execution_count": null,
      "outputs": []
    },
    {
      "cell_type": "markdown",
      "metadata": {
        "id": "SL3TtfBB-1YJ"
      },
      "source": [
        "Now we plot the steepest slope in the downward direction across the landscape.\n",
        "\n",
        "(To calculate the steepest slope at a location, we need to route flow across the landscape.)"
      ]
    },
    {
      "cell_type": "code",
      "metadata": {
        "id": "zQytoJ7d-1YJ"
      },
      "source": [
        "# Code Block 17\n",
        "\n",
        "from landlab.components import FlowAccumulator\n",
        "\n",
        "fr = FlowAccumulator(mg)  # intializing flow routing\n",
        "fr.run_one_step()\n",
        "plot(\n",
        "    mg.node_y[mg.core_nodes],\n",
        "    mg.at_node[\"topographic__steepest_slope\"][mg.core_nodes],\n",
        "    \"k-\",\n",
        ")\n",
        "xlabel(\"horizontal distance (m)\")\n",
        "ylabel(\"topographic slope (m/m)\")\n",
        "title(\"slope of the hillslope at time %s, with D = %s\" % (time_counter, D))"
      ],
      "execution_count": null,
      "outputs": []
    },
    {
      "cell_type": "markdown",
      "metadata": {
        "id": "qszByFIiA7G4"
      },
      "source": [
        "Now save the elevation and slope as DEMs"
      ]
    },
    {
      "cell_type": "code",
      "metadata": {
        "id": "RuneYcyUA6ND"
      },
      "source": [
        "# Code Block 10 \n",
        "\n",
        "from landlab.io import write_esri_ascii\n",
        "\n",
        "write_file_name = '2D_Hillslope_topography_nonlinear.asc'\n",
        "# Below is writing elevation data in the ESRI ascii format so that it can\n",
        "# easily be read into Arc GIS or back into Landlab.\n",
        "write_esri_ascii(write_file_name, mg, 'topographic__elevation')\n",
        "\n",
        "# write the steepest slope to a DEM\n",
        "write_slope_name = '2D_Hillslope_steepest_slope_nonlinear.asc'\n",
        "write_esri_ascii(write_slope_name, mg, 'topographic__steepest_slope')"
      ],
      "execution_count": null,
      "outputs": []
    }
  ]
}